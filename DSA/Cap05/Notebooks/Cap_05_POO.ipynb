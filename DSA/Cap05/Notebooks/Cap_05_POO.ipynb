{
 "cells": [
  {
   "cell_type": "code",
   "execution_count": 3,
   "id": "2ceeb0a3",
   "metadata": {},
   "outputs": [],
   "source": [
    "# Curso Python Fundamentos para Análise de Dados - DSA\n",
    "# Programação Orientada a Objetos - 05.10.22 - 23h08"
   ]
  },
  {
   "cell_type": "code",
   "execution_count": 18,
   "id": "32551b16",
   "metadata": {},
   "outputs": [],
   "source": [
    "# Criando uma classe\n",
    "class Livro():\n",
    "    \n",
    "    \n",
    "    \n",
    "    # Métodos\n",
    "    # init- construtor, responsavel por inicializar a classe.\n",
    "    def __init__(self):\n",
    "        \n",
    "        # Dois atributos\n",
    "        # Self, indica que são atributos do objeto\n",
    "        self.titulo = \"Python - Fundamentos para Analise De Dados. \"\n",
    "        self.isbn = 99887766\n",
    "        print(\"Construtor chamado para criar um objeto desta frase.\")\n",
    "    \n",
    "    # Metodos - funcoes\n",
    "    def imprime(self):\n",
    "        print(\"Foi criado o livro %s e ISBN %d\" %(self.titulo, self.isbn))\n",
    "        \n",
    "    \n",
    "    \n",
    "    "
   ]
  },
  {
   "cell_type": "code",
   "execution_count": 19,
   "id": "f6de6c3f",
   "metadata": {},
   "outputs": [
    {
     "name": "stdout",
     "output_type": "stream",
     "text": [
      "Construtor chamado para criar um objeto desta frase.\n"
     ]
    }
   ],
   "source": [
    "# Instanciar a classe\n",
    "\n",
    "Livro22 = Livro()"
   ]
  },
  {
   "cell_type": "code",
   "execution_count": 7,
   "id": "a1d6ee36",
   "metadata": {},
   "outputs": [
    {
     "data": {
      "text/plain": [
       "__main__.Livro"
      ]
     },
     "execution_count": 7,
     "metadata": {},
     "output_type": "execute_result"
    }
   ],
   "source": [
    "type(Livro22)"
   ]
  },
  {
   "cell_type": "code",
   "execution_count": 9,
   "id": "203ea558",
   "metadata": {},
   "outputs": [
    {
     "data": {
      "text/plain": [
       "99887766"
      ]
     },
     "execution_count": 9,
     "metadata": {},
     "output_type": "execute_result"
    }
   ],
   "source": [
    "# Chamando os atributos do objeto Livro22\n",
    "Livro22.titulo\n",
    "Livro22.isbn"
   ]
  },
  {
   "cell_type": "code",
   "execution_count": 20,
   "id": "23229515",
   "metadata": {},
   "outputs": [
    {
     "name": "stdout",
     "output_type": "stream",
     "text": [
      "Foi criado o livro Python - Fundamentos para Analise De Dados.  e ISBN 99887766\n"
     ]
    }
   ],
   "source": [
    "# Metodos\n",
    "Livro22.imprime()\n"
   ]
  },
  {
   "cell_type": "code",
   "execution_count": null,
   "id": "e5045369",
   "metadata": {},
   "outputs": [],
   "source": [
    "# Criando uma classe com métodos sendo passados diretamente no construtor\n",
    "\n",
    "class Livro2():\n",
    "    \n",
    "    def __init__(self, titulo, isbn):\n",
    "        self.titulo = titulo\n",
    "        self.isbn = isbn\n",
    "        print(\"Construtor chamado para criar um objeto desta classe.\")\n",
    "        \n",
    "    def imprime(self, titulo, isbn):\n",
    "        print(\"Este é o livro %s e de ISBN %d\", %(titulo, isbn))"
   ]
  }
 ],
 "metadata": {
  "kernelspec": {
   "display_name": "Python 3",
   "language": "python",
   "name": "python3"
  },
  "language_info": {
   "codemirror_mode": {
    "name": "ipython",
    "version": 3
   },
   "file_extension": ".py",
   "mimetype": "text/x-python",
   "name": "python",
   "nbconvert_exporter": "python",
   "pygments_lexer": "ipython3",
   "version": "3.8.8"
  }
 },
 "nbformat": 4,
 "nbformat_minor": 5
}
