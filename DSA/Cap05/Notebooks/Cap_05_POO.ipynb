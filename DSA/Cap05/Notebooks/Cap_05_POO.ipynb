{
 "cells": [
  {
   "cell_type": "code",
   "execution_count": 3,
   "id": "2ceeb0a3",
   "metadata": {},
   "outputs": [],
   "source": [
    "# Curso Python Fundamentos para Análise de Dados - DSA\n",
    "# Programação Orientada a Objetos - 05.10.22 - 23h08"
   ]
  },
  {
   "cell_type": "code",
   "execution_count": null,
   "id": "1307664e",
   "metadata": {},
   "outputs": [],
   "source": [
    "# CLASSES"
   ]
  },
  {
   "cell_type": "code",
   "execution_count": 2,
   "id": "32551b16",
   "metadata": {},
   "outputs": [],
   "source": [
    "# Criando uma classe\n",
    "# class nomeClasse():\n",
    "    \n",
    "class Livro():\n",
    "    \n",
    "    \n",
    "    \n",
    "    # Métodos\n",
    "    # init- construtor, responsavel por inicializar a classe.\n",
    "    def __init__(self):\n",
    "        \n",
    "        # Dois atributos\n",
    "        # Self, indica que são atributos do objeto\n",
    "        self.titulo = \"Python - Fundamentos para Analise De Dados. \"\n",
    "        self.isbn = 99887766\n",
    "        print(\"Construtor chamado para criar um objeto desta frase.\")\n",
    "    \n",
    "    # Metodos - funcoes\n",
    "    def imprime(self):\n",
    "        print(\"Foi criado o livro %s e ISBN %d\" %(self.titulo, self.isbn))\n",
    "        \n",
    "    \n",
    "    \n",
    "    "
   ]
  },
  {
   "cell_type": "code",
   "execution_count": 3,
   "id": "f6de6c3f",
   "metadata": {},
   "outputs": [
    {
     "name": "stdout",
     "output_type": "stream",
     "text": [
      "Construtor chamado para criar um objeto desta frase.\n"
     ]
    }
   ],
   "source": [
    "# Instanciar a classe\n",
    "# Objeto = classe da qual será instanciado o objeto()\n",
    "\n",
    "Livro22 = Livro()"
   ]
  },
  {
   "cell_type": "code",
   "execution_count": 7,
   "id": "a1d6ee36",
   "metadata": {},
   "outputs": [
    {
     "data": {
      "text/plain": [
       "__main__.Livro"
      ]
     },
     "execution_count": 7,
     "metadata": {},
     "output_type": "execute_result"
    }
   ],
   "source": [
    "type(Livro22)"
   ]
  },
  {
   "cell_type": "code",
   "execution_count": 8,
   "id": "203ea558",
   "metadata": {},
   "outputs": [
    {
     "data": {
      "text/plain": [
       "'Python - Fundamentos para Analise De Dados. '"
      ]
     },
     "execution_count": 8,
     "metadata": {},
     "output_type": "execute_result"
    }
   ],
   "source": [
    "# Chamando os atributos do objeto Livro22\n",
    "Livro22.titulo\n"
   ]
  },
  {
   "cell_type": "code",
   "execution_count": 9,
   "id": "d75c8406",
   "metadata": {},
   "outputs": [
    {
     "data": {
      "text/plain": [
       "99887766"
      ]
     },
     "execution_count": 9,
     "metadata": {},
     "output_type": "execute_result"
    }
   ],
   "source": [
    "Livro22.isbn"
   ]
  },
  {
   "cell_type": "code",
   "execution_count": 5,
   "id": "23229515",
   "metadata": {},
   "outputs": [
    {
     "name": "stdout",
     "output_type": "stream",
     "text": [
      "Foi criado o livro Python - Fundamentos para Analise De Dados.  e ISBN 99887766\n"
     ]
    }
   ],
   "source": [
    "# Metodos\n",
    "# ObjetoInstanciado.metodo()\n",
    "Livro22.imprime()\n"
   ]
  },
  {
   "cell_type": "code",
   "execution_count": 10,
   "id": "e5045369",
   "metadata": {},
   "outputs": [],
   "source": [
    "# Criando uma classe com métodos sendo passados diretamente no construtor\n",
    "\n",
    "class Livro2():\n",
    "    \n",
    "    # Construtor\n",
    "    # Self - referencia a cada atributo de um objeto criado, a partir desta classe.\n",
    "    # def __init__(self, atributo1, atributo2, ....)\n",
    "    def __init__(self, titulo, isbn):\n",
    "        self.titulo = titulo # self.atributo1 = atributo1 - informado como parametro acima.\n",
    "        self.isbn = isbn\n",
    "        print(\"Construtor chamado para criar um objeto desta classe.\")\n",
    "        \n",
    "    def imprime(self, titulo, isbn):\n",
    "        print(\"Este é o livro %s e de ISBN %d\" %(titulo, isbn))"
   ]
  },
  {
   "cell_type": "code",
   "execution_count": 12,
   "id": "904f5b9d",
   "metadata": {},
   "outputs": [
    {
     "name": "stdout",
     "output_type": "stream",
     "text": [
      "Construtor chamado para criar um objeto desta classe.\n"
     ]
    }
   ],
   "source": [
    "# Instanciando um objeto com a passagem de parametros para o construtor da classe.\n",
    "livro = Livro2(\"A Arte da Guerra\", 1234555)"
   ]
  },
  {
   "cell_type": "code",
   "execution_count": 13,
   "id": "cebbb788",
   "metadata": {},
   "outputs": [
    {
     "data": {
      "text/plain": [
       "'A Arte da Guerra'"
      ]
     },
     "execution_count": 13,
     "metadata": {},
     "output_type": "execute_result"
    }
   ],
   "source": [
    "# Chamada do atributo titulo.\n",
    "livro.titulo"
   ]
  },
  {
   "cell_type": "code",
   "execution_count": 14,
   "id": "d13608a8",
   "metadata": {},
   "outputs": [
    {
     "name": "stdout",
     "output_type": "stream",
     "text": [
      "Construtor chamado para criar um objeto desta classe.\n"
     ]
    }
   ],
   "source": [
    "livro02 = Livro2(\"Intensivo de Python.\", 8654333)"
   ]
  },
  {
   "cell_type": "code",
   "execution_count": 17,
   "id": "0c239e6c",
   "metadata": {},
   "outputs": [
    {
     "name": "stdout",
     "output_type": "stream",
     "text": [
      "Intensivo de Python.\n"
     ]
    }
   ],
   "source": [
    "print(livro02.titulo)"
   ]
  },
  {
   "cell_type": "code",
   "execution_count": 48,
   "id": "703c8ff6",
   "metadata": {},
   "outputs": [],
   "source": [
    "# Criar classe cachorro com atributo raça - com o atributo inicializado dentro do construtor\n",
    "class dog():\n",
    "    \n",
    "    def __init__(self):\n",
    "        self.raca = \"Bull Terrier\"\n",
    "        print(\"Construtor em execução. Criando a classe dog.\")\n",
    "    \n",
    "    def show(self):\n",
    "        print(\"Criado uma instancia da classe dog com a raca %s.\" %(self.raca))\n"
   ]
  },
  {
   "cell_type": "code",
   "execution_count": 49,
   "id": "431aaf85",
   "metadata": {},
   "outputs": [
    {
     "name": "stdout",
     "output_type": "stream",
     "text": [
      "Construtor em execução. Criando a classe dog.\n"
     ]
    }
   ],
   "source": [
    "rex = dog()"
   ]
  },
  {
   "cell_type": "code",
   "execution_count": 50,
   "id": "4d979790",
   "metadata": {},
   "outputs": [
    {
     "name": "stdout",
     "output_type": "stream",
     "text": [
      "Criado uma instancia da classe dog com a raca Bull Terrier.\n"
     ]
    }
   ],
   "source": [
    "rex.show()"
   ]
  },
  {
   "cell_type": "code",
   "execution_count": 51,
   "id": "de3c64fc",
   "metadata": {},
   "outputs": [],
   "source": [
    "# Criar classe dog2 com atributos informados por parametro no construtor\n",
    "class dog2():\n",
    "    \n",
    "    def __init__(self, raca):\n",
    "        self.raca = raca\n",
    "        print(\"Construtor em execução. Instancia da dog2 criada.\")\n",
    "    \n",
    "    def show(self, raca):\n",
    "        print(\"Classe dog2 - raca: %s\" %(self.raca))"
   ]
  },
  {
   "cell_type": "code",
   "execution_count": 53,
   "id": "b817b7bd",
   "metadata": {},
   "outputs": [
    {
     "name": "stdout",
     "output_type": "stream",
     "text": [
      "Construtor em execução. Instancia da dog2 criada.\n"
     ]
    }
   ],
   "source": [
    "# Instancia da classe dog2\n",
    "ted = dog2(\"Sky Terrier\")"
   ]
  },
  {
   "cell_type": "code",
   "execution_count": 54,
   "id": "f4b18f71",
   "metadata": {},
   "outputs": [
    {
     "data": {
      "text/plain": [
       "'Sky Terrier'"
      ]
     },
     "execution_count": 54,
     "metadata": {},
     "output_type": "execute_result"
    }
   ],
   "source": [
    "# Chamando um dos atributos\n",
    "ted.raca"
   ]
  },
  {
   "cell_type": "code",
   "execution_count": 56,
   "id": "90ae6568",
   "metadata": {},
   "outputs": [
    {
     "name": "stdout",
     "output_type": "stream",
     "text": [
      "Classe dog2 - raca: Sky Terrier\n"
     ]
    }
   ],
   "source": [
    "# Chamando o metodo show, com passagem de parametro. \n",
    "ted.show(\"Terrier\")"
   ]
  },
  {
   "cell_type": "code",
   "execution_count": 57,
   "id": "e6e869ec",
   "metadata": {},
   "outputs": [
    {
     "name": "stdout",
     "output_type": "stream",
     "text": [
      "Construtor em execução. Instancia da dog2 criada.\n"
     ]
    }
   ],
   "source": [
    "golias = dog2(raca = \"PitBull\")"
   ]
  },
  {
   "cell_type": "code",
   "execution_count": 58,
   "id": "45372b38",
   "metadata": {},
   "outputs": [
    {
     "data": {
      "text/plain": [
       "'PitBull'"
      ]
     },
     "execution_count": 58,
     "metadata": {},
     "output_type": "execute_result"
    }
   ],
   "source": [
    "golias.raca"
   ]
  },
  {
   "cell_type": "code",
   "execution_count": 59,
   "id": "443643e8",
   "metadata": {},
   "outputs": [],
   "source": [
    "# METODOS"
   ]
  },
  {
   "cell_type": "code",
   "execution_count": null,
   "id": "365544ac",
   "metadata": {},
   "outputs": [],
   "source": [
    "# Métodos - funcoes definidas dentro do corpo de uma classe."
   ]
  }
 ],
 "metadata": {
  "kernelspec": {
   "display_name": "Python 3",
   "language": "python",
   "name": "python3"
  },
  "language_info": {
   "codemirror_mode": {
    "name": "ipython",
    "version": 3
   },
   "file_extension": ".py",
   "mimetype": "text/x-python",
   "name": "python",
   "nbconvert_exporter": "python",
   "pygments_lexer": "ipython3",
   "version": "3.8.8"
  }
 },
 "nbformat": 4,
 "nbformat_minor": 5
}
