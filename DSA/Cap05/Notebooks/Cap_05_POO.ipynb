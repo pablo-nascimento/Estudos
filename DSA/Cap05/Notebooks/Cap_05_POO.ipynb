{
 "cells": [
  {
   "cell_type": "code",
   "execution_count": 3,
   "id": "2ceeb0a3",
   "metadata": {},
   "outputs": [],
   "source": [
    "# Curso Python Fundamentos para Análise de Dados - DSA\n",
    "# Programação Orientada a Objetos - 05.10.22 - 23h08"
   ]
  },
  {
   "cell_type": "code",
   "execution_count": null,
   "id": "7e399c49",
   "metadata": {},
   "outputs": [],
   "source": [
    "# CLASSES"
   ]
  },
  {
   "cell_type": "code",
   "execution_count": 2,
   "id": "32551b16",
   "metadata": {},
   "outputs": [],
   "source": [
    "# Criando uma classe\n",
    "# class nomeClasse():\n",
    "    \n",
    "class Livro():\n",
    "    \n",
    "    \n",
    "    \n",
    "    # Métodos\n",
    "    # init- construtor, responsavel por inicializar a classe.\n",
    "    def __init__(self):\n",
    "        \n",
    "        # Dois atributos\n",
    "        # Self, indica que são atributos do objeto\n",
    "        self.titulo = \"Python - Fundamentos para Analise De Dados. \"\n",
    "        self.isbn = 99887766\n",
    "        print(\"Construtor chamado para criar um objeto desta frase.\")\n",
    "    \n",
    "    # Metodos - funcoes\n",
    "    def imprime(self):\n",
    "        print(\"Foi criado o livro %s e ISBN %d\" %(self.titulo, self.isbn))\n",
    "        \n",
    "    \n",
    "    \n",
    "    "
   ]
  },
  {
   "cell_type": "code",
   "execution_count": 3,
   "id": "f6de6c3f",
   "metadata": {},
   "outputs": [
    {
     "name": "stdout",
     "output_type": "stream",
     "text": [
      "Construtor chamado para criar um objeto desta frase.\n"
     ]
    }
   ],
   "source": [
    "# Instanciar a classe\n",
    "# Objeto = classe da qual será instanciado o objeto()\n",
    "\n",
    "Livro22 = Livro()"
   ]
  },
  {
   "cell_type": "code",
   "execution_count": 7,
   "id": "a1d6ee36",
   "metadata": {},
   "outputs": [
    {
     "data": {
      "text/plain": [
       "__main__.Livro"
      ]
     },
     "execution_count": 7,
     "metadata": {},
     "output_type": "execute_result"
    }
   ],
   "source": [
    "type(Livro22)"
   ]
  },
  {
   "cell_type": "code",
   "execution_count": 8,
   "id": "203ea558",
   "metadata": {},
   "outputs": [
    {
     "data": {
      "text/plain": [
       "'Python - Fundamentos para Analise De Dados. '"
      ]
     },
     "execution_count": 8,
     "metadata": {},
     "output_type": "execute_result"
    }
   ],
   "source": [
    "# Chamando os atributos do objeto Livro22\n",
    "Livro22.titulo\n"
   ]
  },
  {
   "cell_type": "code",
   "execution_count": 9,
   "id": "9661be8b",
   "metadata": {},
   "outputs": [
    {
     "data": {
      "text/plain": [
       "99887766"
      ]
     },
     "execution_count": 9,
     "metadata": {},
     "output_type": "execute_result"
    }
   ],
   "source": [
    "Livro22.isbn"
   ]
  },
  {
   "cell_type": "code",
   "execution_count": 5,
   "id": "23229515",
   "metadata": {},
   "outputs": [
    {
     "name": "stdout",
     "output_type": "stream",
     "text": [
      "Foi criado o livro Python - Fundamentos para Analise De Dados.  e ISBN 99887766\n"
     ]
    }
   ],
   "source": [
    "# Metodos\n",
    "# ObjetoInstanciado.metodo()\n",
    "Livro22.imprime()\n"
   ]
  },
  {
   "cell_type": "code",
   "execution_count": 10,
   "id": "e5045369",
   "metadata": {},
   "outputs": [],
   "source": [
    "# Criando uma classe com atributos sendo passados diretamente no construtor\n",
    "\n",
    "class Livro2():\n",
    "    \n",
    "    # Construtor\n",
    "    # Self - referencia a cada atributo de um objeto criado, a partir desta classe.\n",
    "    # def __init__(self, atributo1, atributo2, ....)\n",
    "    def __init__(self, titulo, isbn):\n",
    "        self.titulo = titulo # self.atributo1 = atributo1 - informado como parametro acima.\n",
    "        self.isbn = isbn\n",
    "        print(\"Construtor chamado para criar um objeto desta classe.\")\n",
    "        \n",
    "    def imprime(self, titulo, isbn):\n",
    "        print(\"Este é o livro %s e de ISBN %d\" %(titulo, isbn))"
   ]
  },
  {
   "cell_type": "code",
   "execution_count": 12,
   "id": "ab540f7a",
   "metadata": {},
   "outputs": [
    {
     "name": "stdout",
     "output_type": "stream",
     "text": [
      "Construtor chamado para criar um objeto desta classe.\n"
     ]
    }
   ],
   "source": [
    "# Instanciando um objeto com a passagem de parametros para o construtor da classe.\n",
    "livro = Livro2(\"A Arte da Guerra\", 1234555)"
   ]
  },
  {
   "cell_type": "code",
   "execution_count": 13,
   "id": "9f6f8c8d",
   "metadata": {},
   "outputs": [
    {
     "data": {
      "text/plain": [
       "'A Arte da Guerra'"
      ]
     },
     "execution_count": 13,
     "metadata": {},
     "output_type": "execute_result"
    }
   ],
   "source": [
    "# Chamada do atributo titulo.\n",
    "livro.titulo"
   ]
  },
  {
   "cell_type": "code",
   "execution_count": 14,
   "id": "bb3dc3f9",
   "metadata": {},
   "outputs": [
    {
     "name": "stdout",
     "output_type": "stream",
     "text": [
      "Construtor chamado para criar um objeto desta classe.\n"
     ]
    }
   ],
   "source": [
    "livro02 = Livro2(\"Intensivo de Python.\", 8654333)"
   ]
  },
  {
   "cell_type": "code",
   "execution_count": 17,
   "id": "83e1cde1",
   "metadata": {},
   "outputs": [
    {
     "name": "stdout",
     "output_type": "stream",
     "text": [
      "Intensivo de Python.\n"
     ]
    }
   ],
   "source": [
    "print(livro02.titulo)"
   ]
  },
  {
   "cell_type": "code",
   "execution_count": 48,
   "id": "f1d8a3e5",
   "metadata": {},
   "outputs": [],
   "source": [
    "# Criar classe cachorro com atributo raça - com o atributo inicializado dentro do construtor\n",
    "class dog():\n",
    "    \n",
    "    def __init__(self):\n",
    "        self.raca = \"Bull Terrier\"\n",
    "        print(\"Construtor em execução. Criando a classe dog.\")\n",
    "    \n",
    "    def show(self):\n",
    "        print(\"Criado uma instancia da classe dog com a raca %s.\" %(self.raca))\n"
   ]
  },
  {
   "cell_type": "code",
   "execution_count": 49,
   "id": "3acd1453",
   "metadata": {},
   "outputs": [
    {
     "name": "stdout",
     "output_type": "stream",
     "text": [
      "Construtor em execução. Criando a classe dog.\n"
     ]
    }
   ],
   "source": [
    "rex = dog()"
   ]
  },
  {
   "cell_type": "code",
   "execution_count": 50,
   "id": "67acdc7c",
   "metadata": {},
   "outputs": [
    {
     "name": "stdout",
     "output_type": "stream",
     "text": [
      "Criado uma instancia da classe dog com a raca Bull Terrier.\n"
     ]
    }
   ],
   "source": [
    "rex.show()"
   ]
  },
  {
   "cell_type": "code",
   "execution_count": 51,
   "id": "aa0017e7",
   "metadata": {},
   "outputs": [],
   "source": [
    "# Criar classe dog2 com atributos informados por parametro no construtor\n",
    "class dog2():\n",
    "    \n",
    "    def __init__(self, raca):\n",
    "        self.raca = raca\n",
    "        print(\"Construtor em execução. Instancia da dog2 criada.\")\n",
    "    \n",
    "    def show(self, raca):\n",
    "        print(\"Classe dog2 - raca: %s\" %(self.raca))"
   ]
  },
  {
   "cell_type": "code",
   "execution_count": 53,
   "id": "115b0999",
   "metadata": {},
   "outputs": [
    {
     "name": "stdout",
     "output_type": "stream",
     "text": [
      "Construtor em execução. Instancia da dog2 criada.\n"
     ]
    }
   ],
   "source": [
    "# Instancia da classe dog2\n",
    "ted = dog2(\"Sky Terrier\")"
   ]
  },
  {
   "cell_type": "code",
   "execution_count": 54,
   "id": "a9bf3575",
   "metadata": {},
   "outputs": [
    {
     "data": {
      "text/plain": [
       "'Sky Terrier'"
      ]
     },
     "execution_count": 54,
     "metadata": {},
     "output_type": "execute_result"
    }
   ],
   "source": [
    "# Chamando um dos atributos\n",
    "ted.raca"
   ]
  },
  {
   "cell_type": "code",
   "execution_count": 56,
   "id": "1dbcd597",
   "metadata": {},
   "outputs": [
    {
     "name": "stdout",
     "output_type": "stream",
     "text": [
      "Classe dog2 - raca: Sky Terrier\n"
     ]
    }
   ],
   "source": [
    "# Chamando o metodo show, com passagem de parametro. \n",
    "ted.show(\"Terrier\")"
   ]
  },
  {
   "cell_type": "code",
   "execution_count": 57,
   "id": "2ba1c4fe",
   "metadata": {},
   "outputs": [
    {
     "name": "stdout",
     "output_type": "stream",
     "text": [
      "Construtor em execução. Instancia da dog2 criada.\n"
     ]
    }
   ],
   "source": [
    "golias = dog2(raca = \"PitBull\")"
   ]
  },
  {
   "cell_type": "code",
   "execution_count": 58,
   "id": "f6cd7fe9",
   "metadata": {},
   "outputs": [
    {
     "data": {
      "text/plain": [
       "'PitBull'"
      ]
     },
     "execution_count": 58,
     "metadata": {},
     "output_type": "execute_result"
    }
   ],
   "source": [
    "golias.raca"
   ]
  },
  {
   "cell_type": "code",
   "execution_count": 59,
   "id": "2e8d96f6",
   "metadata": {},
   "outputs": [],
   "source": [
    "# METODOS"
   ]
  },
  {
   "cell_type": "code",
   "execution_count": 60,
   "id": "22012169",
   "metadata": {},
   "outputs": [],
   "source": [
    "# Métodos - funcoes definidas dentro do corpo de uma classe.\n",
    "# Usados para realizar operações com os atributos.\n"
   ]
  },
  {
   "cell_type": "code",
   "execution_count": 2,
   "id": "7f279887",
   "metadata": {},
   "outputs": [],
   "source": [
    "# Criando a classe Circulo\n",
    "class Circulo():\n",
    "    \n",
    "    pi = 3.14 # Variavel, atributo da classe circulo\n",
    "    \n",
    "    # Construtor\n",
    "    # Determina o valor padrao do raio\n",
    "    def __init__ (self, raio = 5):\n",
    "        self.raio = raio\n",
    "        \n",
    "    # Calcula a area se utilizando do atributo raio criado no construtor.\n",
    "    # Usa também o atributo pi com valor constante.\n",
    "    def area(self):\n",
    "        return (self.raio * self.raio) * Circulo.pi\n",
    "    \n",
    "    # Metodos abaixo, usados para manipular os atributos dentro do objeto.\n",
    "    # configurar o valor do raio\n",
    "    def setRaio(self, novoRaio):\n",
    "        self.raio = novoRaio\n",
    "    \n",
    "    # metodo para obter o valor do raio.\n",
    "    def getRaio(self):\n",
    "        return self.raio\n",
    "    "
   ]
  },
  {
   "cell_type": "code",
   "execution_count": 3,
   "id": "6b44f90c",
   "metadata": {},
   "outputs": [],
   "source": [
    "# Criando um objeto da classe Circulo\n",
    "circ = Circulo()"
   ]
  },
  {
   "cell_type": "code",
   "execution_count": 5,
   "id": "ebc63c38",
   "metadata": {},
   "outputs": [
    {
     "data": {
      "text/plain": [
       "5"
      ]
     },
     "execution_count": 5,
     "metadata": {},
     "output_type": "execute_result"
    }
   ],
   "source": [
    "# Executando o método da classe Circulo\n",
    "circ.getRaio()"
   ]
  },
  {
   "cell_type": "code",
   "execution_count": 9,
   "id": "23259d0d",
   "metadata": {},
   "outputs": [
    {
     "name": "stdout",
     "output_type": "stream",
     "text": [
      "O Valor do raio é:  5\n"
     ]
    }
   ],
   "source": [
    "# Imprimindo o raio\n",
    "print('O Valor do raio é: ', circ.getRaio())"
   ]
  },
  {
   "cell_type": "code",
   "execution_count": 13,
   "id": "854e3ef9",
   "metadata": {},
   "outputs": [],
   "source": [
    "# Enviando um novo valor passado por parametro para o atributo raio\n",
    "circ.setRaio(3)"
   ]
  },
  {
   "cell_type": "code",
   "execution_count": 14,
   "id": "e0307f43",
   "metadata": {},
   "outputs": [
    {
     "data": {
      "text/plain": [
       "28.26"
      ]
     },
     "execution_count": 14,
     "metadata": {},
     "output_type": "execute_result"
    }
   ],
   "source": [
    "# Calcular a area\n",
    "circ.area()"
   ]
  },
  {
   "cell_type": "code",
   "execution_count": 15,
   "id": "f7cf074b",
   "metadata": {},
   "outputs": [],
   "source": [
    "# HERANCA\n",
    "# Quando uma classe herda - ou recebe - atributos e métodos de uma classe base"
   ]
  },
  {
   "cell_type": "code",
   "execution_count": 17,
   "id": "833961bb",
   "metadata": {},
   "outputs": [],
   "source": [
    "# Classe animal - super classe ou classe base\n",
    "class animal():\n",
    "    \n",
    "    # Construtor\n",
    "    def __init__(self):\n",
    "        print('Animal criado.')\n",
    "        \n",
    "    def identif(self):\n",
    "        print('Animal')\n",
    "        \n",
    "    def comer(self):\n",
    "        print('Comendo...')"
   ]
  },
  {
   "cell_type": "code",
   "execution_count": 18,
   "id": "bb7a49a7",
   "metadata": {},
   "outputs": [],
   "source": [
    "# Classe cachorro - sub-classe\n",
    "# tem seus proprios metodos, mas, tem metodos de sua classe base.\n",
    "# evita reescrita de codigo.\n",
    "# class subClasseNome(classeBase):\n",
    "class cachorro(animal):\n",
    "    \n",
    "    # Construtor \n",
    "    def __init__(self):\n",
    "        animal.__init__(self) \n",
    "        # executando o construtor da classe base.\n",
    "        # classeBase.__init__(self)\n",
    "        print('Objeto cachorro criado.')\n",
    "        \n",
    "    # metodo de mesmo nome, na classe base e na subClasse    \n",
    "    def identif(self):\n",
    "        print('Cachorro!!')\n",
    "        \n",
    "    # metodo especifico da classe cachorro\n",
    "    def latir(self):\n",
    "        print('Au Au Au!!')"
   ]
  },
  {
   "cell_type": "code",
   "execution_count": 20,
   "id": "4d66d1ae",
   "metadata": {},
   "outputs": [
    {
     "name": "stdout",
     "output_type": "stream",
     "text": [
      "Animal criado.\n",
      "Objeto cachorro criado.\n"
     ]
    }
   ],
   "source": [
    "# Instanciando um objeto.\n",
    "# Primeiro print - construtor da classe Base \n",
    "# segundo print - construtor da sub classe\n",
    "dog = cachorro()"
   ]
  },
  {
   "cell_type": "code",
   "execution_count": 21,
   "id": "ccb69c87",
   "metadata": {},
   "outputs": [
    {
     "name": "stdout",
     "output_type": "stream",
     "text": [
      "Cachorro!!\n"
     ]
    }
   ],
   "source": [
    "# Em casos de metodos com mesmo nome na classe base e na sub classe\n",
    "# prevalece o metodo da sub classe, por ser mais especifica.\n",
    "dog.identif()"
   ]
  },
  {
   "cell_type": "code",
   "execution_count": 23,
   "id": "ebac3cf1",
   "metadata": {},
   "outputs": [
    {
     "name": "stdout",
     "output_type": "stream",
     "text": [
      "Comendo...\n"
     ]
    }
   ],
   "source": [
    "# Chamando um metodo da classe base\n",
    "dog.comer()"
   ]
  },
  {
   "cell_type": "code",
   "execution_count": 24,
   "id": "bee4c91f",
   "metadata": {},
   "outputs": [
    {
     "name": "stdout",
     "output_type": "stream",
     "text": [
      "Au Au Au!!\n"
     ]
    }
   ],
   "source": [
    "# Chamando um metodo da sub classe\n",
    "dog.latir()"
   ]
  },
  {
   "cell_type": "code",
   "execution_count": null,
   "id": "b24a917a",
   "metadata": {},
   "outputs": [],
   "source": []
  }
 ],
 "metadata": {
  "kernelspec": {
   "display_name": "Python 3",
   "language": "python",
   "name": "python3"
  },
  "language_info": {
   "codemirror_mode": {
    "name": "ipython",
    "version": 3
   },
   "file_extension": ".py",
   "mimetype": "text/x-python",
   "name": "python",
   "nbconvert_exporter": "python",
   "pygments_lexer": "ipython3",
   "version": "3.8.8"
  }
 },
 "nbformat": 4,
 "nbformat_minor": 5
}
