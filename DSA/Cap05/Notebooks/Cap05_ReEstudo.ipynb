{
 "cells": [
  {
   "cell_type": "code",
   "execution_count": 1,
   "id": "9cbf3eed",
   "metadata": {},
   "outputs": [],
   "source": [
    "# Criei este Jupyter Notebook pelo fato de estar um tempo sem estudar Python\n",
    "# Voltando em 06.12.22 as 20h39\n",
    "# Continuando do Cap05\n",
    "# Orientação a Objetos em Python"
   ]
  },
  {
   "cell_type": "code",
   "execution_count": 3,
   "id": "fb1b092a",
   "metadata": {},
   "outputs": [],
   "source": [
    "# Principais conceitos de POO\n",
    "# Classe - Abstracoes computacionais que representam entidades do mundo real\n",
    "# Objeto - instancia da classe, que possuem atributos\n",
    "# Atributos - caracteristicas ou propriedades que ajudam a identificar os objetos\n",
    "# Metodos - acoes do objeto - sao funcoes dentro de uma classe\n",
    "# Mensagem - chamada ao objeto para invocar um de seus metodos\n",
    "# Heranca - mecanismo pela qual uma subclasse pode estender uma superclasse, aproveitando seus atributos e metodos.\n",
    "# A heranca possibilita que os metodos e atributos de uma classe sejam compartilhados\n",
    "# Polimorfismo - faz com que, a partir de uma dada classe base, sejam invocados metodos atraves de classes derivadas.\n",
    "# Esses metodos, tendo a mesma definicao, irao se comportar de forma diferente em cada uma das classes derivadas.\n",
    "# Mesmos atributos e metodos podem ser usados em objetos distintos, com implementacoes diferentes.\n",
    "# Encapsulamento - tecnicas pela qual detalhes internos dos metodos dentro de uma classe permanecam ocultos."
   ]
  },
  {
   "cell_type": "code",
   "execution_count": 4,
   "id": "18a3cc92",
   "metadata": {},
   "outputs": [],
   "source": [
    "# Classe - modelo - molde.\n",
    "# Criando uma classe\n",
    "\n",
    "class Livro():\n",
    "    \n",
    "    # Inicializar cada objeto criado a partir da classe\n",
    "    # Self, referencia a cada atributo criado a partir desta classe\n",
    "    # Metodo Construtor\n",
    "    def __init__(self):\n",
    "        \n",
    "        self.titulo = \"O Diario de Anne Frank\"\n",
    "        self.isbn = 1234556667\n",
    "        print(\"Construtor da classe Livro executado.\")\n",
    "    \n",
    "    # Metodo imprime\n",
    "    def imprime(self):\n",
    "        print(\"Foi criado o livro: %s de ISBN: %d\" %(self.titulo, self.isbn))"
   ]
  },
  {
   "cell_type": "code",
   "execution_count": 5,
   "id": "e312d23f",
   "metadata": {},
   "outputs": [
    {
     "name": "stdout",
     "output_type": "stream",
     "text": [
      "Construtor da classe Livro executado.\n"
     ]
    }
   ],
   "source": [
    "# Criando uma instancia da classe Livro\n",
    "Livro1 = Livro()"
   ]
  },
  {
   "cell_type": "code",
   "execution_count": 6,
   "id": "eceec89e",
   "metadata": {},
   "outputs": [
    {
     "data": {
      "text/plain": [
       "__main__.Livro"
      ]
     },
     "execution_count": 6,
     "metadata": {},
     "output_type": "execute_result"
    }
   ],
   "source": [
    "# Verificando seu tipo\n",
    "type(Livro1)"
   ]
  },
  {
   "cell_type": "code",
   "execution_count": 7,
   "id": "c58fbfbb",
   "metadata": {},
   "outputs": [
    {
     "data": {
      "text/plain": [
       "'O Diario de Anne Frank'"
      ]
     },
     "execution_count": 7,
     "metadata": {},
     "output_type": "execute_result"
    }
   ],
   "source": [
    "# Verificando seus atributos\n",
    "Livro1.titulo"
   ]
  },
  {
   "cell_type": "code",
   "execution_count": 8,
   "id": "21ae1830",
   "metadata": {},
   "outputs": [
    {
     "name": "stdout",
     "output_type": "stream",
     "text": [
      "Foi criado o livro: O Diario de Anne Frank de ISBN: 1234556667\n"
     ]
    }
   ],
   "source": [
    "# Chamando seu metodo\n",
    "Livro1.imprime()"
   ]
  },
  {
   "cell_type": "code",
   "execution_count": 16,
   "id": "2195d69d",
   "metadata": {},
   "outputs": [],
   "source": [
    "# Criando uma classe com a passagem de parametros no metodo construtor\n",
    "class Livro():\n",
    "    \n",
    "    # Metodo Construtor\n",
    "    # parametros sendo enviados pelo construtor.\n",
    "    # self - referencia cada objeto criado pela classe.\n",
    "    def __init__(self, titulo, isbn):\n",
    "        self.titulo = titulo\n",
    "        self.isbn = isbn\n",
    "        print(\"Construtor executado. Classe Livro sobreescrita gerando objetos...\")\n",
    "        \n",
    "    def imprime(self, titulo, isbn):\n",
    "        print(\"Foi criado o Livro: %s - ISBN: %d\" %(titulo, isbn))"
   ]
  },
  {
   "cell_type": "code",
   "execution_count": 17,
   "id": "5c9935d5",
   "metadata": {},
   "outputs": [
    {
     "name": "stdout",
     "output_type": "stream",
     "text": [
      "Construtor executado. Classe Livro sobreescrita gerando objetos...\n"
     ]
    }
   ],
   "source": [
    "# Instanciando um objeto da classe acima, com passagem de parametros.\n",
    "Livro2 = Livro(\"Quem Quer Ficar Milionário\", 123321123456)"
   ]
  },
  {
   "cell_type": "code",
   "execution_count": 18,
   "id": "bc534404",
   "metadata": {},
   "outputs": [
    {
     "data": {
      "text/plain": [
       "'Quem Quer Ficar Milionário'"
      ]
     },
     "execution_count": 18,
     "metadata": {},
     "output_type": "execute_result"
    }
   ],
   "source": [
    "# Chamando seu atributo\n",
    "Livro2.titulo"
   ]
  },
  {
   "cell_type": "code",
   "execution_count": 19,
   "id": "d921d7ab",
   "metadata": {},
   "outputs": [
    {
     "name": "stdout",
     "output_type": "stream",
     "text": [
      "Foi criado o Livro: Quem Quer Ficar Milionário - ISBN: 123321123456\n"
     ]
    }
   ],
   "source": [
    "# Chamando seus metodo\n",
    "Livro2.imprime(\"Quem Quer Ficar Milionário\", 123321123456)"
   ]
  },
  {
   "cell_type": "code",
   "execution_count": 20,
   "id": "6b39abe3",
   "metadata": {},
   "outputs": [],
   "source": [
    "# Criando a classe Cachorro\n",
    "class Cachorro():\n",
    "    \n",
    "    def __init__(self, raca):\n",
    "        self.raca = raca\n",
    "        print(\"Construtor da classe Cachorro Executado!\")"
   ]
  },
  {
   "cell_type": "code",
   "execution_count": 21,
   "id": "cd0d17f1",
   "metadata": {},
   "outputs": [
    {
     "name": "stdout",
     "output_type": "stream",
     "text": [
      "Construtor da classe Cachorro Executado!\n"
     ]
    }
   ],
   "source": [
    "# Criando um objeto passando a raca como parametro\n",
    "Rex = Cachorro(\"Labrador\")"
   ]
  },
  {
   "cell_type": "code",
   "execution_count": 23,
   "id": "5f9b4236",
   "metadata": {},
   "outputs": [
    {
     "data": {
      "text/plain": [
       "'Labrador'"
      ]
     },
     "execution_count": 23,
     "metadata": {},
     "output_type": "execute_result"
    }
   ],
   "source": [
    "# Atributo raca do objeto Rex\n",
    "Rex.raca"
   ]
  },
  {
   "cell_type": "code",
   "execution_count": 24,
   "id": "3e8bc38b",
   "metadata": {},
   "outputs": [
    {
     "name": "stdout",
     "output_type": "stream",
     "text": [
      "Construtor da classe Cachorro Executado!\n"
     ]
    }
   ],
   "source": [
    "# Criando o objeto Golias\n",
    "Golias = Cachorro(raca = \"Huskie Siberiano\")"
   ]
  },
  {
   "cell_type": "code",
   "execution_count": 26,
   "id": "7232d32a",
   "metadata": {},
   "outputs": [
    {
     "data": {
      "text/plain": [
       "'Huskie Siberiano'"
      ]
     },
     "execution_count": 26,
     "metadata": {},
     "output_type": "execute_result"
    }
   ],
   "source": [
    "# Atributo raca do objeto Golias\n",
    "Golias.raca"
   ]
  },
  {
   "cell_type": "code",
   "execution_count": 27,
   "id": "1eec9083",
   "metadata": {},
   "outputs": [],
   "source": [
    "# Objetos - Tudo em Python, é objeto\n"
   ]
  },
  {
   "cell_type": "code",
   "execution_count": 28,
   "id": "d4ec8da1",
   "metadata": {},
   "outputs": [],
   "source": [
    "# Criando uma lista\n",
    "lst_num = [\"Voltando\", \"aos\", \"estudos\", \"com\", \"Python!\", 6, 12, 2022]"
   ]
  },
  {
   "cell_type": "code",
   "execution_count": 29,
   "id": "fe1f4413",
   "metadata": {},
   "outputs": [
    {
     "data": {
      "text/plain": [
       "list"
      ]
     },
     "execution_count": 29,
     "metadata": {},
     "output_type": "execute_result"
    }
   ],
   "source": [
    "# Verificando seu tipo\n",
    "# tipo lista - lst_num, é uma instancia da classe lista.\n",
    "type(lst_num)"
   ]
  },
  {
   "cell_type": "code",
   "execution_count": 37,
   "id": "adfd539e",
   "metadata": {},
   "outputs": [
    {
     "data": {
      "text/plain": [
       "1"
      ]
     },
     "execution_count": 37,
     "metadata": {},
     "output_type": "execute_result"
    }
   ],
   "source": [
    "lst_num.count(\"Python!\")"
   ]
  },
  {
   "cell_type": "code",
   "execution_count": 39,
   "id": "7a9ad3e6",
   "metadata": {},
   "outputs": [
    {
     "name": "stdout",
     "output_type": "stream",
     "text": [
      "<class '__main__.Carro'>\n"
     ]
    }
   ],
   "source": [
    "# Criando uma classe sem nenhum atributo\n",
    "class Carro():\n",
    "    pass\n",
    "\n",
    "# Instanciando um objeto da classe Carro.\n",
    "Corsa = Carro()\n",
    "\n",
    "print(type(Corsa))"
   ]
  },
  {
   "cell_type": "code",
   "execution_count": 1,
   "id": "eb470dc5",
   "metadata": {},
   "outputs": [],
   "source": [
    "# Criando a classe Estudantes\n",
    "class Estudantes():\n",
    "    \n",
    "    # Metodo construtor\n",
    "    def __init__(self, nome, idade, nota):\n",
    "        self.nome = nome\n",
    "        self.idade = idade\n",
    "        self.nota = nota\n",
    "        print(\"Construtor da Classe Estudantes Executado!!\")"
   ]
  },
  {
   "cell_type": "code",
   "execution_count": 3,
   "id": "9b2ec77b",
   "metadata": {},
   "outputs": [
    {
     "name": "stdout",
     "output_type": "stream",
     "text": [
      "Construtor da Classe Estudantes Executado!!\n"
     ]
    }
   ],
   "source": [
    "# Criando um objeto a partir da classe Estudantes\n",
    "Estudante01 = Estudantes(\"Felipe\", 20, \"MB\")"
   ]
  },
  {
   "cell_type": "code",
   "execution_count": 5,
   "id": "247e88c9",
   "metadata": {},
   "outputs": [
    {
     "data": {
      "text/plain": [
       "'Felipe'"
      ]
     },
     "execution_count": 5,
     "metadata": {},
     "output_type": "execute_result"
    }
   ],
   "source": [
    "# Chamando o atributo nome\n",
    "Estudante01.nome"
   ]
  },
  {
   "cell_type": "code",
   "execution_count": 6,
   "id": "cd62ebbf",
   "metadata": {},
   "outputs": [
    {
     "data": {
      "text/plain": [
       "20"
      ]
     },
     "execution_count": 6,
     "metadata": {},
     "output_type": "execute_result"
    }
   ],
   "source": [
    "# Chamando o atributo idade\n",
    "Estudante01.idade"
   ]
  },
  {
   "cell_type": "code",
   "execution_count": 7,
   "id": "761d7f13",
   "metadata": {},
   "outputs": [
    {
     "data": {
      "text/plain": [
       "'MB'"
      ]
     },
     "execution_count": 7,
     "metadata": {},
     "output_type": "execute_result"
    }
   ],
   "source": [
    "# Chamando o atributo nota\n",
    "Estudante01.nota"
   ]
  },
  {
   "cell_type": "code",
   "execution_count": 24,
   "id": "edc6f5d1",
   "metadata": {},
   "outputs": [],
   "source": [
    "# Classe funcionarios\n",
    "\n",
    "class Funcionarios():\n",
    "    \n",
    "    # Construtor da classe\n",
    "    def __init__(self, nome, salario):\n",
    "        self.nome = nome\n",
    "        self.salario = salario\n",
    "    \n",
    "    # Metodo listar funcionarios\n",
    "    def listFunc(self):\n",
    "        print(\"O nome do funcionário é: \" + self.nome + \" e o salário é: R$ \" + str(self.salario) + \".\")"
   ]
  },
  {
   "cell_type": "code",
   "execution_count": 25,
   "id": "9190caa1",
   "metadata": {},
   "outputs": [],
   "source": [
    "# Instanciando um objeto do tipo Funcionarios\n",
    "func1 = Funcionarios(\"Obaama\", 100000000)"
   ]
  },
  {
   "cell_type": "code",
   "execution_count": 26,
   "id": "bf739608",
   "metadata": {},
   "outputs": [
    {
     "name": "stdout",
     "output_type": "stream",
     "text": [
      "O nome do funcionário é: Obaama e o salário é: R$ 100000000.\n"
     ]
    }
   ],
   "source": [
    "# Chamando o metodo listFunc do objeto func1 instanciado da classe Funcionarios\n",
    "func1.listFunc()"
   ]
  },
  {
   "cell_type": "code",
   "execution_count": 27,
   "id": "66aefdfb",
   "metadata": {},
   "outputs": [
    {
     "data": {
      "text/plain": [
       "True"
      ]
     },
     "execution_count": 27,
     "metadata": {},
     "output_type": "execute_result"
    }
   ],
   "source": [
    "# Manipulando informacoes e os atributos propriamente ditos\n",
    "# Metodos Especiais - \"tem atributo?\" parametros (objeto, nome_atributo) - retorna um booleano\n",
    "hasattr(func1, \"nome\")"
   ]
  },
  {
   "cell_type": "code",
   "execution_count": 18,
   "id": "249da7f7",
   "metadata": {},
   "outputs": [
    {
     "data": {
      "text/plain": [
       "True"
      ]
     },
     "execution_count": 18,
     "metadata": {},
     "output_type": "execute_result"
    }
   ],
   "source": [
    "# Verificar se tal objeto tem atributo informado no segundo parametro\n",
    "hasattr(func1, \"salario\")"
   ]
  },
  {
   "cell_type": "code",
   "execution_count": 28,
   "id": "1e110f03",
   "metadata": {},
   "outputs": [],
   "source": [
    "# a partir do objeto, verificar se tem o atributo informado, e configurar o novo valor\n",
    "setattr(func1, \"salario\", 90023)"
   ]
  },
  {
   "cell_type": "code",
   "execution_count": 20,
   "id": "1201a2c3",
   "metadata": {},
   "outputs": [
    {
     "data": {
      "text/plain": [
       "90023"
      ]
     },
     "execution_count": 20,
     "metadata": {},
     "output_type": "execute_result"
    }
   ],
   "source": [
    "# Validando a acao do metodo acima\n",
    "func1.salario"
   ]
  },
  {
   "cell_type": "code",
   "execution_count": 29,
   "id": "564aaa49",
   "metadata": {},
   "outputs": [
    {
     "data": {
      "text/plain": [
       "True"
      ]
     },
     "execution_count": 29,
     "metadata": {},
     "output_type": "execute_result"
    }
   ],
   "source": [
    "hasattr(func1, \"salario\")"
   ]
  },
  {
   "cell_type": "code",
   "execution_count": 30,
   "id": "9e13a978",
   "metadata": {},
   "outputs": [
    {
     "name": "stdout",
     "output_type": "stream",
     "text": [
      "90023\n"
     ]
    }
   ],
   "source": [
    "# Obtendo o valor do atributo e salvando este valor na variavel a\n",
    "a = getattr(func1, \"salario\")\n",
    "print(a)"
   ]
  },
  {
   "cell_type": "code",
   "execution_count": 22,
   "id": "55d4906d",
   "metadata": {},
   "outputs": [],
   "source": [
    "# Apagando um atributo\n",
    "delattr(func1, \"salario\")"
   ]
  },
  {
   "cell_type": "code",
   "execution_count": 31,
   "id": "ea0c93c6",
   "metadata": {},
   "outputs": [],
   "source": [
    "# Metodos - funcoes definidas dentro da classe, para manipular os objetos.\n"
   ]
  },
  {
   "cell_type": "code",
   "execution_count": 45,
   "id": "e4a1dd75",
   "metadata": {},
   "outputs": [],
   "source": [
    "# Criando a classe Circulo\n",
    "class Circulo():\n",
    "    \n",
    "    # Variavel, ou atributo de valor Constante\n",
    "    pi = 3.14\n",
    "    \n",
    "    # Metodo construtor\n",
    "    # Recebendo atributo raio como parametro já com valor inicializado\n",
    "    # Em caso de se instanciar um objeto, e nao for passado o valor do raio, o atributo raio recebe o valor 5\n",
    "    def __init__(self, raio = 5):\n",
    "        self.raio = raio\n",
    "    \n",
    "    # Vai calcular o valor da area.\n",
    "    def area(self):\n",
    "        return (self.raio * self.raio) * Circulo.pi\n",
    "    \n",
    "    # Metodos usados para manipular os atributos dentro de um objeto.\n",
    "    # Configurar um novo valor para o raio.\n",
    "    def setRaio(self, novo_raio):\n",
    "        self.raio = novo_raio\n",
    "        \n",
    "    # Obter o valor do raio\n",
    "    def getRaio(self):\n",
    "        return self.raio\n",
    "    \n",
    "    "
   ]
  },
  {
   "cell_type": "code",
   "execution_count": 46,
   "id": "c1c830f5",
   "metadata": {},
   "outputs": [],
   "source": [
    "# Instanciar o objeto da classe Circulo\n",
    "circ = Circulo()"
   ]
  },
  {
   "cell_type": "code",
   "execution_count": 36,
   "id": "e45db440",
   "metadata": {},
   "outputs": [
    {
     "data": {
      "text/plain": [
       "5"
      ]
     },
     "execution_count": 36,
     "metadata": {},
     "output_type": "execute_result"
    }
   ],
   "source": [
    "# Chamando o metodo getRaio\n",
    "circ.getRaio()"
   ]
  },
  {
   "cell_type": "code",
   "execution_count": 38,
   "id": "a2653aac",
   "metadata": {},
   "outputs": [],
   "source": [
    "# Instanciando um novo objeto a partir da classe, enviando parametros.\n",
    "circ1 = Circulo(24)"
   ]
  },
  {
   "cell_type": "code",
   "execution_count": 40,
   "id": "754e50aa",
   "metadata": {},
   "outputs": [
    {
     "data": {
      "text/plain": [
       "24"
      ]
     },
     "execution_count": 40,
     "metadata": {},
     "output_type": "execute_result"
    }
   ],
   "source": [
    "# Chamando alguns dos metodos\n",
    "circ1.getRaio()"
   ]
  },
  {
   "cell_type": "code",
   "execution_count": 41,
   "id": "c7fd17a8",
   "metadata": {},
   "outputs": [
    {
     "data": {
      "text/plain": [
       "5"
      ]
     },
     "execution_count": 41,
     "metadata": {},
     "output_type": "execute_result"
    }
   ],
   "source": [
    "# Obter o valor do raio e imprimir na tela\n",
    "circ.getRaio()"
   ]
  },
  {
   "cell_type": "code",
   "execution_count": 42,
   "id": "435be593",
   "metadata": {},
   "outputs": [
    {
     "data": {
      "text/plain": [
       "78.5"
      ]
     },
     "execution_count": 42,
     "metadata": {},
     "output_type": "execute_result"
    }
   ],
   "source": [
    "# Metodo area\n",
    "circ.area()"
   ]
  },
  {
   "cell_type": "code",
   "execution_count": 50,
   "id": "53258878",
   "metadata": {},
   "outputs": [],
   "source": [
    "# Chamando o metodo setRaio para mudar o valor do atributo Raio\n",
    "# Pega o valor informado como parametro e salva no atributo Raio (neste caso)\n",
    "circ.setRaio(8)"
   ]
  },
  {
   "cell_type": "code",
   "execution_count": 51,
   "id": "324e75d6",
   "metadata": {},
   "outputs": [
    {
     "data": {
      "text/plain": [
       "8"
      ]
     },
     "execution_count": 51,
     "metadata": {},
     "output_type": "execute_result"
    }
   ],
   "source": [
    "# Chamar o metodo getRaio\n",
    "circ.getRaio()"
   ]
  },
  {
   "cell_type": "code",
   "execution_count": 52,
   "id": "24be9ec0",
   "metadata": {},
   "outputs": [
    {
     "data": {
      "text/plain": [
       "200.96"
      ]
     },
     "execution_count": 52,
     "metadata": {},
     "output_type": "execute_result"
    }
   ],
   "source": [
    "circ.area()"
   ]
  },
  {
   "cell_type": "code",
   "execution_count": 54,
   "id": "437d570f",
   "metadata": {},
   "outputs": [],
   "source": [
    "# Heranca\n",
    "# Forma de gerar novas classes usando classes que foram definidas previamente\n",
    "# novas classes - classes derivadas ou subclasses\n",
    "# classe que deu origem a subclasse - chamada de superclasse ou classe base."
   ]
  },
  {
   "cell_type": "code",
   "execution_count": 57,
   "id": "a43f7d53",
   "metadata": {},
   "outputs": [],
   "source": [
    "# Criando a super classe\n",
    "class Animal():\n",
    "    \n",
    "    # Construtor - \n",
    "    def __init__(self):\n",
    "        print(\"Animal criado\")\n",
    "     \n",
    "    # metodos\n",
    "    def Identif(self):\n",
    "        print(\"Animal...\")\n",
    "        \n",
    "    def comer(self):\n",
    "        print(\"Comendo...\")"
   ]
  },
  {
   "cell_type": "code",
   "execution_count": 59,
   "id": "0d01f0d5",
   "metadata": {},
   "outputs": [],
   "source": [
    "# Criando a classe Cachorro - herdando os metodos da super classe\n",
    "# class nome_classe(Classe da qual a subclasse vai herdar metodos, e funcoes.)\n",
    "class Cachorro(Animal):\n",
    "    \n",
    "    # Metodo construtor da subclasse, executando o construtor da super classe\n",
    "    def __init__(self):\n",
    "        Animal.__init__(self)\n",
    "        print(\"Objeto Cachorro Criado\")\n",
    "        \n",
    "    def Identif(self):\n",
    "        print(\"Cachorro\")\n",
    "    \n",
    "    # Metodo existente somente na subclasse Cachorro\n",
    "    def latir(self):\n",
    "        print(\"Au au au!!\")"
   ]
  },
  {
   "cell_type": "code",
   "execution_count": 60,
   "id": "d79d5e7f",
   "metadata": {},
   "outputs": [
    {
     "name": "stdout",
     "output_type": "stream",
     "text": [
      "Animal criado\n",
      "Objeto Cachorro Criado\n"
     ]
    }
   ],
   "source": [
    "# instanciando um objeto a partir da classe Cachorro\n",
    "rex = Cachorro()"
   ]
  },
  {
   "cell_type": "code",
   "execution_count": 62,
   "id": "e1ee4743",
   "metadata": {},
   "outputs": [
    {
     "name": "stdout",
     "output_type": "stream",
     "text": [
      "Cachorro\n"
     ]
    }
   ],
   "source": [
    "# Chamando o metodo Identif (que está na sub classe e tbm na super classe - com mesmo nome)\n",
    "# Chamou o Identif da subclasse\n",
    "rex.Identif()"
   ]
  },
  {
   "cell_type": "code",
   "execution_count": 63,
   "id": "fab1f089",
   "metadata": {},
   "outputs": [
    {
     "name": "stdout",
     "output_type": "stream",
     "text": [
      "Comendo...\n"
     ]
    }
   ],
   "source": [
    "# Chamando um metodo da superclasse\n",
    "rex.comer()"
   ]
  },
  {
   "cell_type": "code",
   "execution_count": 64,
   "id": "83f0822c",
   "metadata": {},
   "outputs": [
    {
     "name": "stdout",
     "output_type": "stream",
     "text": [
      "Au au au!!\n"
     ]
    }
   ],
   "source": [
    "# Chamando um metodo da subclasse\n",
    "rex.latir()"
   ]
  },
  {
   "cell_type": "code",
   "execution_count": 65,
   "id": "5442eb4f",
   "metadata": {},
   "outputs": [],
   "source": [
    "# Metodos Especiais\n",
    "# __init__ - usado para inicializar um objeto a partir de uma classe\n",
    "# __metodo_especial__\n"
   ]
  },
  {
   "cell_type": "code",
   "execution_count": 66,
   "id": "37097317",
   "metadata": {},
   "outputs": [],
   "source": [
    "# Criando uma classe\n",
    "\n",
    "class book():\n",
    "    \n",
    "    def __init__(self, titulo, autor, paginas):\n",
    "        self.titulo = titulo\n",
    "        self.autor = autor\n",
    "        self.paginas = paginas\n",
    "    \n",
    "    # Retorna um texto\n",
    "    def __str__(self):\n",
    "        return \"Título: %s , autor: %s, paginas: %s \"\\\n",
    "    %(self.titulo, self.autor, self.paginas)\n",
    "    \n",
    "    def __len__(self):\n",
    "        return self.paginas\n",
    "    \n",
    "    def len(self):\n",
    "        "
   ]
  },
  {
   "cell_type": "code",
   "execution_count": null,
   "id": "ec1923b4",
   "metadata": {},
   "outputs": [],
   "source": []
  }
 ],
 "metadata": {
  "kernelspec": {
   "display_name": "Python 3",
   "language": "python",
   "name": "python3"
  },
  "language_info": {
   "codemirror_mode": {
    "name": "ipython",
    "version": 3
   },
   "file_extension": ".py",
   "mimetype": "text/x-python",
   "name": "python",
   "nbconvert_exporter": "python",
   "pygments_lexer": "ipython3",
   "version": "3.8.8"
  }
 },
 "nbformat": 4,
 "nbformat_minor": 5
}
