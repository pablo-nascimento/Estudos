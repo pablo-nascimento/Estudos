{
 "cells": [
  {
   "cell_type": "code",
   "execution_count": null,
   "id": "ed44ce6f",
   "metadata": {},
   "outputs": [],
   "source": [
    "# Python - Data Science Academy - 26.07.22 - 20h24\n",
    "# Cap 02 - Tuplas\n",
    "# Sao imutaveis\n",
    "# tupla = (item1, item2)"
   ]
  },
  {
   "cell_type": "code",
   "execution_count": 1,
   "id": "3d13e1a6",
   "metadata": {},
   "outputs": [],
   "source": [
    "# Declarando uma tupla\n",
    "tupla = (\"item 1\", 2, \"item 2\")"
   ]
  },
  {
   "cell_type": "code",
   "execution_count": 2,
   "id": "299f30eb",
   "metadata": {},
   "outputs": [
    {
     "data": {
      "text/plain": [
       "('item 1', 2, 'item 2')"
      ]
     },
     "execution_count": 2,
     "metadata": {},
     "output_type": "execute_result"
    }
   ],
   "source": [
    "# Imprimindo a tupla\n",
    "tupla"
   ]
  },
  {
   "cell_type": "code",
   "execution_count": null,
   "id": "a410c8a6",
   "metadata": {},
   "outputs": [],
   "source": [
    "# Nao suportam metodos como o append (adicionar elementos)\n",
    "tupla.append()"
   ]
  },
  {
   "cell_type": "code",
   "execution_count": null,
   "id": "742ef968",
   "metadata": {},
   "outputs": [],
   "source": [
    "# Deletando - tentando deletar a tupla\n",
    "del tupla[1]"
   ]
  },
  {
   "cell_type": "code",
   "execution_count": 3,
   "id": "fcdf4426",
   "metadata": {},
   "outputs": [
    {
     "data": {
      "text/plain": [
       "2"
      ]
     },
     "execution_count": 3,
     "metadata": {},
     "output_type": "execute_result"
    }
   ],
   "source": [
    "# Usando a notacao de indice para retornar algum elemento em especifico\n",
    "tupla[1]"
   ]
  },
  {
   "cell_type": "code",
   "execution_count": 4,
   "id": "9dc64cbd",
   "metadata": {},
   "outputs": [
    {
     "data": {
      "text/plain": [
       "3"
      ]
     },
     "execution_count": 4,
     "metadata": {},
     "output_type": "execute_result"
    }
   ],
   "source": [
    "# Verificando o tamanho da tupla\n",
    "len(tupla)"
   ]
  },
  {
   "cell_type": "code",
   "execution_count": 14,
   "id": "8f065ba4",
   "metadata": {},
   "outputs": [
    {
     "data": {
      "text/plain": [
       "('item 1', 2)"
      ]
     },
     "execution_count": 14,
     "metadata": {},
     "output_type": "execute_result"
    }
   ],
   "source": [
    "# Slicing com a tupla, feita da mesma forma que foi em listas\n",
    "tupla[:2]"
   ]
  },
  {
   "cell_type": "code",
   "execution_count": 15,
   "id": "b46674a9",
   "metadata": {},
   "outputs": [
    {
     "data": {
      "text/plain": [
       "1"
      ]
     },
     "execution_count": 15,
     "metadata": {},
     "output_type": "execute_result"
    }
   ],
   "source": [
    "# Verificando o indice dos elementos da tupla\n",
    "tupla.index(2)"
   ]
  },
  {
   "cell_type": "code",
   "execution_count": 16,
   "id": "848d55d2",
   "metadata": {},
   "outputs": [],
   "source": [
    "# Alterando dados em uma tupla\n",
    "# Convertendo a tupla em lista\n",
    "lista_t = list(tupla)"
   ]
  },
  {
   "cell_type": "code",
   "execution_count": 18,
   "id": "f5ffa1dd",
   "metadata": {},
   "outputs": [],
   "source": [
    "# Alterando e adicionando os dados desejados\n",
    "# alterando o segundo indice\n",
    "lista_t[1] = 22\n",
    "\n",
    "lista_t.append(\"item4\")"
   ]
  },
  {
   "cell_type": "code",
   "execution_count": 19,
   "id": "51412d80",
   "metadata": {},
   "outputs": [],
   "source": [
    "# Convertendo a lista para tupla e atribuindo seu resultado para a tupla criada anteriormente\n",
    "tupla = tuple(lista_t)"
   ]
  },
  {
   "cell_type": "code",
   "execution_count": 20,
   "id": "176c0724",
   "metadata": {},
   "outputs": [
    {
     "data": {
      "text/plain": [
       "('item 1', 22, 'item 2', 'item4', 'item4')"
      ]
     },
     "execution_count": 20,
     "metadata": {},
     "output_type": "execute_result"
    }
   ],
   "source": [
    "# Imprimindo a 'nova' tupla\n",
    "tupla"
   ]
  },
  {
   "cell_type": "code",
   "execution_count": null,
   "id": "e0778f9f",
   "metadata": {},
   "outputs": [],
   "source": []
  }
 ],
 "metadata": {
  "kernelspec": {
   "display_name": "Python 3",
   "language": "python",
   "name": "python3"
  },
  "language_info": {
   "codemirror_mode": {
    "name": "ipython",
    "version": 3
   },
   "file_extension": ".py",
   "mimetype": "text/x-python",
   "name": "python",
   "nbconvert_exporter": "python",
   "pygments_lexer": "ipython3",
   "version": "3.8.8"
  }
 },
 "nbformat": 4,
 "nbformat_minor": 5
}
