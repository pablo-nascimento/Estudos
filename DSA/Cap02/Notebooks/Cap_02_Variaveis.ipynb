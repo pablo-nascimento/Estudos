{
 "cells": [
  {
   "cell_type": "code",
   "execution_count": 1,
   "id": "d20e7f91",
   "metadata": {},
   "outputs": [],
   "source": [
    "# Python - Data Science Academy - 18.07.22 - 19h39\n",
    "# Cap 02 - Variaveis e tipos de Dados"
   ]
  },
  {
   "cell_type": "code",
   "execution_count": 1,
   "id": "71026440",
   "metadata": {},
   "outputs": [
    {
     "data": {
      "text/plain": [
       "8"
      ]
     },
     "execution_count": 1,
     "metadata": {},
     "output_type": "execute_result"
    }
   ],
   "source": [
    "# Números e operacoes matematicas\n",
    "# Soma\n",
    "4 + 4"
   ]
  },
  {
   "cell_type": "code",
   "execution_count": 2,
   "id": "bd811c58",
   "metadata": {},
   "outputs": [
    {
     "data": {
      "text/plain": [
       "1"
      ]
     },
     "execution_count": 2,
     "metadata": {},
     "output_type": "execute_result"
    }
   ],
   "source": [
    "# Subtracao\n",
    "4 - 3\n"
   ]
  },
  {
   "cell_type": "code",
   "execution_count": 3,
   "id": "cdd805c3",
   "metadata": {},
   "outputs": [
    {
     "data": {
      "text/plain": [
       "2.0"
      ]
     },
     "execution_count": 3,
     "metadata": {},
     "output_type": "execute_result"
    }
   ],
   "source": [
    "# Divisao\n",
    "4 / 2\n"
   ]
  },
  {
   "cell_type": "code",
   "execution_count": 4,
   "id": "c854bf4c",
   "metadata": {},
   "outputs": [
    {
     "data": {
      "text/plain": [
       "16"
      ]
     },
     "execution_count": 4,
     "metadata": {},
     "output_type": "execute_result"
    }
   ],
   "source": [
    "# Multiplicacao\n",
    "2 * 8"
   ]
  },
  {
   "cell_type": "code",
   "execution_count": 5,
   "id": "7c1ce2da",
   "metadata": {},
   "outputs": [
    {
     "data": {
      "text/plain": [
       "27"
      ]
     },
     "execution_count": 5,
     "metadata": {},
     "output_type": "execute_result"
    }
   ],
   "source": [
    "# Potencia\n",
    "3 ** 3"
   ]
  },
  {
   "cell_type": "code",
   "execution_count": 6,
   "id": "92cc5468",
   "metadata": {},
   "outputs": [
    {
     "data": {
      "text/plain": [
       "1"
      ]
     },
     "execution_count": 6,
     "metadata": {},
     "output_type": "execute_result"
    }
   ],
   "source": [
    "# Modulo - resto da divisao\n",
    "10 % 3"
   ]
  },
  {
   "cell_type": "code",
   "execution_count": 8,
   "id": "445d7c41",
   "metadata": {},
   "outputs": [
    {
     "data": {
      "text/plain": [
       "float"
      ]
     },
     "execution_count": 8,
     "metadata": {},
     "output_type": "execute_result"
    }
   ],
   "source": [
    "# Funcao Type - com float\n",
    "type(3.2)"
   ]
  },
  {
   "cell_type": "code",
   "execution_count": 9,
   "id": "00acc830",
   "metadata": {},
   "outputs": [
    {
     "data": {
      "text/plain": [
       "int"
      ]
     },
     "execution_count": 9,
     "metadata": {},
     "output_type": "execute_result"
    }
   ],
   "source": [
    "# Funcao type com int\n",
    "type(5)"
   ]
  },
  {
   "cell_type": "code",
   "execution_count": 10,
   "id": "c993d4d0",
   "metadata": {},
   "outputs": [
    {
     "data": {
      "text/plain": [
       "str"
      ]
     },
     "execution_count": 10,
     "metadata": {},
     "output_type": "execute_result"
    }
   ],
   "source": [
    "# Funcao Type com String\n",
    "a = \"Python\"\n",
    "type(a)"
   ]
  },
  {
   "cell_type": "code",
   "execution_count": 11,
   "id": "29a26614",
   "metadata": {},
   "outputs": [
    {
     "data": {
      "text/plain": [
       "8.5"
      ]
     },
     "execution_count": 11,
     "metadata": {},
     "output_type": "execute_result"
    }
   ],
   "source": [
    "# operacoes com float\n",
    "3.1 + 5.4"
   ]
  },
  {
   "cell_type": "code",
   "execution_count": 12,
   "id": "780f558b",
   "metadata": {},
   "outputs": [
    {
     "data": {
      "text/plain": [
       "16.8"
      ]
     },
     "execution_count": 12,
     "metadata": {},
     "output_type": "execute_result"
    }
   ],
   "source": [
    "4 * 4.2"
   ]
  },
  {
   "cell_type": "code",
   "execution_count": 13,
   "id": "ccab265a",
   "metadata": {},
   "outputs": [
    {
     "data": {
      "text/plain": [
       "2.0"
      ]
     },
     "execution_count": 13,
     "metadata": {},
     "output_type": "execute_result"
    }
   ],
   "source": [
    "# Divisao com retorno de float e int\n",
    "# Retornando float\n",
    "4 / 2"
   ]
  },
  {
   "cell_type": "code",
   "execution_count": 14,
   "id": "4c505c79",
   "metadata": {},
   "outputs": [
    {
     "data": {
      "text/plain": [
       "2"
      ]
     },
     "execution_count": 14,
     "metadata": {},
     "output_type": "execute_result"
    }
   ],
   "source": [
    "# Retornando int\n",
    "4 // 2"
   ]
  },
  {
   "cell_type": "code",
   "execution_count": 15,
   "id": "9ad4cdfd",
   "metadata": {},
   "outputs": [
    {
     "data": {
      "text/plain": [
       "2"
      ]
     },
     "execution_count": 15,
     "metadata": {},
     "output_type": "execute_result"
    }
   ],
   "source": [
    "# Conversoes\n",
    "int(2.5)"
   ]
  },
  {
   "cell_type": "code",
   "execution_count": 16,
   "id": "3a9587ee",
   "metadata": {},
   "outputs": [
    {
     "data": {
      "text/plain": [
       "4.0"
      ]
     },
     "execution_count": 16,
     "metadata": {},
     "output_type": "execute_result"
    }
   ],
   "source": [
    "# int para float\n",
    "float(4)"
   ]
  },
  {
   "cell_type": "code",
   "execution_count": 17,
   "id": "76bca122",
   "metadata": {},
   "outputs": [
    {
     "data": {
      "text/plain": [
       "'0x17'"
      ]
     },
     "execution_count": 17,
     "metadata": {},
     "output_type": "execute_result"
    }
   ],
   "source": [
    "# Funcao Hexadecimal\n",
    "hex(23)"
   ]
  },
  {
   "cell_type": "code",
   "execution_count": 23,
   "id": "96058dda",
   "metadata": {},
   "outputs": [
    {
     "data": {
      "text/plain": [
       "'0b10001100000'"
      ]
     },
     "execution_count": 23,
     "metadata": {},
     "output_type": "execute_result"
    }
   ],
   "source": [
    "# Funcao bin\n",
    "bin(1120)"
   ]
  },
  {
   "cell_type": "code",
   "execution_count": 24,
   "id": "fb4655b0",
   "metadata": {},
   "outputs": [
    {
     "data": {
      "text/plain": [
       "8"
      ]
     },
     "execution_count": 24,
     "metadata": {},
     "output_type": "execute_result"
    }
   ],
   "source": [
    "# Algumas funcoes built-in\n",
    "# Retorna o valor absoluto\n",
    "abs(-8)"
   ]
  },
  {
   "cell_type": "code",
   "execution_count": null,
   "id": "5a02df9a",
   "metadata": {},
   "outputs": [],
   "source": []
  }
 ],
 "metadata": {
  "kernelspec": {
   "display_name": "Python 3",
   "language": "python",
   "name": "python3"
  },
  "language_info": {
   "codemirror_mode": {
    "name": "ipython",
    "version": 3
   },
   "file_extension": ".py",
   "mimetype": "text/x-python",
   "name": "python",
   "nbconvert_exporter": "python",
   "pygments_lexer": "ipython3",
   "version": "3.8.8"
  }
 },
 "nbformat": 4,
 "nbformat_minor": 5
}
