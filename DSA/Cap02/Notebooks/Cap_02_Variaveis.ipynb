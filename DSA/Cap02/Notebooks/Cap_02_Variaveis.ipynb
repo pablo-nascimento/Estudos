{
 "cells": [
  {
   "cell_type": "code",
   "execution_count": 1,
   "id": "d20e7f91",
   "metadata": {},
   "outputs": [],
   "source": [
    "# Python - Data Science Academy - 18.07.22 - 19h39\n",
    "# Cap 02 - Variaveis e tipos de Dados"
   ]
  },
  {
   "cell_type": "code",
   "execution_count": 1,
   "id": "71026440",
   "metadata": {},
   "outputs": [
    {
     "data": {
      "text/plain": [
       "8"
      ]
     },
     "execution_count": 1,
     "metadata": {},
     "output_type": "execute_result"
    }
   ],
   "source": [
    "# Números e operacoes matematicas\n",
    "# Soma\n",
    "4 + 4"
   ]
  },
  {
   "cell_type": "code",
   "execution_count": 2,
   "id": "b646026e",
   "metadata": {},
   "outputs": [
    {
     "data": {
      "text/plain": [
       "1"
      ]
     },
     "execution_count": 2,
     "metadata": {},
     "output_type": "execute_result"
    }
   ],
   "source": [
    "# Subtracao\n",
    "4 - 3\n"
   ]
  },
  {
   "cell_type": "code",
   "execution_count": 3,
   "id": "97d0ac20",
   "metadata": {},
   "outputs": [
    {
     "data": {
      "text/plain": [
       "2.0"
      ]
     },
     "execution_count": 3,
     "metadata": {},
     "output_type": "execute_result"
    }
   ],
   "source": [
    "# Divisao\n",
    "4 / 2\n"
   ]
  },
  {
   "cell_type": "code",
   "execution_count": 4,
   "id": "1eadb8ee",
   "metadata": {},
   "outputs": [
    {
     "data": {
      "text/plain": [
       "16"
      ]
     },
     "execution_count": 4,
     "metadata": {},
     "output_type": "execute_result"
    }
   ],
   "source": [
    "# Multiplicacao\n",
    "2 * 8"
   ]
  },
  {
   "cell_type": "code",
   "execution_count": 5,
   "id": "d1bf14d9",
   "metadata": {},
   "outputs": [
    {
     "data": {
      "text/plain": [
       "27"
      ]
     },
     "execution_count": 5,
     "metadata": {},
     "output_type": "execute_result"
    }
   ],
   "source": [
    "# Potencia\n",
    "3 ** 3"
   ]
  },
  {
   "cell_type": "code",
   "execution_count": 6,
   "id": "93dbed85",
   "metadata": {},
   "outputs": [
    {
     "data": {
      "text/plain": [
       "1"
      ]
     },
     "execution_count": 6,
     "metadata": {},
     "output_type": "execute_result"
    }
   ],
   "source": [
    "# Modulo - resto da divisao\n",
    "10 % 3"
   ]
  },
  {
   "cell_type": "code",
   "execution_count": null,
   "id": "8446c3bf",
   "metadata": {},
   "outputs": [],
   "source": []
  }
 ],
 "metadata": {
  "kernelspec": {
   "display_name": "Python 3",
   "language": "python",
   "name": "python3"
  },
  "language_info": {
   "codemirror_mode": {
    "name": "ipython",
    "version": 3
   },
   "file_extension": ".py",
   "mimetype": "text/x-python",
   "name": "python",
   "nbconvert_exporter": "python",
   "pygments_lexer": "ipython3",
   "version": "3.8.8"
  }
 },
 "nbformat": 4,
 "nbformat_minor": 5
}
