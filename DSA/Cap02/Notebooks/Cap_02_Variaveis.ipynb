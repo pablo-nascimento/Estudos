{
 "cells": [
  {
   "cell_type": "code",
   "execution_count": 1,
   "id": "c2dcb5be",
   "metadata": {},
   "outputs": [],
   "source": [
    "# Python - Data Science Academy - 18.07.22 - 19h39\n",
    "# Cap 02 - Variaveis e tipos de Dados"
   ]
  },
  {
   "cell_type": "code",
   "execution_count": 1,
   "id": "401dc81a",
   "metadata": {},
   "outputs": [],
   "source": [
    "# Atribuicao de valor a uma variavel \n",
    "var_teste = 1"
   ]
  },
  {
   "cell_type": "code",
   "execution_count": 3,
   "id": "9169399d",
   "metadata": {},
   "outputs": [
    {
     "name": "stdout",
     "output_type": "stream",
     "text": [
      "1\n"
     ]
    }
   ],
   "source": [
    "# imprimindo o valor da variavel\n",
    "print(var_teste)"
   ]
  },
  {
   "cell_type": "code",
   "execution_count": 4,
   "id": "61c396fe",
   "metadata": {},
   "outputs": [],
   "source": [
    "# Atribuindo novo valor a uma variavel já existente\n",
    "var_teste = 2"
   ]
  },
  {
   "cell_type": "code",
   "execution_count": 5,
   "id": "643d3cc6",
   "metadata": {},
   "outputs": [
    {
     "name": "stdout",
     "output_type": "stream",
     "text": [
      "2\n"
     ]
    }
   ],
   "source": [
    "# Imprimindo o novo valor da variavel\n",
    "print(var_teste)"
   ]
  },
  {
   "cell_type": "code",
   "execution_count": 6,
   "id": "49c0c133",
   "metadata": {},
   "outputs": [
    {
     "data": {
      "text/plain": [
       "int"
      ]
     },
     "execution_count": 6,
     "metadata": {},
     "output_type": "execute_result"
    }
   ],
   "source": [
    "# Verificando o tipo de dado da variavel já criada\n",
    "type(var_teste)"
   ]
  },
  {
   "cell_type": "code",
   "execution_count": 7,
   "id": "64f4fc6e",
   "metadata": {},
   "outputs": [],
   "source": [
    "# Atribuindo um novo valor\n",
    "var_teste = 2.4"
   ]
  },
  {
   "cell_type": "code",
   "execution_count": 8,
   "id": "5ffa8181",
   "metadata": {},
   "outputs": [
    {
     "name": "stdout",
     "output_type": "stream",
     "text": [
      "2.4\n"
     ]
    }
   ],
   "source": [
    "print(var_teste)"
   ]
  },
  {
   "cell_type": "code",
   "execution_count": 9,
   "id": "cb3b4b61",
   "metadata": {},
   "outputs": [
    {
     "data": {
      "text/plain": [
       "float"
      ]
     },
     "execution_count": 9,
     "metadata": {},
     "output_type": "execute_result"
    }
   ],
   "source": [
    "# Verificando o novo tipo da variavel\n",
    "type(var_teste)"
   ]
  },
  {
   "cell_type": "code",
   "execution_count": 10,
   "id": "d2782b8e",
   "metadata": {},
   "outputs": [
    {
     "name": "stdout",
     "output_type": "stream",
     "text": [
      "2\n"
     ]
    }
   ],
   "source": [
    "# Declarando uma variavel com um caractere\n",
    "x = 2\n",
    "print(x)"
   ]
  },
  {
   "cell_type": "code",
   "execution_count": 12,
   "id": "6d89c233",
   "metadata": {},
   "outputs": [],
   "source": [
    "# Declaracoes Multiplas de Variavel em uma unica linha de código\n",
    "pessoa1, pessoa2, pessoa3 = \"Jose\", \"Maria\", \"Fernanda\""
   ]
  },
  {
   "cell_type": "code",
   "execution_count": 16,
   "id": "6c32a4ba",
   "metadata": {},
   "outputs": [
    {
     "name": "stdout",
     "output_type": "stream",
     "text": [
      "Jose\n",
      "Maria\n",
      "Fernanda\n"
     ]
    }
   ],
   "source": [
    "# Imprimindo o conteudo das variaveis acima.\n",
    "print(pessoa1)\n",
    "print(pessoa2)\n",
    "print(pessoa3)"
   ]
  },
  {
   "cell_type": "code",
   "execution_count": 17,
   "id": "d6e6b9e2",
   "metadata": {},
   "outputs": [],
   "source": [
    "# Declaracao de Variaveis atraves de atribuicao de valores\n",
    "f1 = f2 = f3 = \"Laranja\""
   ]
  },
  {
   "cell_type": "code",
   "execution_count": 18,
   "id": "e9937a96",
   "metadata": {},
   "outputs": [
    {
     "name": "stdout",
     "output_type": "stream",
     "text": [
      "Laranja\n",
      "Laranja\n",
      "Laranja\n"
     ]
    }
   ],
   "source": [
    "# Imprimindo o valor das variaveis acima\n",
    "print(f1)\n",
    "print(f2)\n",
    "print(f3)"
   ]
  },
  {
   "cell_type": "code",
   "execution_count": 20,
   "id": "28494525",
   "metadata": {},
   "outputs": [
    {
     "name": "stdout",
     "output_type": "stream",
     "text": [
      "16\n"
     ]
    }
   ],
   "source": [
    "# Atribuicao de variaveis a outras variaveis\n",
    "largura = 2\n",
    "altura = 8\n",
    "area = largura * altura\n",
    "print(area)"
   ]
  },
  {
   "cell_type": "code",
   "execution_count": 21,
   "id": "2fff3252",
   "metadata": {},
   "outputs": [
    {
     "name": "stdout",
     "output_type": "stream",
     "text": [
      "20\n"
     ]
    }
   ],
   "source": [
    "# Atribuicao de variaveis e calculos numericos a outras variaveis\n",
    "perimetro = 2 * largura + 2 * altura\n",
    "print(perimetro)\n",
    "\n"
   ]
  },
  {
   "cell_type": "code",
   "execution_count": 22,
   "id": "39b99e52",
   "metadata": {},
   "outputs": [
    {
     "data": {
      "text/plain": [
       "64"
      ]
     },
     "execution_count": 22,
     "metadata": {},
     "output_type": "execute_result"
    }
   ],
   "source": [
    "# A ordem das operacoes pode ser alterada com o uso de ()\n",
    "perimetro = 2 * (largura + 2) * altura\n",
    "perimetro"
   ]
  },
  {
   "cell_type": "code",
   "execution_count": 25,
   "id": "8538358e",
   "metadata": {},
   "outputs": [
    {
     "name": "stdout",
     "output_type": "stream",
     "text": [
      "660\n",
      "540\n",
      "36000\n",
      "10\n"
     ]
    }
   ],
   "source": [
    "# Operacoes com variaveis\n",
    "idade1 = 600\n",
    "idade2 = 60\n",
    "print(idade1 + idade2)\n",
    "print(idade1 - idade2)\n",
    "print(idade1 * idade2)\n",
    "print(idade1 // idade2)"
   ]
  },
  {
   "cell_type": "code",
   "execution_count": 26,
   "id": "1acb5199",
   "metadata": {},
   "outputs": [
    {
     "name": "stdout",
     "output_type": "stream",
     "text": [
      "Sergio Esteves\n"
     ]
    }
   ],
   "source": [
    "# Concatenacao de variaveis\n",
    "nome = \"Sergio\"\n",
    "sobrenome = \"Esteves\"\n",
    "nome_completo = nome + \" \" + sobrenome\n",
    "print(nome_completo)"
   ]
  },
  {
   "cell_type": "code",
   "execution_count": null,
   "id": "f21cd9ed",
   "metadata": {},
   "outputs": [],
   "source": []
  }
 ],
 "metadata": {
  "kernelspec": {
   "display_name": "Python 3",
   "language": "python",
   "name": "python3"
  },
  "language_info": {
   "codemirror_mode": {
    "name": "ipython",
    "version": 3
   },
   "file_extension": ".py",
   "mimetype": "text/x-python",
   "name": "python",
   "nbconvert_exporter": "python",
   "pygments_lexer": "ipython3",
   "version": "3.8.8"
  }
 },
 "nbformat": 4,
 "nbformat_minor": 5
}
