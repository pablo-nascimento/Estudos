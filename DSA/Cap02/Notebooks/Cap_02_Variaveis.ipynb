{
 "cells": [
  {
   "cell_type": "code",
   "execution_count": 1,
   "id": "d20e7f91",
   "metadata": {},
   "outputs": [],
   "source": [
    "# Python - Data Science Academy - 18.07.22 - 19h39\n",
    "# Cap 02 - Variaveis e tipos de Dados"
   ]
  },
  {
   "cell_type": "code",
   "execution_count": null,
   "id": "71026440",
   "metadata": {},
   "outputs": [],
   "source": [
    "# Números e operacoes matematicas\n"
   ]
  }
 ],
 "metadata": {
  "kernelspec": {
   "display_name": "Python 3",
   "language": "python",
   "name": "python3"
  },
  "language_info": {
   "codemirror_mode": {
    "name": "ipython",
    "version": 3
   },
   "file_extension": ".py",
   "mimetype": "text/x-python",
   "name": "python",
   "nbconvert_exporter": "python",
   "pygments_lexer": "ipython3",
   "version": "3.8.8"
  }
 },
 "nbformat": 4,
 "nbformat_minor": 5
}
