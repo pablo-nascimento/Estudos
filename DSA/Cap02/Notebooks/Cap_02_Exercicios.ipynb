{
 "cells": [
  {
   "cell_type": "code",
   "execution_count": 1,
   "id": "388db286",
   "metadata": {},
   "outputs": [],
   "source": [
    "# Python - Data Science Academy - 25.07.22 - 20h36\n",
    "# Cap 02 - Exercicios"
   ]
  },
  {
   "cell_type": "code",
   "execution_count": 4,
   "id": "21767c62",
   "metadata": {},
   "outputs": [
    {
     "name": "stdout",
     "output_type": "stream",
     "text": [
      "1\n",
      "2\n",
      "3\n",
      "4\n",
      "5\n",
      "6\n",
      "7\n",
      "8\n",
      "9\n",
      "10\n"
     ]
    }
   ],
   "source": [
    "# Exercício 1 - Imprima na tela os números de 1 a 10. Use uma lista para armazenar os números.\n",
    "lista_num = [1, 2, 3, 4, 5, 6, 7, 8, 9, 10]\n",
    "lista_num # Imprimindo a lista\n",
    "\n",
    "for n in lista_num: # Usando o laco para percorrer a lista e imprimir seus itens.\n",
    "    print(n)"
   ]
  },
  {
   "cell_type": "code",
   "execution_count": 5,
   "id": "7e4808b2",
   "metadata": {},
   "outputs": [
    {
     "data": {
      "text/plain": [
       "['pao', 'chocolate', 'ovo', 'leite', 'acucar']"
      ]
     },
     "execution_count": 5,
     "metadata": {},
     "output_type": "execute_result"
    }
   ],
   "source": [
    "# Exercício 2 - Crie uma lista de 5 objetos e imprima na tela\n",
    "obj_list = [\"pao\", \"chocolate\", \"ovo\", \"leite\", \"acucar\"]\n",
    "obj_list"
   ]
  },
  {
   "cell_type": "code",
   "execution_count": 7,
   "id": "17cfc705",
   "metadata": {},
   "outputs": [
    {
     "name": "stdout",
     "output_type": "stream",
     "text": [
      "Essa é uma string que juntei com essa para ter essa frase.\n"
     ]
    }
   ],
   "source": [
    "# Exercício 3 - Crie duas strings e concatene as duas em uma terceira string\n",
    "s1 = \"Essa é uma string que \"\n",
    "s2 = \"juntei com essa para \"\n",
    "res = s1 + s2 + \"ter essa frase.\"\n",
    "print(res)"
   ]
  },
  {
   "cell_type": "code",
   "execution_count": 8,
   "id": "8a8b2187",
   "metadata": {},
   "outputs": [
    {
     "data": {
      "text/plain": [
       "3"
      ]
     },
     "execution_count": 8,
     "metadata": {},
     "output_type": "execute_result"
    }
   ],
   "source": [
    "# Exercício 4 - Crie uma tupla com os seguintes elementos: 1, 2, 2, 3, 4, 4, 4, 5 e depois utilize a função count do \n",
    "# objeto tupla para verificar quantas vezes o número 4 aparece na tupla\n",
    "t = (1, 2, 2, 3, 4, 4, 4, 5)\n",
    "t.count(4)"
   ]
  },
  {
   "cell_type": "code",
   "execution_count": 9,
   "id": "a89474e7",
   "metadata": {},
   "outputs": [
    {
     "data": {
      "text/plain": [
       "{}"
      ]
     },
     "execution_count": 9,
     "metadata": {},
     "output_type": "execute_result"
    }
   ],
   "source": [
    "# Exercício 5 - Crie um dicionário vazio e imprima na tela\n",
    "dict_vazio = {}\n",
    "dict_vazio"
   ]
  },
  {
   "cell_type": "code",
   "execution_count": 12,
   "id": "846661c8",
   "metadata": {},
   "outputs": [
    {
     "data": {
      "text/plain": [
       "{'k1': 'Listas', 'k2': 'Dicionarios', 'k3': 'Tuplas'}"
      ]
     },
     "execution_count": 12,
     "metadata": {},
     "output_type": "execute_result"
    }
   ],
   "source": [
    "# Exercício 6 - Crie um dicionário com 3 chaves e 3 valores e imprima na tela\n",
    "d = {\"k1\": \"Listas\", \"k2\": \"Dicionarios\", \"k3\": \"Tuplas\"}\n",
    "d"
   ]
  },
  {
   "cell_type": "code",
   "execution_count": 13,
   "id": "e861e995",
   "metadata": {},
   "outputs": [
    {
     "data": {
      "text/plain": [
       "{'k1': 'Listas', 'k2': 'Dicionarios', 'k3': 'Tuplas', 'k4': 'DataSets'}"
      ]
     },
     "execution_count": 13,
     "metadata": {},
     "output_type": "execute_result"
    }
   ],
   "source": [
    "# Exercício 7 - Adicione mais um elemento ao dicionário criado no exercício anterior e imprima na tela\n",
    "d[\"k4\"] = \"DataSets\"\n",
    "d"
   ]
  },
  {
   "cell_type": "code",
   "execution_count": 14,
   "id": "03818165",
   "metadata": {},
   "outputs": [
    {
     "data": {
      "text/plain": [
       "{'p1': 12344, 2: 'segundo valor', 'lista': [1, 2, 3, 44]}"
      ]
     },
     "execution_count": 14,
     "metadata": {},
     "output_type": "execute_result"
    }
   ],
   "source": [
    "# Exercício 8 - Crie um dicionário com 3 chaves e 3 valores. Um dos valores deve ser uma lista de 2 elementos numéricos. \n",
    "# Imprima o dicionário na tela.\n",
    "dict_an = {\"p1\": 12344, 2: \"segundo valor\", \"lista\": [1, 2, 3, 44]}\n",
    "dict_an"
   ]
  },
  {
   "cell_type": "code",
   "execution_count": 26,
   "id": "92fa41e1",
   "metadata": {},
   "outputs": [
    {
     "name": "stdout",
     "output_type": "stream",
     "text": [
      "Python\n",
      "2677 9012\n",
      "100\n",
      "200\n",
      "442.33\n"
     ]
    }
   ],
   "source": [
    "# Exercício 9 - Crie uma lista de 4 elementos. O primeiro elemento deve ser uma string, \n",
    "# o segundo uma tupla de 2 elementos, o terceiro um dcionário com 2 chaves e 2 valores e \n",
    "# o quarto elemento um valor do tipo float.\n",
    "# Imprima a lista na tela.\n",
    "lista_ex9 = [\"Python\", (2677, 9012,), {\"k1\": 100, \"k2\": 200},  442.33]\n",
    "lista_ex9\n",
    "print(lista_ex9[0])\n",
    "print(lista_ex9[1][0], lista_ex9[1][1])\n",
    "print(lista_ex9[2][\"k1\"])\n",
    "print(lista_ex9[2][\"k2\"])\n",
    "print(lista_ex9[3])"
   ]
  },
  {
   "cell_type": "code",
   "execution_count": 21,
   "id": "1be329cb",
   "metadata": {},
   "outputs": [
    {
     "data": {
      "text/plain": [
       "'Cientista de Dados'"
      ]
     },
     "execution_count": 21,
     "metadata": {},
     "output_type": "execute_result"
    }
   ],
   "source": [
    "# Exercício 10 - Considere a string abaixo. Imprima na tela apenas os caracteres da posição 1 a 18.\n",
    "frase = 'Cientista de Dados é o profissional mais sexy do século XXI'\n",
    "frase[:18]"
   ]
  },
  {
   "cell_type": "code",
   "execution_count": null,
   "id": "6adb154e",
   "metadata": {},
   "outputs": [],
   "source": []
  }
 ],
 "metadata": {
  "kernelspec": {
   "display_name": "Python 3",
   "language": "python",
   "name": "python3"
  },
  "language_info": {
   "codemirror_mode": {
    "name": "ipython",
    "version": 3
   },
   "file_extension": ".py",
   "mimetype": "text/x-python",
   "name": "python",
   "nbconvert_exporter": "python",
   "pygments_lexer": "ipython3",
   "version": "3.8.8"
  }
 },
 "nbformat": 4,
 "nbformat_minor": 5
}
