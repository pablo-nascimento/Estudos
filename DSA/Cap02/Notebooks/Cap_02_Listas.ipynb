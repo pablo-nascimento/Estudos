{
 "cells": [
  {
   "cell_type": "code",
   "execution_count": 1,
   "id": "604c69e5",
   "metadata": {},
   "outputs": [],
   "source": [
    "# Python - Data Science Academy - 20.07.22 - 19h58\n",
    "# Cap 02 - Listas"
   ]
  },
  {
   "cell_type": "code",
   "execution_count": 20,
   "id": "cd90b7d1",
   "metadata": {},
   "outputs": [],
   "source": [
    "# Criando e declarando uma lista em Python\n",
    "lista_mercado = [\"ovo, farinha, leite, chocolate\"] # 1 item\n",
    "lista_mercado2 = [\"ovo\", \"farinha\", \"leite\", \"chocolate\"] \n",
    "# 4 itens - cada elemento dividido por \"\", separado por virgula. "
   ]
  },
  {
   "cell_type": "code",
   "execution_count": 7,
   "id": "1f95a2d8",
   "metadata": {},
   "outputs": [
    {
     "name": "stdout",
     "output_type": "stream",
     "text": [
      "['ovo, farinha, leite, chocolate']\n",
      "['ovo', 'farinha', 'leite', 'chocolate']\n"
     ]
    }
   ],
   "source": [
    "# Imprimindo as listas\n",
    "print(lista_mercado)\n",
    "print(lista_mercado2)"
   ]
  },
  {
   "cell_type": "code",
   "execution_count": 9,
   "id": "663c7527",
   "metadata": {},
   "outputs": [
    {
     "data": {
      "text/plain": [
       "'ovo, farinha, leite, chocolate'"
      ]
     },
     "execution_count": 9,
     "metadata": {},
     "output_type": "execute_result"
    }
   ],
   "source": [
    "# Primeira posicao da lista de unico item\n",
    "lista_mercado[0]"
   ]
  },
  {
   "cell_type": "code",
   "execution_count": 12,
   "id": "d91cf0a0",
   "metadata": {},
   "outputs": [
    {
     "data": {
      "text/plain": [
       "'ovo'"
      ]
     },
     "execution_count": 12,
     "metadata": {},
     "output_type": "execute_result"
    }
   ],
   "source": [
    "# Primeiro item da lista de 4 itens\n",
    "lista_mercado2[0]"
   ]
  },
  {
   "cell_type": "code",
   "execution_count": 13,
   "id": "707f0337",
   "metadata": {},
   "outputs": [],
   "source": [
    "# Criando uma lista com tipos de dados diferentes\n",
    "lista1 = [1, 2.3, \"string\"]"
   ]
  },
  {
   "cell_type": "code",
   "execution_count": 14,
   "id": "0a362099",
   "metadata": {},
   "outputs": [
    {
     "name": "stdout",
     "output_type": "stream",
     "text": [
      "[1, 2.3, 'string']\n"
     ]
    }
   ],
   "source": [
    "# Imprimindo a lista acima\n",
    "print(lista1)"
   ]
  },
  {
   "cell_type": "code",
   "execution_count": 16,
   "id": "fe2a944b",
   "metadata": {},
   "outputs": [
    {
     "name": "stdout",
     "output_type": "stream",
     "text": [
      "1 2.3 string\n"
     ]
    }
   ],
   "source": [
    "# Atribuindo cada valor da lista a uma variavel diferente\n",
    "item1 = lista1[0]\n",
    "item2 = lista1[1]\n",
    "item3 = lista1[2]\n",
    "\n",
    "print (item1, item2, item3)"
   ]
  },
  {
   "cell_type": "code",
   "execution_count": 24,
   "id": "9df80854",
   "metadata": {},
   "outputs": [
    {
     "ename": "IndexError",
     "evalue": "list assignment index out of range",
     "output_type": "error",
     "traceback": [
      "\u001b[0;31m---------------------------------------------------------------------------\u001b[0m",
      "\u001b[0;31mIndexError\u001b[0m                                Traceback (most recent call last)",
      "\u001b[0;32m<ipython-input-24-868d344670c1>\u001b[0m in \u001b[0;36m<module>\u001b[0;34m\u001b[0m\n\u001b[1;32m      1\u001b[0m \u001b[0;31m# Atualizando um elemento de uma lista - lista, objeto mutavel\u001b[0m\u001b[0;34m\u001b[0m\u001b[0;34m\u001b[0m\u001b[0;34m\u001b[0m\u001b[0m\n\u001b[0;32m----> 2\u001b[0;31m \u001b[0mlista_mercado2\u001b[0m\u001b[0;34m[\u001b[0m\u001b[0;36m3\u001b[0m\u001b[0;34m]\u001b[0m \u001b[0;34m=\u001b[0m \u001b[0;34m\"margarina\"\u001b[0m\u001b[0;34m\u001b[0m\u001b[0;34m\u001b[0m\u001b[0m\n\u001b[0m\u001b[1;32m      3\u001b[0m \u001b[0;34m\u001b[0m\u001b[0m\n\u001b[1;32m      4\u001b[0m \u001b[0mlista_mercado2\u001b[0m\u001b[0;34m\u001b[0m\u001b[0;34m\u001b[0m\u001b[0m\n",
      "\u001b[0;31mIndexError\u001b[0m: list assignment index out of range"
     ]
    }
   ],
   "source": [
    "# Atualizando um elemento de uma lista - lista, objeto mutavel\n",
    "lista_mercado2[3] = \"margarina\"\n",
    "\n",
    "lista_mercado2"
   ]
  },
  {
   "cell_type": "code",
   "execution_count": 25,
   "id": "8b7f931b",
   "metadata": {},
   "outputs": [
    {
     "ename": "IndexError",
     "evalue": "list assignment index out of range",
     "output_type": "error",
     "traceback": [
      "\u001b[0;31m---------------------------------------------------------------------------\u001b[0m",
      "\u001b[0;31mIndexError\u001b[0m                                Traceback (most recent call last)",
      "\u001b[0;32m<ipython-input-25-0d99c6b995c7>\u001b[0m in \u001b[0;36m<module>\u001b[0;34m\u001b[0m\n\u001b[1;32m      1\u001b[0m \u001b[0;31m# Removendo um item da lista\u001b[0m\u001b[0;34m\u001b[0m\u001b[0;34m\u001b[0m\u001b[0;34m\u001b[0m\u001b[0m\n\u001b[0;32m----> 2\u001b[0;31m \u001b[0;32mdel\u001b[0m \u001b[0mlista_mercado2\u001b[0m\u001b[0;34m[\u001b[0m\u001b[0;36m3\u001b[0m\u001b[0;34m]\u001b[0m\u001b[0;34m\u001b[0m\u001b[0;34m\u001b[0m\u001b[0m\n\u001b[0m\u001b[1;32m      3\u001b[0m \u001b[0mlista_mercado2\u001b[0m\u001b[0;34m\u001b[0m\u001b[0;34m\u001b[0m\u001b[0m\n",
      "\u001b[0;31mIndexError\u001b[0m: list assignment index out of range"
     ]
    }
   ],
   "source": [
    "# Removendo um item da lista\n",
    "del lista_mercado2[3]\n",
    "lista_mercado2"
   ]
  },
  {
   "cell_type": "code",
   "execution_count": null,
   "id": "ff3d7d29",
   "metadata": {},
   "outputs": [],
   "source": []
  }
 ],
 "metadata": {
  "kernelspec": {
   "display_name": "Python 3",
   "language": "python",
   "name": "python3"
  },
  "language_info": {
   "codemirror_mode": {
    "name": "ipython",
    "version": 3
   },
   "file_extension": ".py",
   "mimetype": "text/x-python",
   "name": "python",
   "nbconvert_exporter": "python",
   "pygments_lexer": "ipython3",
   "version": "3.8.8"
  }
 },
 "nbformat": 4,
 "nbformat_minor": 5
}
