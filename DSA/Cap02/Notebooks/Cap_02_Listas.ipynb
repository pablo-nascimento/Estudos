{
 "cells": [
  {
   "cell_type": "code",
   "execution_count": 1,
   "id": "960e24ff",
   "metadata": {},
   "outputs": [],
   "source": [
    "# Python - Data Science Academy - 20.07.22 - 19h58\n",
    "# Cap 02 - Listas"
   ]
  },
  {
   "cell_type": "code",
   "execution_count": 20,
   "id": "8abb9365",
   "metadata": {},
   "outputs": [],
   "source": [
    "# Criando e declarando uma lista em Python\n",
    "lista_mercado = [\"ovo, farinha, leite, chocolate\"] # 1 item\n",
    "lista_mercado2 = [\"ovo\", \"farinha\", \"leite\", \"chocolate\"] \n",
    "# 4 itens - cada elemento dividido por \"\", separado por virgula. "
   ]
  },
  {
   "cell_type": "code",
   "execution_count": 7,
   "id": "2bae21d4",
   "metadata": {},
   "outputs": [
    {
     "name": "stdout",
     "output_type": "stream",
     "text": [
      "['ovo, farinha, leite, chocolate']\n",
      "['ovo', 'farinha', 'leite', 'chocolate']\n"
     ]
    }
   ],
   "source": [
    "# Imprimindo as listas\n",
    "print(lista_mercado)\n",
    "print(lista_mercado2)"
   ]
  },
  {
   "cell_type": "code",
   "execution_count": 9,
   "id": "abf99c92",
   "metadata": {},
   "outputs": [
    {
     "data": {
      "text/plain": [
       "'ovo, farinha, leite, chocolate'"
      ]
     },
     "execution_count": 9,
     "metadata": {},
     "output_type": "execute_result"
    }
   ],
   "source": [
    "# Primeira posicao da lista de unico item\n",
    "lista_mercado[0]"
   ]
  },
  {
   "cell_type": "code",
   "execution_count": 12,
   "id": "8d8bc2ab",
   "metadata": {},
   "outputs": [
    {
     "data": {
      "text/plain": [
       "'ovo'"
      ]
     },
     "execution_count": 12,
     "metadata": {},
     "output_type": "execute_result"
    }
   ],
   "source": [
    "# Primeiro item da lista de 4 itens\n",
    "lista_mercado2[0]"
   ]
  },
  {
   "cell_type": "code",
   "execution_count": 13,
   "id": "bb72f1c7",
   "metadata": {},
   "outputs": [],
   "source": [
    "# Criando uma lista com tipos de dados diferentes\n",
    "lista1 = [1, 2.3, \"string\"]"
   ]
  },
  {
   "cell_type": "code",
   "execution_count": 14,
   "id": "f6df6db0",
   "metadata": {},
   "outputs": [
    {
     "name": "stdout",
     "output_type": "stream",
     "text": [
      "[1, 2.3, 'string']\n"
     ]
    }
   ],
   "source": [
    "# Imprimindo a lista acima\n",
    "print(lista1)"
   ]
  },
  {
   "cell_type": "code",
   "execution_count": 16,
   "id": "5df04bd4",
   "metadata": {},
   "outputs": [
    {
     "name": "stdout",
     "output_type": "stream",
     "text": [
      "1 2.3 string\n"
     ]
    }
   ],
   "source": [
    "# Atribuindo cada valor da lista a uma variavel diferente\n",
    "item1 = lista1[0]\n",
    "item2 = lista1[1]\n",
    "item3 = lista1[2]\n",
    "\n",
    "print (item1, item2, item3)"
   ]
  },
  {
   "cell_type": "code",
   "execution_count": 24,
   "id": "fecedff7",
   "metadata": {},
   "outputs": [
    {
     "ename": "IndexError",
     "evalue": "list assignment index out of range",
     "output_type": "error",
     "traceback": [
      "\u001b[0;31m---------------------------------------------------------------------------\u001b[0m",
      "\u001b[0;31mIndexError\u001b[0m                                Traceback (most recent call last)",
      "\u001b[0;32m<ipython-input-24-868d344670c1>\u001b[0m in \u001b[0;36m<module>\u001b[0;34m\u001b[0m\n\u001b[1;32m      1\u001b[0m \u001b[0;31m# Atualizando um elemento de uma lista - lista, objeto mutavel\u001b[0m\u001b[0;34m\u001b[0m\u001b[0;34m\u001b[0m\u001b[0;34m\u001b[0m\u001b[0m\n\u001b[0;32m----> 2\u001b[0;31m \u001b[0mlista_mercado2\u001b[0m\u001b[0;34m[\u001b[0m\u001b[0;36m3\u001b[0m\u001b[0;34m]\u001b[0m \u001b[0;34m=\u001b[0m \u001b[0;34m\"margarina\"\u001b[0m\u001b[0;34m\u001b[0m\u001b[0;34m\u001b[0m\u001b[0m\n\u001b[0m\u001b[1;32m      3\u001b[0m \u001b[0;34m\u001b[0m\u001b[0m\n\u001b[1;32m      4\u001b[0m \u001b[0mlista_mercado2\u001b[0m\u001b[0;34m\u001b[0m\u001b[0;34m\u001b[0m\u001b[0m\n",
      "\u001b[0;31mIndexError\u001b[0m: list assignment index out of range"
     ]
    }
   ],
   "source": [
    "# Atualizando um elemento de uma lista - lista, objeto mutavel\n",
    "lista_mercado2[3] = \"margarina\"\n",
    "\n",
    "lista_mercado2"
   ]
  },
  {
   "cell_type": "code",
   "execution_count": 25,
   "id": "c5efe8ec",
   "metadata": {},
   "outputs": [
    {
     "ename": "IndexError",
     "evalue": "list assignment index out of range",
     "output_type": "error",
     "traceback": [
      "\u001b[0;31m---------------------------------------------------------------------------\u001b[0m",
      "\u001b[0;31mIndexError\u001b[0m                                Traceback (most recent call last)",
      "\u001b[0;32m<ipython-input-25-0d99c6b995c7>\u001b[0m in \u001b[0;36m<module>\u001b[0;34m\u001b[0m\n\u001b[1;32m      1\u001b[0m \u001b[0;31m# Removendo um item da lista\u001b[0m\u001b[0;34m\u001b[0m\u001b[0;34m\u001b[0m\u001b[0;34m\u001b[0m\u001b[0m\n\u001b[0;32m----> 2\u001b[0;31m \u001b[0;32mdel\u001b[0m \u001b[0mlista_mercado2\u001b[0m\u001b[0;34m[\u001b[0m\u001b[0;36m3\u001b[0m\u001b[0;34m]\u001b[0m\u001b[0;34m\u001b[0m\u001b[0;34m\u001b[0m\u001b[0m\n\u001b[0m\u001b[1;32m      3\u001b[0m \u001b[0mlista_mercado2\u001b[0m\u001b[0;34m\u001b[0m\u001b[0;34m\u001b[0m\u001b[0m\n",
      "\u001b[0;31mIndexError\u001b[0m: list assignment index out of range"
     ]
    }
   ],
   "source": [
    "# Removendo um item da lista - informar o indice\n",
    "del lista_mercado2[3]\n"
   ]
  },
  {
   "cell_type": "code",
   "execution_count": 26,
   "id": "d25190da",
   "metadata": {},
   "outputs": [
    {
     "data": {
      "text/plain": [
       "['ovo', 'farinha', 'leite']"
      ]
     },
     "execution_count": 26,
     "metadata": {},
     "output_type": "execute_result"
    }
   ],
   "source": [
    "# Imprimindo a lista apos remover o ultimo item\n",
    "lista_mercado2"
   ]
  },
  {
   "cell_type": "code",
   "execution_count": 27,
   "id": "2e2326b4",
   "metadata": {},
   "outputs": [],
   "source": [
    "# Listas de Listas, ou Listas Aninhadas.\n",
    "listas = [[1,2,3], [4,5,6], [7,8,9], [10]]"
   ]
  },
  {
   "cell_type": "code",
   "execution_count": 28,
   "id": "11f21ad6",
   "metadata": {},
   "outputs": [
    {
     "data": {
      "text/plain": [
       "[[1, 2, 3], [4, 5, 6], [7, 8, 9], [10]]"
      ]
     },
     "execution_count": 28,
     "metadata": {},
     "output_type": "execute_result"
    }
   ],
   "source": [
    "# Imprimindo a lista aninhada\n",
    "listas"
   ]
  },
  {
   "cell_type": "code",
   "execution_count": 31,
   "id": "a2d52f1a",
   "metadata": {},
   "outputs": [
    {
     "data": {
      "text/plain": [
       "[1, 2, 3]"
      ]
     },
     "execution_count": 31,
     "metadata": {},
     "output_type": "execute_result"
    }
   ],
   "source": [
    "# Atribuicao de um item da lista aninhada acima, a uma variavel\n",
    "a = listas[0]\n",
    "a"
   ]
  },
  {
   "cell_type": "code",
   "execution_count": 33,
   "id": "92ed12bf",
   "metadata": {},
   "outputs": [
    {
     "data": {
      "text/plain": [
       "2"
      ]
     },
     "execution_count": 33,
     "metadata": {},
     "output_type": "execute_result"
    }
   ],
   "source": [
    "# Atribuindo um item da lista a a variavel b\n",
    "b = a[1]\n",
    "b"
   ]
  },
  {
   "cell_type": "code",
   "execution_count": 44,
   "id": "4719d8f4",
   "metadata": {},
   "outputs": [
    {
     "data": {
      "text/plain": [
       "[[1, 2, 3], [4, 5, 6]]"
      ]
     },
     "execution_count": 44,
     "metadata": {},
     "output_type": "execute_result"
    }
   ],
   "source": [
    "# Atribuindo dois itens da lista aninhada a uma variavel\n",
    "c = listas[0], listas[1] \n",
    "list(c)\n",
    "# Usei uma dupla atribuicao, separada por virgula\n",
    "# so que, resultou em uma tupla de listas, entao, usei a funcao \n",
    "# list para converter e manter em lista.\n",
    "# Atribuindo as duas primeiras posicoes somando a primeira com a segunda\n",
    "# O resultado sera uma unica lista"
   ]
  },
  {
   "cell_type": "code",
   "execution_count": 45,
   "id": "789732a7",
   "metadata": {},
   "outputs": [
    {
     "data": {
      "text/plain": [
       "5"
      ]
     },
     "execution_count": 45,
     "metadata": {},
     "output_type": "execute_result"
    }
   ],
   "source": [
    "# Atribuindo a segunda posicao da segunda lista da lista aninhada\n",
    "d = listas[1][1]\n",
    "d"
   ]
  },
  {
   "cell_type": "code",
   "execution_count": 47,
   "id": "388e95e6",
   "metadata": {},
   "outputs": [
    {
     "data": {
      "text/plain": [
       "4"
      ]
     },
     "execution_count": 47,
     "metadata": {},
     "output_type": "execute_result"
    }
   ],
   "source": [
    "# Retornando, feito acima, cada elemento individualmente da lista aninhada\n",
    "listas[1][0]"
   ]
  },
  {
   "cell_type": "code",
   "execution_count": 49,
   "id": "c244d992",
   "metadata": {},
   "outputs": [
    {
     "data": {
      "text/plain": [
       "9"
      ]
     },
     "execution_count": 49,
     "metadata": {},
     "output_type": "execute_result"
    }
   ],
   "source": [
    "# Realizando operacoes matematicas com um valor qualquer da lista\n",
    "res = listas[0][2] * 3\n",
    "res"
   ]
  },
  {
   "cell_type": "code",
   "execution_count": 50,
   "id": "d640a48f",
   "metadata": {},
   "outputs": [
    {
     "data": {
      "text/plain": [
       "[234, 55, 32, 1, 33, 99]"
      ]
     },
     "execution_count": 50,
     "metadata": {},
     "output_type": "execute_result"
    }
   ],
   "source": [
    "# Concatenando listas\n",
    "l1 = [234, 55, 32]\n",
    "l2 = [1, 33, 99]\n",
    "l3 = l1 + l2\n",
    "l3 # Nao vai somar cada item em cada posicao, e sim criar uma nova lista.# "
   ]
  },
  {
   "cell_type": "code",
   "execution_count": 52,
   "id": "11642095",
   "metadata": {},
   "outputs": [
    {
     "name": "stdout",
     "output_type": "stream",
     "text": [
      "True\n"
     ]
    }
   ],
   "source": [
    "# Usando o operador in, para verificar se um elemento existe dentro de uma lista.\n",
    "print(234 in l1)"
   ]
  },
  {
   "cell_type": "code",
   "execution_count": 53,
   "id": "f5f4954a",
   "metadata": {},
   "outputs": [
    {
     "data": {
      "text/plain": [
       "6"
      ]
     },
     "execution_count": 53,
     "metadata": {},
     "output_type": "execute_result"
    }
   ],
   "source": [
    "# Funcoes Built-In\n",
    "# Retorna o tamanho da lista \n",
    "len(l3)"
   ]
  },
  {
   "cell_type": "code",
   "execution_count": 54,
   "id": "b380280f",
   "metadata": {},
   "outputs": [
    {
     "data": {
      "text/plain": [
       "234"
      ]
     },
     "execution_count": 54,
     "metadata": {},
     "output_type": "execute_result"
    }
   ],
   "source": [
    "# Maior valor\n",
    "max(l3)"
   ]
  },
  {
   "cell_type": "code",
   "execution_count": 55,
   "id": "de1b0ad2",
   "metadata": {},
   "outputs": [
    {
     "data": {
      "text/plain": [
       "1"
      ]
     },
     "execution_count": 55,
     "metadata": {},
     "output_type": "execute_result"
    }
   ],
   "source": [
    "# Menor valor\n",
    "min(l3)"
   ]
  },
  {
   "cell_type": "code",
   "execution_count": 57,
   "id": "2aaa3c9e",
   "metadata": {},
   "outputs": [
    {
     "data": {
      "text/plain": [
       "['ovo', 'farinha', 'leite', 'chocolate', 'chocolate']"
      ]
     },
     "execution_count": 57,
     "metadata": {},
     "output_type": "execute_result"
    }
   ],
   "source": [
    "# Adicionando um elemento a lista\n",
    "lista_mercado2.append(\"chocolate\")\n",
    "lista_mercado2"
   ]
  },
  {
   "cell_type": "code",
   "execution_count": 58,
   "id": "47505fca",
   "metadata": {},
   "outputs": [
    {
     "data": {
      "text/plain": [
       "2"
      ]
     },
     "execution_count": 58,
     "metadata": {},
     "output_type": "execute_result"
    }
   ],
   "source": [
    "# Contando quantas vezes um elemento aparece na lista\n",
    "lista_mercado2.count(\"chocolate\")"
   ]
  },
  {
   "cell_type": "code",
   "execution_count": 59,
   "id": "dde94fb8",
   "metadata": {},
   "outputs": [],
   "source": [
    "# Criando listas vazias\n",
    "lista_vazia = []"
   ]
  },
  {
   "cell_type": "code",
   "execution_count": 60,
   "id": "555aa632",
   "metadata": {},
   "outputs": [
    {
     "data": {
      "text/plain": [
       "[]"
      ]
     },
     "execution_count": 60,
     "metadata": {},
     "output_type": "execute_result"
    }
   ],
   "source": [
    "lista_vazia"
   ]
  },
  {
   "cell_type": "code",
   "execution_count": 62,
   "id": "a9765452",
   "metadata": {},
   "outputs": [
    {
     "data": {
      "text/plain": [
       "list"
      ]
     },
     "execution_count": 62,
     "metadata": {},
     "output_type": "execute_result"
    }
   ],
   "source": [
    "# Verificando o tipo de dado de lista_vazia\n",
    "type(lista_vazia)"
   ]
  },
  {
   "cell_type": "code",
   "execution_count": 63,
   "id": "2ac1ddf2",
   "metadata": {},
   "outputs": [],
   "source": [
    "# Adicionando itens a lista vazia\n",
    "lista_vazia.append(1)\n",
    "lista_vazia.append(2.3)\n",
    "lista_vazia.append(\"String\")"
   ]
  },
  {
   "cell_type": "code",
   "execution_count": 64,
   "id": "509e4059",
   "metadata": {},
   "outputs": [
    {
     "data": {
      "text/plain": [
       "[1, 2.3, 'String']"
      ]
     },
     "execution_count": 64,
     "metadata": {},
     "output_type": "execute_result"
    }
   ],
   "source": [
    "lista_vazia"
   ]
  },
  {
   "cell_type": "code",
   "execution_count": 66,
   "id": "a804cc50",
   "metadata": {},
   "outputs": [
    {
     "data": {
      "text/plain": [
       "[2, 4, 6, 8, 10]"
      ]
     },
     "execution_count": 66,
     "metadata": {},
     "output_type": "execute_result"
    }
   ],
   "source": [
    "# Adicionando itens a uma lista nova, a partir de uma lista antiga\n",
    "old_list = [2, 4, 6, 8, 10]\n",
    "new_list = []\n",
    "for item in old_list:\n",
    "    new_list.append(item) # adiciona o conteudo de item, a new_list, atraves do .append\n",
    "new_list"
   ]
  },
  {
   "cell_type": "code",
   "execution_count": 71,
   "id": "adff5440",
   "metadata": {},
   "outputs": [
    {
     "data": {
      "text/plain": [
       "['Sao Paulo', 'Cotia', 'Barueri', 'Jandira']"
      ]
     },
     "execution_count": 71,
     "metadata": {},
     "output_type": "execute_result"
    }
   ],
   "source": [
    "cidades = [\"Sao Paulo\", \"Cotia\", \"Barueri\", \"Jandira\"]\n",
    "cidades"
   ]
  },
  {
   "cell_type": "code",
   "execution_count": 72,
   "id": "dc286ad8",
   "metadata": {},
   "outputs": [
    {
     "data": {
      "text/plain": [
       "['Sao Paulo', 'Cotia', 'Barueri', 'Jandira', 'Carapicuiba', 'Itapevi']"
      ]
     },
     "execution_count": 72,
     "metadata": {},
     "output_type": "execute_result"
    }
   ],
   "source": [
    "# Metodo extend, adicionou as strings abaixo a lista cidades\n",
    "cidades.extend([\"Carapicuiba\", \"Itapevi\"])\n",
    "cidades"
   ]
  },
  {
   "cell_type": "code",
   "execution_count": 73,
   "id": "1ac30d2f",
   "metadata": {},
   "outputs": [
    {
     "data": {
      "text/plain": [
       "1"
      ]
     },
     "execution_count": 73,
     "metadata": {},
     "output_type": "execute_result"
    }
   ],
   "source": [
    "# Achar o indice passando o conteudo como parametro\n",
    "cidades.index(\"Cotia\")"
   ]
  },
  {
   "cell_type": "code",
   "execution_count": 74,
   "id": "7282e90d",
   "metadata": {},
   "outputs": [
    {
     "data": {
      "text/plain": [
       "['Sao Paulo',\n",
       " 'Cotia',\n",
       " 'Petropolis',\n",
       " 'Barueri',\n",
       " 'Jandira',\n",
       " 'Carapicuiba',\n",
       " 'Itapevi']"
      ]
     },
     "execution_count": 74,
     "metadata": {},
     "output_type": "execute_result"
    }
   ],
   "source": [
    "# Inserir um elemento na lista, em um indice especifico\n",
    "cidades.insert(2, \"Petropolis\")\n",
    "cidades"
   ]
  },
  {
   "cell_type": "code",
   "execution_count": 75,
   "id": "2213dc7d",
   "metadata": {},
   "outputs": [
    {
     "data": {
      "text/plain": [
       "['Sao Paulo', 'Cotia', 'Barueri', 'Jandira', 'Carapicuiba', 'Itapevi']"
      ]
     },
     "execution_count": 75,
     "metadata": {},
     "output_type": "execute_result"
    }
   ],
   "source": [
    "# Remover um item da lista\n",
    "cidades.remove(\"Petropolis\")\n",
    "cidades"
   ]
  },
  {
   "cell_type": "code",
   "execution_count": 79,
   "id": "c61f27be",
   "metadata": {},
   "outputs": [
    {
     "data": {
      "text/plain": [
       "['Itapevi', 'Carapicuiba', 'Jandira', 'Barueri', 'Cotia', 'Sao Paulo']"
      ]
     },
     "execution_count": 79,
     "metadata": {},
     "output_type": "execute_result"
    }
   ],
   "source": [
    "# Reverter a lista\n",
    "cidades.reverse()\n",
    "cidades"
   ]
  },
  {
   "cell_type": "code",
   "execution_count": 80,
   "id": "c4e5af87",
   "metadata": {},
   "outputs": [
    {
     "data": {
      "text/plain": [
       "[1, 2, 3, 4, 5, 8]"
      ]
     },
     "execution_count": 80,
     "metadata": {},
     "output_type": "execute_result"
    }
   ],
   "source": [
    "# Ordenacao de lista\n",
    "x = [2, 4, 5, 1, 8, 3]\n",
    "x.sort()\n",
    "x"
   ]
  },
  {
   "cell_type": "code",
   "execution_count": null,
   "id": "3b01d2bd",
   "metadata": {},
   "outputs": [],
   "source": []
  }
 ],
 "metadata": {
  "kernelspec": {
   "display_name": "Python 3",
   "language": "python",
   "name": "python3"
  },
  "language_info": {
   "codemirror_mode": {
    "name": "ipython",
    "version": 3
   },
   "file_extension": ".py",
   "mimetype": "text/x-python",
   "name": "python",
   "nbconvert_exporter": "python",
   "pygments_lexer": "ipython3",
   "version": "3.8.8"
  }
 },
 "nbformat": 4,
 "nbformat_minor": 5
}
