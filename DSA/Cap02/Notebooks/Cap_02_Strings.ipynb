{
 "cells": [
  {
   "cell_type": "code",
   "execution_count": 1,
   "id": "0f9ee58b",
   "metadata": {},
   "outputs": [],
   "source": [
    "# Python - Data Science Academy - 20.07.22 - 19h12\n",
    "# Cap 02 - Strings"
   ]
  },
  {
   "cell_type": "code",
   "execution_count": 2,
   "id": "5417a479",
   "metadata": {},
   "outputs": [
    {
     "name": "stdout",
     "output_type": "stream",
     "text": [
      "Testando Strings em 'Python.'\n"
     ]
    }
   ],
   "source": [
    "# imprimindo uma string - usando \"\" e tambem ''''''\n",
    "print(\"Testando Strings em 'Python.'\")"
   ]
  },
  {
   "cell_type": "code",
   "execution_count": 3,
   "id": "ec1c4293",
   "metadata": {},
   "outputs": [
    {
     "name": "stdout",
     "output_type": "stream",
     "text": [
      "Testando \n",
      "Strings \n",
      "em \n",
      "'Python.'\n"
     ]
    }
   ],
   "source": [
    "# Impressao com quebra de linha\n",
    "print(\"Testando \\nStrings \\nem \\n'Python.'\")"
   ]
  },
  {
   "cell_type": "code",
   "execution_count": 52,
   "id": "becaff05",
   "metadata": {},
   "outputs": [],
   "source": [
    "# Indexando Strings\n",
    "# Atribuicao de valores a uma variavel do tipo string.\n",
    "a = \"Estudando Python com foco em Análise de Dados\""
   ]
  },
  {
   "cell_type": "code",
   "execution_count": 53,
   "id": "9e928843",
   "metadata": {},
   "outputs": [
    {
     "name": "stdout",
     "output_type": "stream",
     "text": [
      "Estudando Python com foco em Análise de Dados\n"
     ]
    }
   ],
   "source": [
    "# Imprimindo o valor da variavel\n",
    "print(a)"
   ]
  },
  {
   "cell_type": "code",
   "execution_count": 8,
   "id": "9a5003eb",
   "metadata": {},
   "outputs": [
    {
     "name": "stdout",
     "output_type": "stream",
     "text": [
      "E\n",
      "s\n",
      "t\n"
     ]
    }
   ],
   "source": [
    "# Acessando cada elemento individualmente, da string acima\n",
    "print(a[0])\n",
    "print(a[1])\n",
    "print(a[2])"
   ]
  },
  {
   "cell_type": "code",
   "execution_count": 10,
   "id": "dcd4cdad",
   "metadata": {},
   "outputs": [
    {
     "data": {
      "text/plain": [
       "'studando Python com foco em Análise de Dados.'"
      ]
     },
     "execution_count": 10,
     "metadata": {},
     "output_type": "execute_result"
    }
   ],
   "source": [
    "# Trabalhando com slicing (fatiamento), que faz a leitura até um ponto determinado\n",
    "# Retornando todos os elementos da string, a partir da posicao inicial, até a posicao final\n",
    "# variavel[posicao_inicial:posicao_final ou nada]\n",
    "a[1:]"
   ]
  },
  {
   "cell_type": "code",
   "execution_count": 11,
   "id": "44c2211a",
   "metadata": {},
   "outputs": [
    {
     "data": {
      "text/plain": [
       "'Est'"
      ]
     },
     "execution_count": 11,
     "metadata": {},
     "output_type": "execute_result"
    }
   ],
   "source": [
    "# Retornando da posicao inicial ate a posicao 3 (excluindo a posicao 3)\n",
    "a[:3]"
   ]
  },
  {
   "cell_type": "code",
   "execution_count": 12,
   "id": "90555afb",
   "metadata": {},
   "outputs": [
    {
     "data": {
      "text/plain": [
       "'Estudando Python com foco em Análise de Dados.'"
      ]
     },
     "execution_count": 12,
     "metadata": {},
     "output_type": "execute_result"
    }
   ],
   "source": [
    "# Retornando todo o conteudo\n",
    "a[:]"
   ]
  },
  {
   "cell_type": "code",
   "execution_count": 22,
   "id": "f0bcd0f6",
   "metadata": {},
   "outputs": [
    {
     "data": {
      "text/plain": [
       "'.'"
      ]
     },
     "execution_count": 22,
     "metadata": {},
     "output_type": "execute_result"
    }
   ],
   "source": [
    "# Slicing por indexacao negativa\n",
    "# Traz a ultima posicao da string\n",
    "a[-1:]"
   ]
  },
  {
   "cell_type": "code",
   "execution_count": 23,
   "id": "1ba11848",
   "metadata": {},
   "outputs": [
    {
     "data": {
      "text/plain": [
       "'Estudando Python com foco em Análise de Dados'"
      ]
     },
     "execution_count": 23,
     "metadata": {},
     "output_type": "execute_result"
    }
   ],
   "source": [
    "# Retornando tudo até a ultima posicao\n",
    "a[:-1]"
   ]
  },
  {
   "cell_type": "code",
   "execution_count": 28,
   "id": "34061265",
   "metadata": {},
   "outputs": [
    {
     "data": {
      "text/plain": [
       "'Estudando Python com foco em Análise de Dados.'"
      ]
     },
     "execution_count": 28,
     "metadata": {},
     "output_type": "execute_result"
    }
   ],
   "source": [
    "# Usando :: para dar mais criterio ao slicing\n",
    "# Neste caso, o retorno é de todos os caracteres, saltando uma posicao\n",
    "a[::1]"
   ]
  },
  {
   "cell_type": "code",
   "execution_count": 29,
   "id": "00657c46",
   "metadata": {},
   "outputs": [
    {
     "data": {
      "text/plain": [
       "'EtdnoPto o ooe nls eDds'"
      ]
     },
     "execution_count": 29,
     "metadata": {},
     "output_type": "execute_result"
    }
   ],
   "source": [
    "# Retorno de todos os caracteres, saltando duas posicoes\n",
    "a[::2]"
   ]
  },
  {
   "cell_type": "code",
   "execution_count": 31,
   "id": "d7ea71ad",
   "metadata": {},
   "outputs": [
    {
     "data": {
      "text/plain": [
       "'.sodaD ed esilánA me ocof moc nohtyP odnadutsE'"
      ]
     },
     "execution_count": 31,
     "metadata": {},
     "output_type": "execute_result"
    }
   ],
   "source": [
    "# Retornando todos os caracteres, saltando uma posicao, so que, do ultimo caractere ao primeiro\n",
    "a[::-1]"
   ]
  },
  {
   "cell_type": "code",
   "execution_count": 33,
   "id": "20803947",
   "metadata": {},
   "outputs": [
    {
     "ename": "TypeError",
     "evalue": "'str' object does not support item assignment",
     "output_type": "error",
     "traceback": [
      "\u001b[0;31m---------------------------------------------------------------------------\u001b[0m",
      "\u001b[0;31mTypeError\u001b[0m                                 Traceback (most recent call last)",
      "\u001b[0;32m<ipython-input-33-b382529c2fe7>\u001b[0m in \u001b[0;36m<module>\u001b[0;34m\u001b[0m\n\u001b[1;32m      1\u001b[0m \u001b[0;31m# Propriedade de Strings\u001b[0m\u001b[0;34m\u001b[0m\u001b[0;34m\u001b[0m\u001b[0;34m\u001b[0m\u001b[0m\n\u001b[1;32m      2\u001b[0m \u001b[0;31m# String, é imutavel. Uma vez criada, nao se pode alterar. Código abaixo, com erro.\u001b[0m\u001b[0;34m\u001b[0m\u001b[0;34m\u001b[0m\u001b[0;34m\u001b[0m\u001b[0m\n\u001b[0;32m----> 3\u001b[0;31m \u001b[0ma\u001b[0m\u001b[0;34m[\u001b[0m\u001b[0;36m0\u001b[0m\u001b[0;34m]\u001b[0m \u001b[0;34m=\u001b[0m \u001b[0;34m\"EE\"\u001b[0m\u001b[0;34m\u001b[0m\u001b[0;34m\u001b[0m\u001b[0m\n\u001b[0m",
      "\u001b[0;31mTypeError\u001b[0m: 'str' object does not support item assignment"
     ]
    }
   ],
   "source": [
    "# Propriedade de Strings\n",
    "# String, é imutavel. Uma vez criada, nao se pode alterar. Código abaixo, com erro.\n",
    "a[0] = \"EE\""
   ]
  },
  {
   "cell_type": "code",
   "execution_count": 54,
   "id": "4c3d9dee",
   "metadata": {},
   "outputs": [
    {
     "data": {
      "text/plain": [
       "'Estudando Python com foco em Análise de Dados. Python é de facil aprendizado.'"
      ]
     },
     "execution_count": 54,
     "metadata": {},
     "output_type": "execute_result"
    }
   ],
   "source": [
    "# Concatenando Strings\n",
    "a + \". Python é de facil aprendizado.\""
   ]
  },
  {
   "cell_type": "code",
   "execution_count": 55,
   "id": "1f1bd7df",
   "metadata": {},
   "outputs": [],
   "source": [
    "# Concatenando Strings e salvando seu conteudo dentro da propria variavel a.\n",
    "a = a + \". Python é de facil aprendizado.\""
   ]
  },
  {
   "cell_type": "code",
   "execution_count": 56,
   "id": "630dbd14",
   "metadata": {},
   "outputs": [
    {
     "data": {
      "text/plain": [
       "'Estudando Python com foco em Análise de Dados. Python é de facil aprendizado.'"
      ]
     },
     "execution_count": 56,
     "metadata": {},
     "output_type": "execute_result"
    }
   ],
   "source": [
    "a"
   ]
  },
  {
   "cell_type": "code",
   "execution_count": 58,
   "id": "bbbf17f8",
   "metadata": {},
   "outputs": [
    {
     "data": {
      "text/plain": [
       "'www'"
      ]
     },
     "execution_count": 58,
     "metadata": {},
     "output_type": "execute_result"
    }
   ],
   "source": [
    "# Operadores matematicos em string\n",
    "letra = \"w\"\n",
    "letra * 3"
   ]
  },
  {
   "cell_type": "code",
   "execution_count": 59,
   "id": "be3288a4",
   "metadata": {},
   "outputs": [
    {
     "data": {
      "text/plain": [
       "'ESTUDANDO PYTHON COM FOCO EM ANÁLISE DE DADOS. PYTHON É DE FACIL APRENDIZADO.'"
      ]
     },
     "execution_count": 59,
     "metadata": {},
     "output_type": "execute_result"
    }
   ],
   "source": [
    "# Funcoes Built_In em Python\n",
    "a\n",
    "\n",
    "# Letra Maiuscula - metodo upper\n",
    "a.upper()"
   ]
  },
  {
   "cell_type": "code",
   "execution_count": 60,
   "id": "b1b1ae65",
   "metadata": {},
   "outputs": [
    {
     "data": {
      "text/plain": [
       "'estudando python com foco em análise de dados. python é de facil aprendizado.'"
      ]
     },
     "execution_count": 60,
     "metadata": {},
     "output_type": "execute_result"
    }
   ],
   "source": [
    "# Letra minuscula\n",
    "a.lower()"
   ]
  },
  {
   "cell_type": "code",
   "execution_count": 61,
   "id": "3190cd06",
   "metadata": {},
   "outputs": [
    {
     "data": {
      "text/plain": [
       "['Estudando',\n",
       " 'Python',\n",
       " 'com',\n",
       " 'foco',\n",
       " 'em',\n",
       " 'Análise',\n",
       " 'de',\n",
       " 'Dados.',\n",
       " 'Python',\n",
       " 'é',\n",
       " 'de',\n",
       " 'facil',\n",
       " 'aprendizado.']"
      ]
     },
     "execution_count": 61,
     "metadata": {},
     "output_type": "execute_result"
    }
   ],
   "source": [
    "# Split - faz a divisao da cadeia de caracteres. Por padrao, divide a cada espaco\n",
    "a.split()"
   ]
  },
  {
   "cell_type": "code",
   "execution_count": 62,
   "id": "b035dc94",
   "metadata": {},
   "outputs": [
    {
     "data": {
      "text/plain": [
       "['Estudando P',\n",
       " 'thon com foco em Análise de Dados. P',\n",
       " 'thon é de facil aprendizado.']"
      ]
     },
     "execution_count": 62,
     "metadata": {},
     "output_type": "execute_result"
    }
   ],
   "source": [
    "# Fazendo o split a cada letra y\n",
    "a.split(\"y\")"
   ]
  },
  {
   "cell_type": "code",
   "execution_count": 63,
   "id": "6a18b9ca",
   "metadata": {},
   "outputs": [],
   "source": [
    "# Funcoes em String\n",
    "s = \"Aprendendo cada vez mais com Python.\""
   ]
  },
  {
   "cell_type": "code",
   "execution_count": 64,
   "id": "76600333",
   "metadata": {},
   "outputs": [
    {
     "data": {
      "text/plain": [
       "'Aprendendo cada vez mais com python.'"
      ]
     },
     "execution_count": 64,
     "metadata": {},
     "output_type": "execute_result"
    }
   ],
   "source": [
    "# Primeira letra maiuscula\n",
    "s.capitalize()"
   ]
  },
  {
   "cell_type": "code",
   "execution_count": 65,
   "id": "91d4452b",
   "metadata": {},
   "outputs": [
    {
     "data": {
      "text/plain": [
       "3"
      ]
     },
     "execution_count": 65,
     "metadata": {},
     "output_type": "execute_result"
    }
   ],
   "source": [
    "# Contando quantas vezes o caractere informado como parametro aparece\n",
    "s.count(\"a\")"
   ]
  },
  {
   "cell_type": "code",
   "execution_count": 70,
   "id": "dd1e217c",
   "metadata": {},
   "outputs": [
    {
     "data": {
      "text/plain": [
       "30"
      ]
     },
     "execution_count": 70,
     "metadata": {},
     "output_type": "execute_result"
    }
   ],
   "source": [
    "# Busca de caractere - retorna a posicao do caractere\n",
    "s.find(\"y\")"
   ]
  },
  {
   "cell_type": "code",
   "execution_count": 72,
   "id": "21e743e2",
   "metadata": {},
   "outputs": [
    {
     "data": {
      "text/plain": [
       "False"
      ]
     },
     "execution_count": 72,
     "metadata": {},
     "output_type": "execute_result"
    }
   ],
   "source": [
    "# VErificando se tem SOMENTE caracter minusculo\n",
    "s.islower()"
   ]
  },
  {
   "cell_type": "code",
   "execution_count": 73,
   "id": "d9e2c6e8",
   "metadata": {},
   "outputs": [
    {
     "data": {
      "text/plain": [
       "False"
      ]
     },
     "execution_count": 73,
     "metadata": {},
     "output_type": "execute_result"
    }
   ],
   "source": [
    "# Verificando se tem SOMENTE espaco\n",
    "s.isspace()"
   ]
  },
  {
   "cell_type": "code",
   "execution_count": 74,
   "id": "e29c83f3",
   "metadata": {},
   "outputs": [
    {
     "data": {
      "text/plain": [
       "True"
      ]
     },
     "execution_count": 74,
     "metadata": {},
     "output_type": "execute_result"
    }
   ],
   "source": [
    "# Verificando se termina com o caractere .\n",
    "s.endswith(\".\")"
   ]
  },
  {
   "cell_type": "code",
   "execution_count": 75,
   "id": "b078dcdc",
   "metadata": {},
   "outputs": [
    {
     "name": "stdout",
     "output_type": "stream",
     "text": [
      "False\n"
     ]
    }
   ],
   "source": [
    "# Comparando Strings\n",
    "print(\"Python\" == \"Java\")"
   ]
  },
  {
   "cell_type": "code",
   "execution_count": 76,
   "id": "9972c0d6",
   "metadata": {},
   "outputs": [
    {
     "name": "stdout",
     "output_type": "stream",
     "text": [
      "True\n"
     ]
    }
   ],
   "source": [
    "# Comparando Strings\n",
    "print(\"Python\" == \"Python\")"
   ]
  },
  {
   "cell_type": "code",
   "execution_count": null,
   "id": "ff5f240b",
   "metadata": {},
   "outputs": [],
   "source": []
  }
 ],
 "metadata": {
  "kernelspec": {
   "display_name": "Python 3",
   "language": "python",
   "name": "python3"
  },
  "language_info": {
   "codemirror_mode": {
    "name": "ipython",
    "version": 3
   },
   "file_extension": ".py",
   "mimetype": "text/x-python",
   "name": "python",
   "nbconvert_exporter": "python",
   "pygments_lexer": "ipython3",
   "version": "3.8.8"
  }
 },
 "nbformat": 4,
 "nbformat_minor": 5
}
