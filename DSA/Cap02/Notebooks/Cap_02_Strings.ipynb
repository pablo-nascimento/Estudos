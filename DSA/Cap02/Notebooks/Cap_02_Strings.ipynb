{
 "cells": [
  {
   "cell_type": "code",
   "execution_count": 1,
   "id": "42402269",
   "metadata": {},
   "outputs": [],
   "source": [
    "# Python - Data Science Academy - 20.07.22 - 19h12\n",
    "# Cap 02 - Strings"
   ]
  },
  {
   "cell_type": "code",
   "execution_count": 2,
   "id": "27029a7b",
   "metadata": {},
   "outputs": [
    {
     "name": "stdout",
     "output_type": "stream",
     "text": [
      "Testando Strings em 'Python.'\n"
     ]
    }
   ],
   "source": [
    "# imprimindo uma string - usando \"\" e tambem ''''''\n",
    "print(\"Testando Strings em 'Python.'\")"
   ]
  },
  {
   "cell_type": "code",
   "execution_count": 3,
   "id": "d0cfe300",
   "metadata": {},
   "outputs": [
    {
     "name": "stdout",
     "output_type": "stream",
     "text": [
      "Testando \n",
      "Strings \n",
      "em \n",
      "'Python.'\n"
     ]
    }
   ],
   "source": [
    "# Impressao com quebra de linha\n",
    "print(\"Testando \\nStrings \\nem \\n'Python.'\")"
   ]
  },
  {
   "cell_type": "code",
   "execution_count": 6,
   "id": "bdfc3fd0",
   "metadata": {},
   "outputs": [],
   "source": [
    "# Indexando Strings\n",
    "# Atribuicao de valores a uma variavel do tipo string.\n",
    "a = \"Estudando Python com foco em Análise de Dados.\""
   ]
  },
  {
   "cell_type": "code",
   "execution_count": 7,
   "id": "d7ef3e2b",
   "metadata": {},
   "outputs": [
    {
     "name": "stdout",
     "output_type": "stream",
     "text": [
      "Estudando Python com foco em Análise de Dados.\n"
     ]
    }
   ],
   "source": [
    "# Imprimindo o valor da variavel\n",
    "print(a)"
   ]
  },
  {
   "cell_type": "code",
   "execution_count": 8,
   "id": "05870e54",
   "metadata": {},
   "outputs": [
    {
     "name": "stdout",
     "output_type": "stream",
     "text": [
      "E\n",
      "s\n",
      "t\n"
     ]
    }
   ],
   "source": [
    "# Acessando cada elemento individualmente, da string acima\n",
    "print(a[0])\n",
    "print(a[1])\n",
    "print(a[2])"
   ]
  },
  {
   "cell_type": "code",
   "execution_count": 10,
   "id": "49b11e11",
   "metadata": {},
   "outputs": [
    {
     "data": {
      "text/plain": [
       "'studando Python com foco em Análise de Dados.'"
      ]
     },
     "execution_count": 10,
     "metadata": {},
     "output_type": "execute_result"
    }
   ],
   "source": [
    "# Trabalhando com slicing (fatiamento), que faz a leitura até um ponto determinado\n",
    "# Retornando todos os elementos da string, a partir da posicao inicial, até a posicao final\n",
    "# variavel[posicao_inicial:posicao_final ou nada]\n",
    "a[1:]"
   ]
  },
  {
   "cell_type": "code",
   "execution_count": 11,
   "id": "7396e38c",
   "metadata": {},
   "outputs": [
    {
     "data": {
      "text/plain": [
       "'Est'"
      ]
     },
     "execution_count": 11,
     "metadata": {},
     "output_type": "execute_result"
    }
   ],
   "source": [
    "# Retornando da posicao inicial ate a posicao 3 (excluindo a posicao 3)\n",
    "a[:3]"
   ]
  },
  {
   "cell_type": "code",
   "execution_count": 12,
   "id": "2ea66dd9",
   "metadata": {},
   "outputs": [
    {
     "data": {
      "text/plain": [
       "'Estudando Python com foco em Análise de Dados.'"
      ]
     },
     "execution_count": 12,
     "metadata": {},
     "output_type": "execute_result"
    }
   ],
   "source": [
    "# Retornando todo o conteudo\n",
    "a[:]"
   ]
  },
  {
   "cell_type": "code",
   "execution_count": 22,
   "id": "772ddc00",
   "metadata": {},
   "outputs": [
    {
     "data": {
      "text/plain": [
       "'.'"
      ]
     },
     "execution_count": 22,
     "metadata": {},
     "output_type": "execute_result"
    }
   ],
   "source": [
    "# Slicing por indexacao negativa\n",
    "# Traz a ultima posicao da string\n",
    "a[-1:]"
   ]
  },
  {
   "cell_type": "code",
   "execution_count": 23,
   "id": "4a7478a6",
   "metadata": {},
   "outputs": [
    {
     "data": {
      "text/plain": [
       "'Estudando Python com foco em Análise de Dados'"
      ]
     },
     "execution_count": 23,
     "metadata": {},
     "output_type": "execute_result"
    }
   ],
   "source": [
    "# Retornando tudo até a ultima posicao\n",
    "a[:-1]"
   ]
  },
  {
   "cell_type": "code",
   "execution_count": null,
   "id": "dd1da444",
   "metadata": {},
   "outputs": [],
   "source": []
  }
 ],
 "metadata": {
  "kernelspec": {
   "display_name": "Python 3",
   "language": "python",
   "name": "python3"
  },
  "language_info": {
   "codemirror_mode": {
    "name": "ipython",
    "version": 3
   },
   "file_extension": ".py",
   "mimetype": "text/x-python",
   "name": "python",
   "nbconvert_exporter": "python",
   "pygments_lexer": "ipython3",
   "version": "3.8.8"
  }
 },
 "nbformat": 4,
 "nbformat_minor": 5
}
