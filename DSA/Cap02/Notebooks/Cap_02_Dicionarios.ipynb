{
 "cells": [
  {
   "cell_type": "code",
   "execution_count": 1,
   "id": "6c5ea96e",
   "metadata": {},
   "outputs": [],
   "source": [
    "# Python - Data Science Academy - 25.07.22 - 20h24\n",
    "# Cap 02 - Dicionarios"
   ]
  },
  {
   "cell_type": "code",
   "execution_count": 2,
   "id": "545c7d58",
   "metadata": {},
   "outputs": [],
   "source": [
    "# Dicionarios\n",
    "# criada com {}\n",
    "# Dicionario Python - chave, e seu respectivo valor associado\n",
    "# {chave1: valor1, chave2, valor2}\n",
    "\n"
   ]
  },
  {
   "cell_type": "code",
   "execution_count": 4,
   "id": "488fd209",
   "metadata": {},
   "outputs": [],
   "source": [
    "# Lista\n",
    "estudantes_lista = [\"Sergio\", 24, \"Alvaro\", 19, \"Teresa\", 30]"
   ]
  },
  {
   "cell_type": "code",
   "execution_count": 5,
   "id": "7077815d",
   "metadata": {},
   "outputs": [
    {
     "data": {
      "text/plain": [
       "['Sergio', 24, 'Alvaro', 19, 'Teresa', 30]"
      ]
     },
     "execution_count": 5,
     "metadata": {},
     "output_type": "execute_result"
    }
   ],
   "source": [
    "# Imprimindo a lista\n",
    "estudantes_lista"
   ]
  },
  {
   "cell_type": "code",
   "execution_count": 6,
   "id": "fb5c9094",
   "metadata": {},
   "outputs": [],
   "source": [
    "# Dicionario \n",
    "estudantes_dic = {\"Sergio\": 24, \"Alvaro\": 19, \"Teresa\": 30}"
   ]
  },
  {
   "cell_type": "code",
   "execution_count": 7,
   "id": "03e403c8",
   "metadata": {},
   "outputs": [
    {
     "data": {
      "text/plain": [
       "{'Sergio': 24, 'Alvaro': 19, 'Teresa': 30}"
      ]
     },
     "execution_count": 7,
     "metadata": {},
     "output_type": "execute_result"
    }
   ],
   "source": [
    "# Imprimindo o dicionario\n",
    "estudantes_dic"
   ]
  },
  {
   "cell_type": "code",
   "execution_count": null,
   "id": "b59a144f",
   "metadata": {},
   "outputs": [],
   "source": []
  }
 ],
 "metadata": {
  "kernelspec": {
   "display_name": "Python 3",
   "language": "python",
   "name": "python3"
  },
  "language_info": {
   "codemirror_mode": {
    "name": "ipython",
    "version": 3
   },
   "file_extension": ".py",
   "mimetype": "text/x-python",
   "name": "python",
   "nbconvert_exporter": "python",
   "pygments_lexer": "ipython3",
   "version": "3.8.8"
  }
 },
 "nbformat": 4,
 "nbformat_minor": 5
}
