{
 "cells": [
  {
   "cell_type": "code",
   "execution_count": 1,
   "id": "2a478b35",
   "metadata": {},
   "outputs": [],
   "source": [
    "# Python - Data Science Academy - 25.07.22 - 20h24\n",
    "# Cap 02 - Dicionarios"
   ]
  },
  {
   "cell_type": "code",
   "execution_count": 2,
   "id": "2e9147fe",
   "metadata": {},
   "outputs": [],
   "source": [
    "# Dicionarios\n",
    "# criada com {}\n",
    "# Dicionario Python - chave, e seu respectivo valor associado\n",
    "# {chave1: valor1, chave2, valor2}\n",
    "\n"
   ]
  },
  {
   "cell_type": "code",
   "execution_count": 4,
   "id": "e66910b8",
   "metadata": {},
   "outputs": [],
   "source": [
    "# Lista\n",
    "estudantes_lista = [\"Sergio\", 24, \"Alvaro\", 19, \"Teresa\", 30]"
   ]
  },
  {
   "cell_type": "code",
   "execution_count": 5,
   "id": "8cec23fc",
   "metadata": {},
   "outputs": [
    {
     "data": {
      "text/plain": [
       "['Sergio', 24, 'Alvaro', 19, 'Teresa', 30]"
      ]
     },
     "execution_count": 5,
     "metadata": {},
     "output_type": "execute_result"
    }
   ],
   "source": [
    "# Imprimindo a lista\n",
    "estudantes_lista"
   ]
  },
  {
   "cell_type": "code",
   "execution_count": 6,
   "id": "c4b9d2b7",
   "metadata": {},
   "outputs": [],
   "source": [
    "# Dicionario - conjunto chave e valor\n",
    "estudantes_dic = {\"Sergio\": 24, \"Alvaro\": 19, \"Teresa\": 30}"
   ]
  },
  {
   "cell_type": "code",
   "execution_count": 7,
   "id": "67cbc118",
   "metadata": {},
   "outputs": [
    {
     "data": {
      "text/plain": [
       "{'Sergio': 24, 'Alvaro': 19, 'Teresa': 30}"
      ]
     },
     "execution_count": 7,
     "metadata": {},
     "output_type": "execute_result"
    }
   ],
   "source": [
    "# Imprimindo o dicionario\n",
    "estudantes_dic"
   ]
  },
  {
   "cell_type": "code",
   "execution_count": 8,
   "id": "70a7b76c",
   "metadata": {},
   "outputs": [
    {
     "data": {
      "text/plain": [
       "24"
      ]
     },
     "execution_count": 8,
     "metadata": {},
     "output_type": "execute_result"
    }
   ],
   "source": [
    "# Usando a chave como indice para retornar o seu respectivo valor\n",
    "estudantes_dic[\"Sergio\"]"
   ]
  },
  {
   "cell_type": "code",
   "execution_count": 10,
   "id": "f5d5c40f",
   "metadata": {},
   "outputs": [
    {
     "data": {
      "text/plain": [
       "{'Sergio': 24, 'Alvaro': 23, 'Teresa': 30}"
      ]
     },
     "execution_count": 10,
     "metadata": {},
     "output_type": "execute_result"
    }
   ],
   "source": [
    "# Atualizando o seu valor passando a chave como parametro\n",
    "estudantes_dic[\"Alvaro\"] = 23\n",
    "estudantes_dic"
   ]
  },
  {
   "cell_type": "code",
   "execution_count": 11,
   "id": "7728d114",
   "metadata": {},
   "outputs": [],
   "source": [
    "# Adicionando mais um par chave e valor sem precisar declarar novamente o dicionario\n",
    "estudantes_dic[\"Evelyn\"] = 25"
   ]
  },
  {
   "cell_type": "code",
   "execution_count": 12,
   "id": "ae856a06",
   "metadata": {},
   "outputs": [
    {
     "data": {
      "text/plain": [
       "{'Sergio': 24, 'Alvaro': 23, 'Teresa': 30, 'Evelyn': 25}"
      ]
     },
     "execution_count": 12,
     "metadata": {},
     "output_type": "execute_result"
    }
   ],
   "source": [
    "# Imprimindo o dicionario com o novo par chave e valor ja adicionados.\n",
    "estudantes_dic"
   ]
  },
  {
   "cell_type": "code",
   "execution_count": null,
   "id": "d753049c",
   "metadata": {},
   "outputs": [],
   "source": [
    "# Limpar o dicionario.\n",
    "# estudantes_dic.clear()"
   ]
  },
  {
   "cell_type": "code",
   "execution_count": null,
   "id": "e089305c",
   "metadata": {},
   "outputs": [],
   "source": [
    "# Apagando a estrutura de dados dicionario\n",
    "# del estudantes_dic"
   ]
  },
  {
   "cell_type": "code",
   "execution_count": 13,
   "id": "0f336660",
   "metadata": {},
   "outputs": [
    {
     "data": {
      "text/plain": [
       "4"
      ]
     },
     "execution_count": 13,
     "metadata": {},
     "output_type": "execute_result"
    }
   ],
   "source": [
    "# tamanho do dicionario\n",
    "len(estudantes_dic)"
   ]
  },
  {
   "cell_type": "code",
   "execution_count": 14,
   "id": "5398cd38",
   "metadata": {},
   "outputs": [
    {
     "data": {
      "text/plain": [
       "dict_keys(['Sergio', 'Alvaro', 'Teresa', 'Evelyn'])"
      ]
     },
     "execution_count": 14,
     "metadata": {},
     "output_type": "execute_result"
    }
   ],
   "source": [
    "# Retornando as chaves\n",
    "estudantes_dic.keys()"
   ]
  },
  {
   "cell_type": "code",
   "execution_count": 15,
   "id": "dbd5fe60",
   "metadata": {},
   "outputs": [
    {
     "data": {
      "text/plain": [
       "dict_values([24, 23, 30, 25])"
      ]
     },
     "execution_count": 15,
     "metadata": {},
     "output_type": "execute_result"
    }
   ],
   "source": [
    "# Retornando os valores\n",
    "estudantes_dic.values()"
   ]
  },
  {
   "cell_type": "code",
   "execution_count": 16,
   "id": "5f299a62",
   "metadata": {},
   "outputs": [
    {
     "data": {
      "text/plain": [
       "dict_items([('Sergio', 24), ('Alvaro', 23), ('Teresa', 30), ('Evelyn', 25)])"
      ]
     },
     "execution_count": 16,
     "metadata": {},
     "output_type": "execute_result"
    }
   ],
   "source": [
    "# Retornando os itens - par chave e valor\n",
    "estudantes_dic.items()"
   ]
  },
  {
   "cell_type": "code",
   "execution_count": 17,
   "id": "21749ac4",
   "metadata": {},
   "outputs": [],
   "source": [
    "estudantes_dic2 = {\"Jose\": 45, \"Maria\": 40}"
   ]
  },
  {
   "cell_type": "code",
   "execution_count": 18,
   "id": "af635b8d",
   "metadata": {},
   "outputs": [],
   "source": [
    "# Atualizando o primeiro dicionario, com o conteudo do segundo, criado, acima.\n",
    "estudantes_dic.update(estudantes_dic2)"
   ]
  },
  {
   "cell_type": "code",
   "execution_count": 19,
   "id": "73a28b33",
   "metadata": {},
   "outputs": [
    {
     "data": {
      "text/plain": [
       "{'Sergio': 24,\n",
       " 'Alvaro': 23,\n",
       " 'Teresa': 30,\n",
       " 'Evelyn': 25,\n",
       " 'Jose': 45,\n",
       " 'Maria': 40}"
      ]
     },
     "execution_count": 19,
     "metadata": {},
     "output_type": "execute_result"
    }
   ],
   "source": [
    "# Imprimindo o primeiro dicionario\n",
    "estudantes_dic"
   ]
  },
  {
   "cell_type": "code",
   "execution_count": 22,
   "id": "84492365",
   "metadata": {},
   "outputs": [],
   "source": [
    "# Dicionario vazio\n",
    "dict1 = {}"
   ]
  },
  {
   "cell_type": "code",
   "execution_count": 23,
   "id": "922779ea",
   "metadata": {},
   "outputs": [],
   "source": [
    "dict1[1] = \"primeiro valor\""
   ]
  },
  {
   "cell_type": "code",
   "execution_count": 24,
   "id": "6c6ec8bd",
   "metadata": {},
   "outputs": [
    {
     "name": "stdout",
     "output_type": "stream",
     "text": [
      "{1: 'primeiro valor'}\n"
     ]
    }
   ],
   "source": [
    "print(dict1)"
   ]
  },
  {
   "cell_type": "code",
   "execution_count": 25,
   "id": "1b8fee10",
   "metadata": {},
   "outputs": [],
   "source": [
    "# Adicionando mais um conjunto chave e valor. \n",
    "dict1[\"segundo valor\"] = 2"
   ]
  },
  {
   "cell_type": "code",
   "execution_count": 27,
   "id": "2274e344",
   "metadata": {},
   "outputs": [
    {
     "name": "stdout",
     "output_type": "stream",
     "text": [
      "{1: 'primeiro valor', 'segundo valor': 2}\n"
     ]
    }
   ],
   "source": [
    "print(dict1)\n",
    "# Qualquer tipo de dado pode ser usado como chave e valor, variando de acordo com a necessidade."
   ]
  },
  {
   "cell_type": "code",
   "execution_count": 28,
   "id": "b05010e8",
   "metadata": {},
   "outputs": [],
   "source": [
    "dict2 = {}"
   ]
  },
  {
   "cell_type": "code",
   "execution_count": 34,
   "id": "47160361",
   "metadata": {},
   "outputs": [],
   "source": [
    "dict2[\"key1\"] = \"Big Data\""
   ]
  },
  {
   "cell_type": "code",
   "execution_count": 36,
   "id": "a69b1fdd",
   "metadata": {},
   "outputs": [],
   "source": [
    "dict2[\"key2\"] = 123"
   ]
  },
  {
   "cell_type": "code",
   "execution_count": 37,
   "id": "b05c39a8",
   "metadata": {},
   "outputs": [],
   "source": [
    "dict2[\"key3\"] = 456"
   ]
  },
  {
   "cell_type": "code",
   "execution_count": 38,
   "id": "64e4d97e",
   "metadata": {},
   "outputs": [
    {
     "data": {
      "text/plain": [
       "{'key1': 'Big Data', 'key2': 123, 'key3': 456}"
      ]
     },
     "execution_count": 38,
     "metadata": {},
     "output_type": "execute_result"
    }
   ],
   "source": [
    "dict2"
   ]
  },
  {
   "cell_type": "code",
   "execution_count": 39,
   "id": "36eaf4a1",
   "metadata": {},
   "outputs": [],
   "source": [
    "# Atribuindo os valores de cada chave a uma variavel\n",
    "a = dict2[\"key1\"]\n",
    "b = dict2[\"key2\"]\n",
    "c = dict2[\"key3\"]"
   ]
  },
  {
   "cell_type": "code",
   "execution_count": 40,
   "id": "0d0879a9",
   "metadata": {},
   "outputs": [
    {
     "name": "stdout",
     "output_type": "stream",
     "text": [
      "Big Data 123 456\n"
     ]
    }
   ],
   "source": [
    "print(a, b, c)"
   ]
  },
  {
   "cell_type": "code",
   "execution_count": 41,
   "id": "97e7fc6f",
   "metadata": {},
   "outputs": [],
   "source": [
    "# Dicionario de Listas\n",
    "dict3 = {\"k1\": 12, \"k2\": [12, 33, 44, \"pos 4\"], \"k3\": [\"carne\", \"farinha\", \"ovo\"]}"
   ]
  },
  {
   "cell_type": "code",
   "execution_count": 43,
   "id": "3cfae438",
   "metadata": {},
   "outputs": [
    {
     "data": {
      "text/plain": [
       "{'k1': 12, 'k2': [12, 33, 44, 'pos 4'], 'k3': ['carne', 'farinha', 'ovo']}"
      ]
     },
     "execution_count": 43,
     "metadata": {},
     "output_type": "execute_result"
    }
   ],
   "source": [
    "# Imprimindo o dicionario de listas\n",
    "dict3"
   ]
  },
  {
   "cell_type": "code",
   "execution_count": 44,
   "id": "6b709936",
   "metadata": {},
   "outputs": [
    {
     "data": {
      "text/plain": [
       "[12, 33, 44, 'pos 4']"
      ]
     },
     "execution_count": 44,
     "metadata": {},
     "output_type": "execute_result"
    }
   ],
   "source": [
    "# Retornando a segunda chave\n",
    "dict3[\"k2\"]"
   ]
  },
  {
   "cell_type": "code",
   "execution_count": 46,
   "id": "b9233492",
   "metadata": {},
   "outputs": [
    {
     "data": {
      "text/plain": [
       "'OVO'"
      ]
     },
     "execution_count": 46,
     "metadata": {},
     "output_type": "execute_result"
    }
   ],
   "source": [
    "# Acessando um item da lista, e realizando sua impressao com caixa alta\n",
    "# Extraída a ultima posicao da lista, que é o valor da chave k3.\n",
    "dict3[\"k3\"][2].upper()"
   ]
  },
  {
   "cell_type": "code",
   "execution_count": 48,
   "id": "f826803e",
   "metadata": {},
   "outputs": [
    {
     "data": {
      "text/plain": [
       "132"
      ]
     },
     "execution_count": 48,
     "metadata": {},
     "output_type": "execute_result"
    }
   ],
   "source": [
    "# Realizando operacoes matematicas com um item numerico e atribuindo seu resultado a uma variavel\n",
    "res = dict3[\"k2\"][2] * 3\n",
    "res"
   ]
  },
  {
   "cell_type": "code",
   "execution_count": 49,
   "id": "9f8f8f0b",
   "metadata": {},
   "outputs": [
    {
     "data": {
      "text/plain": [
       "{'k1': 12, 'k2': [26, 33, 44, 'pos 4'], 'k3': ['carne', 'farinha', 'ovo']}"
      ]
     },
     "execution_count": 49,
     "metadata": {},
     "output_type": "execute_result"
    }
   ],
   "source": [
    "# Usando operacoes de atribuicao - faz a soma e atribui o resultado para o indice especificado, na lista que é o valor do dicionario\n",
    "dict3[\"k2\"][0] += 14\n",
    "dict3"
   ]
  },
  {
   "cell_type": "code",
   "execution_count": 52,
   "id": "e399292a",
   "metadata": {},
   "outputs": [
    {
     "data": {
      "text/plain": [
       "{'k1': {'k2 aninhado': {'k3 aninhado': 12}}}"
      ]
     },
     "execution_count": 52,
     "metadata": {},
     "output_type": "execute_result"
    }
   ],
   "source": [
    "# Dicionario dentro de dicionario\n",
    "dic_an = {\"k1\": {\"k2 aninhado\": {\"k3 aninhado\": 12}}}\n",
    "dic_an"
   ]
  },
  {
   "cell_type": "code",
   "execution_count": 53,
   "id": "db8879cd",
   "metadata": {},
   "outputs": [
    {
     "data": {
      "text/plain": [
       "12"
      ]
     },
     "execution_count": 53,
     "metadata": {},
     "output_type": "execute_result"
    }
   ],
   "source": [
    "dic_an[\"k1\"][\"k2 aninhado\"][\"k3 aninhado\"]"
   ]
  },
  {
   "cell_type": "code",
   "execution_count": null,
   "id": "39063133",
   "metadata": {},
   "outputs": [],
   "source": []
  }
 ],
 "metadata": {
  "kernelspec": {
   "display_name": "Python 3",
   "language": "python",
   "name": "python3"
  },
  "language_info": {
   "codemirror_mode": {
    "name": "ipython",
    "version": 3
   },
   "file_extension": ".py",
   "mimetype": "text/x-python",
   "name": "python",
   "nbconvert_exporter": "python",
   "pygments_lexer": "ipython3",
   "version": "3.8.8"
  }
 },
 "nbformat": 4,
 "nbformat_minor": 5
}
