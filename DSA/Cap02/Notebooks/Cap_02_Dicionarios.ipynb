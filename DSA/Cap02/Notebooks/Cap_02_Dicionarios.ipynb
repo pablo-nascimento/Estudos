{
 "cells": [
  {
   "cell_type": "code",
   "execution_count": 1,
   "id": "0146a6b9",
   "metadata": {},
   "outputs": [],
   "source": [
    "# Python - Data Science Academy - 25.07.22 - 20h24\n",
    "# Cap 02 - Dicionarios"
   ]
  },
  {
   "cell_type": "code",
   "execution_count": 2,
   "id": "d68a0d45",
   "metadata": {},
   "outputs": [],
   "source": [
    "# Dicionarios\n",
    "# criada com {}\n",
    "# Dicionario Python - chave, e seu respectivo valor associado\n",
    "# {chave1: valor1, chave2, valor2}\n",
    "\n"
   ]
  },
  {
   "cell_type": "code",
   "execution_count": 4,
   "id": "676e0c55",
   "metadata": {},
   "outputs": [],
   "source": [
    "# Lista\n",
    "estudantes_lista = [\"Sergio\", 24, \"Alvaro\", 19, \"Teresa\", 30]"
   ]
  },
  {
   "cell_type": "code",
   "execution_count": 5,
   "id": "535bdd8a",
   "metadata": {},
   "outputs": [
    {
     "data": {
      "text/plain": [
       "['Sergio', 24, 'Alvaro', 19, 'Teresa', 30]"
      ]
     },
     "execution_count": 5,
     "metadata": {},
     "output_type": "execute_result"
    }
   ],
   "source": [
    "# Imprimindo a lista\n",
    "estudantes_lista"
   ]
  },
  {
   "cell_type": "code",
   "execution_count": 6,
   "id": "dea8b8bb",
   "metadata": {},
   "outputs": [],
   "source": [
    "# Dicionario - conjunto chave e valor\n",
    "estudantes_dic = {\"Sergio\": 24, \"Alvaro\": 19, \"Teresa\": 30}"
   ]
  },
  {
   "cell_type": "code",
   "execution_count": 7,
   "id": "bfdee63e",
   "metadata": {},
   "outputs": [
    {
     "data": {
      "text/plain": [
       "{'Sergio': 24, 'Alvaro': 19, 'Teresa': 30}"
      ]
     },
     "execution_count": 7,
     "metadata": {},
     "output_type": "execute_result"
    }
   ],
   "source": [
    "# Imprimindo o dicionario\n",
    "estudantes_dic"
   ]
  },
  {
   "cell_type": "code",
   "execution_count": 8,
   "id": "ea44326b",
   "metadata": {},
   "outputs": [
    {
     "data": {
      "text/plain": [
       "24"
      ]
     },
     "execution_count": 8,
     "metadata": {},
     "output_type": "execute_result"
    }
   ],
   "source": [
    "# Usando a chave como indice para retornar o seu respectivo valor\n",
    "estudantes_dic[\"Sergio\"]"
   ]
  },
  {
   "cell_type": "code",
   "execution_count": 10,
   "id": "8bd85b70",
   "metadata": {},
   "outputs": [
    {
     "data": {
      "text/plain": [
       "{'Sergio': 24, 'Alvaro': 23, 'Teresa': 30}"
      ]
     },
     "execution_count": 10,
     "metadata": {},
     "output_type": "execute_result"
    }
   ],
   "source": [
    "# Atualizando o seu valor passando a chave como parametro\n",
    "estudantes_dic[\"Alvaro\"] = 23\n",
    "estudantes_dic"
   ]
  },
  {
   "cell_type": "code",
   "execution_count": 11,
   "id": "3126ff15",
   "metadata": {},
   "outputs": [],
   "source": [
    "# Adicionando mais um par chave e valor sem precisar declarar novamente o dicionario\n",
    "estudantes_dic[\"Evelyn\"] = 25"
   ]
  },
  {
   "cell_type": "code",
   "execution_count": 12,
   "id": "0d2d8d08",
   "metadata": {},
   "outputs": [
    {
     "data": {
      "text/plain": [
       "{'Sergio': 24, 'Alvaro': 23, 'Teresa': 30, 'Evelyn': 25}"
      ]
     },
     "execution_count": 12,
     "metadata": {},
     "output_type": "execute_result"
    }
   ],
   "source": [
    "# Imprimindo o dicionario com o novo par chave e valor ja adicionados.\n",
    "estudantes_dic"
   ]
  },
  {
   "cell_type": "code",
   "execution_count": null,
   "id": "3e3236de",
   "metadata": {},
   "outputs": [],
   "source": [
    "# Limpar o dicionario.\n",
    "# estudantes_dic.clear()"
   ]
  },
  {
   "cell_type": "code",
   "execution_count": null,
   "id": "9e9746a8",
   "metadata": {},
   "outputs": [],
   "source": [
    "# Apagando a estrutura de dados dicionario\n",
    "# del estudantes_dic"
   ]
  },
  {
   "cell_type": "code",
   "execution_count": 13,
   "id": "473215eb",
   "metadata": {},
   "outputs": [
    {
     "data": {
      "text/plain": [
       "4"
      ]
     },
     "execution_count": 13,
     "metadata": {},
     "output_type": "execute_result"
    }
   ],
   "source": [
    "# tamanho do dicionario\n",
    "len(estudantes_dic)"
   ]
  },
  {
   "cell_type": "code",
   "execution_count": 14,
   "id": "0438d76a",
   "metadata": {},
   "outputs": [
    {
     "data": {
      "text/plain": [
       "dict_keys(['Sergio', 'Alvaro', 'Teresa', 'Evelyn'])"
      ]
     },
     "execution_count": 14,
     "metadata": {},
     "output_type": "execute_result"
    }
   ],
   "source": [
    "# Retornando as chaves\n",
    "estudantes_dic.keys()"
   ]
  },
  {
   "cell_type": "code",
   "execution_count": 15,
   "id": "3a9ce98c",
   "metadata": {},
   "outputs": [
    {
     "data": {
      "text/plain": [
       "dict_values([24, 23, 30, 25])"
      ]
     },
     "execution_count": 15,
     "metadata": {},
     "output_type": "execute_result"
    }
   ],
   "source": [
    "# Retornando os valores\n",
    "estudantes_dic.values()"
   ]
  },
  {
   "cell_type": "code",
   "execution_count": 16,
   "id": "9e2cc7db",
   "metadata": {},
   "outputs": [
    {
     "data": {
      "text/plain": [
       "dict_items([('Sergio', 24), ('Alvaro', 23), ('Teresa', 30), ('Evelyn', 25)])"
      ]
     },
     "execution_count": 16,
     "metadata": {},
     "output_type": "execute_result"
    }
   ],
   "source": [
    "# Retornando os itens - par chave e valor\n",
    "estudantes_dic.items()"
   ]
  },
  {
   "cell_type": "code",
   "execution_count": 17,
   "id": "20221e4a",
   "metadata": {},
   "outputs": [],
   "source": [
    "estudantes_dic2 = {\"Jose\": 45, \"Maria\": 40}"
   ]
  },
  {
   "cell_type": "code",
   "execution_count": 18,
   "id": "4078e7a8",
   "metadata": {},
   "outputs": [],
   "source": [
    "# Atualizando o primeiro dicionario, com o conteudo do segundo, criado, acima.\n",
    "estudantes_dic.update(estudantes_dic2)"
   ]
  },
  {
   "cell_type": "code",
   "execution_count": 19,
   "id": "c4f82210",
   "metadata": {},
   "outputs": [
    {
     "data": {
      "text/plain": [
       "{'Sergio': 24,\n",
       " 'Alvaro': 23,\n",
       " 'Teresa': 30,\n",
       " 'Evelyn': 25,\n",
       " 'Jose': 45,\n",
       " 'Maria': 40}"
      ]
     },
     "execution_count": 19,
     "metadata": {},
     "output_type": "execute_result"
    }
   ],
   "source": [
    "# Imprimindo o primeiro dicionario\n",
    "estudantes_dic"
   ]
  },
  {
   "cell_type": "code",
   "execution_count": 22,
   "id": "801008d3",
   "metadata": {},
   "outputs": [],
   "source": [
    "# Dicionario vazio\n",
    "dict1 = {}"
   ]
  },
  {
   "cell_type": "code",
   "execution_count": 23,
   "id": "a9ef0edf",
   "metadata": {},
   "outputs": [],
   "source": [
    "dict1[1] = \"primeiro valor\""
   ]
  },
  {
   "cell_type": "code",
   "execution_count": 24,
   "id": "67871006",
   "metadata": {},
   "outputs": [
    {
     "name": "stdout",
     "output_type": "stream",
     "text": [
      "{1: 'primeiro valor'}\n"
     ]
    }
   ],
   "source": [
    "print(dict1)"
   ]
  },
  {
   "cell_type": "code",
   "execution_count": 25,
   "id": "8441f2d0",
   "metadata": {},
   "outputs": [],
   "source": [
    "# Adicionando mais um conjunto chave e valor. \n",
    "dict1[\"segundo valor\"] = 2"
   ]
  },
  {
   "cell_type": "code",
   "execution_count": 27,
   "id": "c18d6fa4",
   "metadata": {},
   "outputs": [
    {
     "name": "stdout",
     "output_type": "stream",
     "text": [
      "{1: 'primeiro valor', 'segundo valor': 2}\n"
     ]
    }
   ],
   "source": [
    "print(dict1)\n",
    "# Qualquer tipo de dado pode ser usado como chave e valor, variando de acordo com a necessidade."
   ]
  },
  {
   "cell_type": "code",
   "execution_count": 28,
   "id": "1ee62d59",
   "metadata": {},
   "outputs": [],
   "source": [
    "dict2 = {}"
   ]
  },
  {
   "cell_type": "code",
   "execution_count": 34,
   "id": "809ecfe1",
   "metadata": {},
   "outputs": [],
   "source": [
    "dict2[\"key1\"] = \"Big Data\""
   ]
  },
  {
   "cell_type": "code",
   "execution_count": 33,
   "id": "89e9dac5",
   "metadata": {},
   "outputs": [
    {
     "data": {
      "text/plain": [
       "{}"
      ]
     },
     "execution_count": 33,
     "metadata": {},
     "output_type": "execute_result"
    }
   ],
   "source": [
    "dict2"
   ]
  },
  {
   "cell_type": "code",
   "execution_count": null,
   "id": "a7b658d4",
   "metadata": {},
   "outputs": [],
   "source": []
  }
 ],
 "metadata": {
  "kernelspec": {
   "display_name": "Python 3",
   "language": "python",
   "name": "python3"
  },
  "language_info": {
   "codemirror_mode": {
    "name": "ipython",
    "version": 3
   },
   "file_extension": ".py",
   "mimetype": "text/x-python",
   "name": "python",
   "nbconvert_exporter": "python",
   "pygments_lexer": "ipython3",
   "version": "3.8.8"
  }
 },
 "nbformat": 4,
 "nbformat_minor": 5
}
