{
 "cells": [
  {
   "cell_type": "code",
   "execution_count": 1,
   "id": "aa33ecfa",
   "metadata": {},
   "outputs": [],
   "source": [
    "# Curso Python Fundamentos para Analise de Dados - DSA\n",
    "# Estruturas Condicionais - 08.08.2022 23h20"
   ]
  },
  {
   "cell_type": "code",
   "execution_count": 3,
   "id": "48a87b45",
   "metadata": {},
   "outputs": [
    {
     "name": "stdout",
     "output_type": "stream",
     "text": [
      "Python funciona\n"
     ]
    }
   ],
   "source": [
    "# Condicional simples - uma condicao\n",
    "if 5 > 2:\n",
    "    print('Python funciona!!')"
   ]
  },
  {
   "cell_type": "code",
   "execution_count": 4,
   "id": "41c1f17e",
   "metadata": {},
   "outputs": [
    {
     "name": "stdout",
     "output_type": "stream",
     "text": [
      "Python funciona\n"
     ]
    }
   ],
   "source": [
    "# Condicional com Se e Senao - retorno, de valor booleano\n",
    "if 5 > 2:\n",
    "    print('Python funciona!!') # condicao acima verdadeira\n",
    "else:\n",
    "    print('Algo esta errado!!') # condicao acima falsa\n",
    "        "
   ]
  },
  {
   "cell_type": "code",
   "execution_count": 5,
   "id": "e78d2252",
   "metadata": {},
   "outputs": [
    {
     "data": {
      "text/plain": [
       "True"
      ]
     },
     "execution_count": 5,
     "metadata": {},
     "output_type": "execute_result"
    }
   ],
   "source": [
    "6 > 3"
   ]
  },
  {
   "cell_type": "code",
   "execution_count": 6,
   "id": "e4e17baf",
   "metadata": {},
   "outputs": [
    {
     "name": "stdout",
     "output_type": "stream",
     "text": [
      "Python funciona!!\n"
     ]
    }
   ],
   "source": [
    "# Condicional com igualdade\n",
    "if 5 == 5:\n",
    "    print('Python funciona!!')"
   ]
  },
  {
   "cell_type": "code",
   "execution_count": null,
   "id": "df0a7558",
   "metadata": {},
   "outputs": [],
   "source": [
    "# Uso de boole"
   ]
  }
 ],
 "metadata": {
  "kernelspec": {
   "display_name": "Python 3",
   "language": "python",
   "name": "python3"
  },
  "language_info": {
   "codemirror_mode": {
    "name": "ipython",
    "version": 3
   },
   "file_extension": ".py",
   "mimetype": "text/x-python",
   "name": "python",
   "nbconvert_exporter": "python",
   "pygments_lexer": "ipython3",
   "version": "3.8.8"
  }
 },
 "nbformat": 4,
 "nbformat_minor": 5
}
