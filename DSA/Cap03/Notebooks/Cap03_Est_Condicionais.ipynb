{
 "cells": [
  {
   "cell_type": "code",
   "execution_count": 1,
   "id": "742ab569",
   "metadata": {},
   "outputs": [],
   "source": [
    "# Curso Python Fundamentos para Analise de Dados - DSA\n",
    "# Estruturas Condicionais - 08.08.2022 23h20"
   ]
  },
  {
   "cell_type": "code",
   "execution_count": 3,
   "id": "5d8f0770",
   "metadata": {},
   "outputs": [
    {
     "name": "stdout",
     "output_type": "stream",
     "text": [
      "Python funciona\n"
     ]
    }
   ],
   "source": [
    "# Condicional simples - uma condicao\n",
    "if 5 > 2:\n",
    "    print('Python funciona!!')"
   ]
  },
  {
   "cell_type": "code",
   "execution_count": 4,
   "id": "7feac4c6",
   "metadata": {},
   "outputs": [
    {
     "name": "stdout",
     "output_type": "stream",
     "text": [
      "Python funciona\n"
     ]
    }
   ],
   "source": [
    "# Condicional com Se e Senao - retorno, de valor booleano\n",
    "if 5 > 2:\n",
    "    print('Python funciona!!') # condicao acima verdadeira\n",
    "else:\n",
    "    print('Algo esta errado!!') # condicao acima falsa\n",
    "        "
   ]
  },
  {
   "cell_type": "code",
   "execution_count": 5,
   "id": "a590e834",
   "metadata": {},
   "outputs": [
    {
     "data": {
      "text/plain": [
       "True"
      ]
     },
     "execution_count": 5,
     "metadata": {},
     "output_type": "execute_result"
    }
   ],
   "source": [
    "6 > 3"
   ]
  },
  {
   "cell_type": "code",
   "execution_count": 6,
   "id": "ab7d7985",
   "metadata": {},
   "outputs": [
    {
     "name": "stdout",
     "output_type": "stream",
     "text": [
      "Python funciona!!\n"
     ]
    }
   ],
   "source": [
    "# Condicional com igualdade\n",
    "if 5 == 5:\n",
    "    print('Python funciona!!')"
   ]
  },
  {
   "cell_type": "code",
   "execution_count": 7,
   "id": "0eb282d2",
   "metadata": {},
   "outputs": [
    {
     "name": "stdout",
     "output_type": "stream",
     "text": [
      "Python funciona!!\n"
     ]
    }
   ],
   "source": [
    "# Uso de booleano como instrucao na estrutura condicional\n",
    "if True:\n",
    "    print('Python funciona!!')\n"
   ]
  },
  {
   "cell_type": "code",
   "execution_count": 8,
   "id": "5d2e0d31",
   "metadata": {},
   "outputs": [
    {
     "name": "stdout",
     "output_type": "stream",
     "text": [
      "Pode dirigir\n"
     ]
    }
   ],
   "source": [
    "# Condicionais aninhados\n",
    "idade = 18\n",
    "if idade > 17:\n",
    "    print('Pode dirigir...')"
   ]
  },
  {
   "cell_type": "code",
   "execution_count": 9,
   "id": "cfd63d42",
   "metadata": {},
   "outputs": [
    {
     "name": "stdout",
     "output_type": "stream",
     "text": [
      "Pode entrar...\n"
     ]
    }
   ],
   "source": [
    "# If aninhado - if dentro de if\n",
    "name = \"Bob\"\n",
    "\n",
    "if idade > 13:\n",
    "    if name == 'Bob': # chega nesse if se o if da idade tiver sua condicao satisfeita\n",
    "        print('Pode entrar...')\n",
    "    else:\n",
    "        print('Nao pode entrar!!')"
   ]
  },
  {
   "cell_type": "code",
   "execution_count": 11,
   "id": "65fee72e",
   "metadata": {},
   "outputs": [
    {
     "name": "stdout",
     "output_type": "stream",
     "text": [
      "Pode entrar...\n"
     ]
    }
   ],
   "source": [
    "# Uso do operador AND - entra no bloco do if caso as duas condicoes sejam satisfeitas\n",
    "if name == 'Bob' and idade > 13:\n",
    "    print('Pode entrar...')"
   ]
  },
  {
   "cell_type": "code",
   "execution_count": 12,
   "id": "8a028454",
   "metadata": {},
   "outputs": [
    {
     "name": "stdout",
     "output_type": "stream",
     "text": [
      "Pode entrar...\n"
     ]
    }
   ],
   "source": [
    "# Uso do operador OR - entra no bloco do if caso UMA das duas condicoes sejam satisfeitas\n",
    "if (name == 'Bob') or (idade > 13):\n",
    "    print('Pode entrar...')"
   ]
  },
  {
   "cell_type": "code",
   "execution_count": 14,
   "id": "2f11866f",
   "metadata": {},
   "outputs": [
    {
     "name": "stdout",
     "output_type": "stream",
     "text": [
      "Pega o guarda chuva...\n"
     ]
    }
   ],
   "source": [
    "# Operador Elif - evitar a escrita de sucessivos ifs\n",
    "dia = 'terca'\n",
    "if dia == 'segunda': # checa se variavel dia é igual a segunda\n",
    "    print('Pode ter sol...')\n",
    "elif dia == 'terca': # checa se variavel dia é igual a terca\n",
    "    print('Pega o guarda chuva...')\n",
    "else: # cai no else caso as duas condicoes acima sejam falsas\n",
    "    print('Sem previsao do tempo...')"
   ]
  },
  {
   "cell_type": "code",
   "execution_count": 17,
   "id": "0845e934",
   "metadata": {},
   "outputs": [
    {
     "name": "stdout",
     "output_type": "stream",
     "text": [
      "Disciplina: matematica\n",
      "Nota final (0 - 100)76\n",
      "Semestre (1 - 4)2\n",
      "Aprovado: matematica - Media: '76'\n"
     ]
    }
   ],
   "source": [
    "# Operadores logicos\n",
    "# Capturando informacoes do usuario com a funcao input.\n",
    "disciplina = input('Disciplina: ')\n",
    "nf = input('Nota final (0 - 100)')\n",
    "semestre = input('Semestre (1 - 4)')\n",
    "\n",
    "# condicional com 3 condicoes\n",
    "if disciplina == 'matematica' and nf >= '65' and int(semestre) != 1:\n",
    "    print('Aprovado: %s - Media: %r' %(disciplina, nf)) # placeholders\n",
    "else: \n",
    "    print('Reprovado')"
   ]
  },
  {
   "cell_type": "code",
   "execution_count": null,
   "id": "e9e5af0b",
   "metadata": {},
   "outputs": [],
   "source": []
  }
 ],
 "metadata": {
  "kernelspec": {
   "display_name": "Python 3",
   "language": "python",
   "name": "python3"
  },
  "language_info": {
   "codemirror_mode": {
    "name": "ipython",
    "version": 3
   },
   "file_extension": ".py",
   "mimetype": "text/x-python",
   "name": "python",
   "nbconvert_exporter": "python",
   "pygments_lexer": "ipython3",
   "version": "3.8.8"
  }
 },
 "nbformat": 4,
 "nbformat_minor": 5
}
