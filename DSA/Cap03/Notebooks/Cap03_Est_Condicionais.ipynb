{
 "cells": [
  {
   "cell_type": "code",
   "execution_count": 1,
   "id": "a02c2046",
   "metadata": {},
   "outputs": [],
   "source": [
    "# Curso Python Fundamentos para Analise de Dados - DSA\n",
    "# Estruturas Condicionais - 08.08.2022 23h20"
   ]
  },
  {
   "cell_type": "code",
   "execution_count": 3,
   "id": "55857b8b",
   "metadata": {},
   "outputs": [
    {
     "name": "stdout",
     "output_type": "stream",
     "text": [
      "Python funciona\n"
     ]
    }
   ],
   "source": [
    "# Condicional simples - uma condicao\n",
    "if 5 > 2:\n",
    "    print('Python funciona!!')"
   ]
  },
  {
   "cell_type": "code",
   "execution_count": 4,
   "id": "e43e7ad6",
   "metadata": {},
   "outputs": [
    {
     "name": "stdout",
     "output_type": "stream",
     "text": [
      "Python funciona\n"
     ]
    }
   ],
   "source": [
    "# Condicional com Se e Senao - retorno, de valor booleano\n",
    "if 5 > 2:\n",
    "    print('Python funciona!!') # condicao acima verdadeira\n",
    "else:\n",
    "    print('Algo esta errado!!') # condicao acima falsa\n",
    "        "
   ]
  },
  {
   "cell_type": "code",
   "execution_count": 5,
   "id": "7d012a71",
   "metadata": {},
   "outputs": [
    {
     "data": {
      "text/plain": [
       "True"
      ]
     },
     "execution_count": 5,
     "metadata": {},
     "output_type": "execute_result"
    }
   ],
   "source": [
    "6 > 3"
   ]
  },
  {
   "cell_type": "code",
   "execution_count": 6,
   "id": "8d33cf80",
   "metadata": {},
   "outputs": [
    {
     "name": "stdout",
     "output_type": "stream",
     "text": [
      "Python funciona!!\n"
     ]
    }
   ],
   "source": [
    "# Condicional com igualdade\n",
    "if 5 == 5:\n",
    "    print('Python funciona!!')"
   ]
  },
  {
   "cell_type": "code",
   "execution_count": 7,
   "id": "28108eb8",
   "metadata": {},
   "outputs": [
    {
     "name": "stdout",
     "output_type": "stream",
     "text": [
      "Python funciona!!\n"
     ]
    }
   ],
   "source": [
    "# Uso de booleano como instrucao na estrutura condicional\n",
    "if True:\n",
    "    print('Python funciona!!')\n"
   ]
  },
  {
   "cell_type": "code",
   "execution_count": 8,
   "id": "09a3fbc5",
   "metadata": {},
   "outputs": [
    {
     "name": "stdout",
     "output_type": "stream",
     "text": [
      "Pode dirigir\n"
     ]
    }
   ],
   "source": [
    "# Condicionais aninhados\n",
    "idade = 18\n",
    "if idade > 17:\n",
    "    print('Pode dirigir...')"
   ]
  },
  {
   "cell_type": "code",
   "execution_count": 9,
   "id": "23779824",
   "metadata": {},
   "outputs": [
    {
     "name": "stdout",
     "output_type": "stream",
     "text": [
      "Pode entrar...\n"
     ]
    }
   ],
   "source": [
    "# If aninhado - if dentro de if\n",
    "name = \"Bob\"\n",
    "\n",
    "if idade > 13:\n",
    "    if name == 'Bob': # chega nesse if se o if da idade tiver sua condicao satisfeita\n",
    "        print('Pode entrar...')\n",
    "    else:\n",
    "        print('Nao pode entrar!!')"
   ]
  },
  {
   "cell_type": "code",
   "execution_count": 11,
   "id": "14efa67c",
   "metadata": {},
   "outputs": [
    {
     "name": "stdout",
     "output_type": "stream",
     "text": [
      "Pode entrar...\n"
     ]
    }
   ],
   "source": [
    "# Uso do operador AND - entra no bloco do if caso as duas condicoes sejam satisfeitas\n",
    "if name == 'Bob' and idade > 13:\n",
    "    print('Pode entrar...')"
   ]
  },
  {
   "cell_type": "code",
   "execution_count": 12,
   "id": "b1a7f7c6",
   "metadata": {},
   "outputs": [
    {
     "name": "stdout",
     "output_type": "stream",
     "text": [
      "Pode entrar...\n"
     ]
    }
   ],
   "source": [
    "# Uso do operador OR - entra no bloco do if caso UMA das duas condicoes sejam satisfeitas\n",
    "if (name == 'Bob') or (idade > 13):\n",
    "    print('Pode entrar...')"
   ]
  },
  {
   "cell_type": "code",
   "execution_count": null,
   "id": "ad41802b",
   "metadata": {},
   "outputs": [],
   "source": []
  }
 ],
 "metadata": {
  "kernelspec": {
   "display_name": "Python 3",
   "language": "python",
   "name": "python3"
  },
  "language_info": {
   "codemirror_mode": {
    "name": "ipython",
    "version": 3
   },
   "file_extension": ".py",
   "mimetype": "text/x-python",
   "name": "python",
   "nbconvert_exporter": "python",
   "pygments_lexer": "ipython3",
   "version": "3.8.8"
  }
 },
 "nbformat": 4,
 "nbformat_minor": 5
}
