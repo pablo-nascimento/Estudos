{
 "cells": [
  {
   "cell_type": "code",
   "execution_count": 1,
   "id": "98602a63",
   "metadata": {},
   "outputs": [],
   "source": [
    "# Laboratorio do Cap03 - Python - Fundamentos para Analise de Dados\n",
    "# Data Science Academy - 31.08.22 22h46"
   ]
  },
  {
   "cell_type": "code",
   "execution_count": 2,
   "id": "2768007f",
   "metadata": {},
   "outputs": [],
   "source": [
    "# Desenvolvendo uma calculadora Simples\n",
    "# Lendo dois numeros, uma opcao de operacao e o resultado dessa operacao\n",
    "# Usando estruturas condicionais"
   ]
  },
  {
   "cell_type": "code",
   "execution_count": 16,
   "id": "af7768e0",
   "metadata": {},
   "outputs": [
    {
     "name": "stdout",
     "output_type": "stream",
     "text": [
      "############################\n",
      "##### Python Calculator ####\n",
      "############################\n",
      "1 - Soma\n",
      "2 - Subtracao\n",
      "3 - Multiplicacao\n",
      "4 - Divisao\n",
      "Informe a operacao desejada: 2\n",
      "Primeiro número: 2\n",
      "Segundo número: 2\n",
      "Subtracao invalida. Os dois numeros informados sao iguais.\n",
      "Informe a operacao desejada ou enter para sair: 2\n",
      "Primeiro número: 2\n",
      "Segundo número: 3\n",
      "3  -  2  =  1\n",
      "Informe a operacao desejada ou enter para sair: 7\n"
     ]
    }
   ],
   "source": [
    "print('############################')\n",
    "print('##### Python Calculator ####')\n",
    "print('############################')\n",
    "print('1 - Soma')\n",
    "print('2 - Subtracao')\n",
    "print('3 - Multiplicacao')\n",
    "print('4 - Divisao')\n",
    "opcao = int(input('Informe a operacao desejada: '))\n",
    "while opcao <= 4:\n",
    "    n1 = int(input('Primeiro número: '))\n",
    "    n2 = int(input('Segundo número: '))\n",
    "    if opcao == 1:\n",
    "        print(n1, ' + ', n2, ' = ', (n1+n2))\n",
    "    elif opcao == 2:\n",
    "        if n1 > n2:\n",
    "            print(n1, ' - ', n2, ' = ', (n1-n2))\n",
    "        elif n2 > n1:\n",
    "            print(n2, ' - ', n1, ' = ', (n2-n1))\n",
    "        else:\n",
    "            print('Subtracao invalida. Os dois numeros informados sao iguais.')\n",
    "    elif opcao == 3:\n",
    "        print(n1, ' * ', n2, ' = ', (n1*n2))\n",
    "    elif opcao == 4:\n",
    "        if n1 > n2:\n",
    "            print(n1, ' / ', n2, ' = ', (n1/n2))\n",
    "        elif n2 > n1:\n",
    "            print(n2, ' / ', n1, ' = ', (n2/n1))\n",
    "        else:\n",
    "            print('Divisão invalida. Os dois numeros informados sao iguais.')\n",
    "    else:\n",
    "        print('Opcao informada invalida.')\n",
    "    opcao = int(input('Informe a operacao desejada ou enter para sair: '))\n",
    "    print('\\n')\n",
    "\n",
    "\n",
    "        \n"
   ]
  },
  {
   "cell_type": "code",
   "execution_count": null,
   "id": "9a8220ff",
   "metadata": {},
   "outputs": [],
   "source": []
  },
  {
   "cell_type": "code",
   "execution_count": null,
   "id": "72ecf444",
   "metadata": {},
   "outputs": [],
   "source": []
  }
 ],
 "metadata": {
  "kernelspec": {
   "display_name": "Python 3",
   "language": "python",
   "name": "python3"
  },
  "language_info": {
   "codemirror_mode": {
    "name": "ipython",
    "version": 3
   },
   "file_extension": ".py",
   "mimetype": "text/x-python",
   "name": "python",
   "nbconvert_exporter": "python",
   "pygments_lexer": "ipython3",
   "version": "3.8.8"
  }
 },
 "nbformat": 4,
 "nbformat_minor": 5
}
