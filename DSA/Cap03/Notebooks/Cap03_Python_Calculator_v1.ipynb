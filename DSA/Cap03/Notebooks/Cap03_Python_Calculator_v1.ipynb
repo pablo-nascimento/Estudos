{
 "cells": [
  {
   "cell_type": "code",
   "execution_count": 1,
   "id": "85dcd422",
   "metadata": {},
   "outputs": [],
   "source": [
    "# Laboratorio do Cap03 - Python - Fundamentos para Analise de Dados\n",
    "# Data Science Academy - 31.08.22 22h46"
   ]
  },
  {
   "cell_type": "code",
   "execution_count": 2,
   "id": "5251d19b",
   "metadata": {},
   "outputs": [],
   "source": [
    "# Desenvolvendo uma calculadora Simples\n",
    "# Lendo dois numeros, uma opcao de operacao e o resultado dessa operacao\n",
    "# Usando estruturas condicionais"
   ]
  },
  {
   "cell_type": "code",
   "execution_count": 4,
   "id": "7de68be9",
   "metadata": {},
   "outputs": [
    {
     "name": "stdout",
     "output_type": "stream",
     "text": [
      "############################\n",
      "##### Python Calculator ####\n",
      "############################\n",
      "1 - Soma\n",
      "2 - Subtracao\n",
      "3 - Multiplicacao\n",
      "4 - Divisao\n",
      "Informe a operacao desejada: 1\n",
      "Primeiro número: 2\n",
      "Segundo número: 3\n",
      "2  +  3  =  5\n"
     ]
    }
   ],
   "source": [
    "print('############################')\n",
    "print('##### Python Calculator ####')\n",
    "print('############################')\n",
    "print('1 - Soma')\n",
    "print('2 - Subtracao')\n",
    "print('3 - Multiplicacao')\n",
    "print('4 - Divisao')\n",
    "opcao = int(input('Informe a operacao desejada: '))\n",
    "n1 = int(input('Primeiro número: '))\n",
    "n2 = int(input('Segundo número: '))\n",
    "if opcao == 1:\n",
    "    print(n1, ' + ', n2, ' = ', (n1+n2))\n",
    "elif opcao == 2:\n",
    "    if n1 > n2:\n",
    "        print(n1, ' - ', n2, ' = ', (n1-n2))\n",
    "    elif n2 > n3:\n",
    "        print(n2, ' - ', n1, ' = ', (n2-n1))\n",
    "    else:\n",
    "        print('Subtracao invalida. Os dois numeros informados sao iguais.')\n",
    "elif opcao == 3:\n",
    "    print(n1, ' * ', n2, ' = ', (n1*n2))\n",
    "elif opcao == 4:\n",
    "    if n1 > n2:\n",
    "        print(n1, ' / ', n2, ' = ', (n1/n2))\n",
    "    elif n2 > n1:\n",
    "        print(n2, ' / ', n1, ' = ', (n2/n1))\n",
    "    else:\n",
    "        print('Divisão invalida. Os dois numeros informados sao iguais.')\n",
    "else:\n",
    "    print('Opcao informada invalida.')\n",
    "        \n"
   ]
  },
  {
   "cell_type": "code",
   "execution_count": null,
   "id": "53771122",
   "metadata": {},
   "outputs": [],
   "source": []
  }
 ],
 "metadata": {
  "kernelspec": {
   "display_name": "Python 3",
   "language": "python",
   "name": "python3"
  },
  "language_info": {
   "codemirror_mode": {
    "name": "ipython",
    "version": 3
   },
   "file_extension": ".py",
   "mimetype": "text/x-python",
   "name": "python",
   "nbconvert_exporter": "python",
   "pygments_lexer": "ipython3",
   "version": "3.8.8"
  }
 },
 "nbformat": 4,
 "nbformat_minor": 5
}
