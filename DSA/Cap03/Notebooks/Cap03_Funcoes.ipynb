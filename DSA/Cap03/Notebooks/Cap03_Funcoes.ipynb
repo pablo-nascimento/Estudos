{
 "cells": [
  {
   "cell_type": "code",
   "execution_count": 1,
   "id": "c22c3cff",
   "metadata": {},
   "outputs": [],
   "source": [
    "# Curso Python Fundamentos para Analise de Dados - DSA\n",
    "# Funcoes - 10.08.2022 - 23h11"
   ]
  },
  {
   "cell_type": "code",
   "execution_count": 2,
   "id": "ecdb32fb",
   "metadata": {},
   "outputs": [],
   "source": [
    "# palavra reservada def nome_funcao(argumento):\n",
    "# codigo\n",
    "# retorno da funcao\n"
   ]
  },
  {
   "cell_type": "code",
   "execution_count": 5,
   "id": "9b081582",
   "metadata": {},
   "outputs": [],
   "source": [
    "# Declarando uma funcao\n",
    "def primeiraFunc():\n",
    "    print(\"Hello Word!!\")"
   ]
  },
  {
   "cell_type": "code",
   "execution_count": 6,
   "id": "c5dcb701",
   "metadata": {},
   "outputs": [
    {
     "name": "stdout",
     "output_type": "stream",
     "text": [
      "Hello Word!!\n"
     ]
    }
   ],
   "source": [
    "# Chamada da funcao\n",
    "primeiraFunc()"
   ]
  },
  {
   "cell_type": "code",
   "execution_count": 12,
   "id": "c0dd4cd0",
   "metadata": {},
   "outputs": [],
   "source": [
    "# Declarando uma funcao com parametro\n",
    "def primeiraFunc(nome):\n",
    "    print(\"Hello %s!!\" %(nome))"
   ]
  },
  {
   "cell_type": "code",
   "execution_count": 14,
   "id": "f6bc6f74",
   "metadata": {},
   "outputs": [
    {
     "name": "stdout",
     "output_type": "stream",
     "text": [
      "Hello Pablo!!\n"
     ]
    }
   ],
   "source": [
    "# Chamada da funcao\n",
    "primeiraFunc(\"Pablo\")"
   ]
  },
  {
   "cell_type": "code",
   "execution_count": 15,
   "id": "30a2b632",
   "metadata": {},
   "outputs": [],
   "source": [
    "# Funcao com repeticao - pode-se usar qualquer codigo dentro da funcao\n",
    "def leitura():\n",
    "    for i in range(0, 6):\n",
    "        print(\"Num: \" + str(i))"
   ]
  },
  {
   "cell_type": "code",
   "execution_count": 17,
   "id": "8e570c15",
   "metadata": {},
   "outputs": [
    {
     "name": "stdout",
     "output_type": "stream",
     "text": [
      "Num: 0\n",
      "Num: 1\n",
      "Num: 2\n",
      "Num: 3\n",
      "Num: 4\n",
      "Num: 5\n"
     ]
    }
   ],
   "source": [
    "# Chamada da funcao acima\n",
    "leitura()"
   ]
  },
  {
   "cell_type": "code",
   "execution_count": 22,
   "id": "4887dacc",
   "metadata": {},
   "outputs": [],
   "source": [
    "# Funcao para somar numeros, recebendo parametros de entrada\n",
    "def numberSum(n1, n2):\n",
    "    print(\"Primeiro numero: \" + str(n1))\n",
    "    print(\"Segundo numero: \" + str(n2))\n",
    "    print(\"Resultado: \", n1 + n2)"
   ]
  },
  {
   "cell_type": "code",
   "execution_count": 23,
   "id": "5425ca47",
   "metadata": {},
   "outputs": [
    {
     "name": "stdout",
     "output_type": "stream",
     "text": [
      "Primeiro numero: 2\n",
      "Segundo numero: 4\n",
      "Resultado:  6\n"
     ]
    }
   ],
   "source": [
    "# Chamada da funcao com parametro\n",
    "numberSum(2, 4)"
   ]
  },
  {
   "cell_type": "code",
   "execution_count": null,
   "id": "b5c46cb4",
   "metadata": {},
   "outputs": [],
   "source": [
    "# "
   ]
  }
 ],
 "metadata": {
  "kernelspec": {
   "display_name": "Python 3",
   "language": "python",
   "name": "python3"
  },
  "language_info": {
   "codemirror_mode": {
    "name": "ipython",
    "version": 3
   },
   "file_extension": ".py",
   "mimetype": "text/x-python",
   "name": "python",
   "nbconvert_exporter": "python",
   "pygments_lexer": "ipython3",
   "version": "3.8.8"
  }
 },
 "nbformat": 4,
 "nbformat_minor": 5
}
