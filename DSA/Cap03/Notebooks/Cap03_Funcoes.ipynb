{
 "cells": [
  {
   "cell_type": "code",
   "execution_count": 1,
   "id": "ddf5189f",
   "metadata": {},
   "outputs": [],
   "source": [
    "# Curso Python Fundamentos para Analise de Dados - DSA\n",
    "# Funcoes - 10.08.2022 - 23h11"
   ]
  },
  {
   "cell_type": "code",
   "execution_count": 2,
   "id": "140bac8e",
   "metadata": {},
   "outputs": [],
   "source": [
    "# palavra reservada def nome_funcao(argumento):\n",
    "# codigo\n",
    "# retorno da funcao\n"
   ]
  },
  {
   "cell_type": "code",
   "execution_count": 5,
   "id": "7a8a9325",
   "metadata": {},
   "outputs": [],
   "source": [
    "# Declarando uma funcao\n",
    "def primeiraFunc():\n",
    "    print(\"Hello Word!!\")"
   ]
  },
  {
   "cell_type": "code",
   "execution_count": 6,
   "id": "8e11522b",
   "metadata": {},
   "outputs": [
    {
     "name": "stdout",
     "output_type": "stream",
     "text": [
      "Hello Word!!\n"
     ]
    }
   ],
   "source": [
    "# Chamada da funcao\n",
    "primeiraFunc()"
   ]
  },
  {
   "cell_type": "code",
   "execution_count": 12,
   "id": "bc74b255",
   "metadata": {},
   "outputs": [],
   "source": [
    "# Declarando uma funcao com parametro\n",
    "def primeiraFunc(nome):\n",
    "    print(\"Hello %s!!\" %(nome))"
   ]
  },
  {
   "cell_type": "code",
   "execution_count": 14,
   "id": "3a31541c",
   "metadata": {},
   "outputs": [
    {
     "name": "stdout",
     "output_type": "stream",
     "text": [
      "Hello Pablo!!\n"
     ]
    }
   ],
   "source": [
    "# Chamada da funcao\n",
    "primeiraFunc(\"Pablo\")"
   ]
  },
  {
   "cell_type": "code",
   "execution_count": 15,
   "id": "99c29ef5",
   "metadata": {},
   "outputs": [],
   "source": [
    "# Funcao com repeticao - pode-se usar qualquer codigo dentro da funcao\n",
    "def leitura():\n",
    "    for i in range(0, 6):\n",
    "        print(\"Num: \" + str(i))"
   ]
  },
  {
   "cell_type": "code",
   "execution_count": 17,
   "id": "41e6b2e8",
   "metadata": {},
   "outputs": [
    {
     "name": "stdout",
     "output_type": "stream",
     "text": [
      "Num: 0\n",
      "Num: 1\n",
      "Num: 2\n",
      "Num: 3\n",
      "Num: 4\n",
      "Num: 5\n"
     ]
    }
   ],
   "source": [
    "# Chamada da funcao acima\n",
    "leitura()"
   ]
  },
  {
   "cell_type": "code",
   "execution_count": 22,
   "id": "b9d9abce",
   "metadata": {},
   "outputs": [],
   "source": [
    "# Funcao para somar numeros, recebendo parametros de entrada\n",
    "def numberSum(n1, n2):\n",
    "    print(\"Primeiro numero: \" + str(n1))\n",
    "    print(\"Segundo numero: \" + str(n2))\n",
    "    print(\"Resultado: \", n1 + n2)"
   ]
  },
  {
   "cell_type": "code",
   "execution_count": 23,
   "id": "d0697dcb",
   "metadata": {},
   "outputs": [
    {
     "name": "stdout",
     "output_type": "stream",
     "text": [
      "Primeiro numero: 2\n",
      "Segundo numero: 4\n",
      "Resultado:  6\n"
     ]
    }
   ],
   "source": [
    "# Chamada da funcao com parametro\n",
    "numberSum(2, 4)"
   ]
  },
  {
   "cell_type": "code",
   "execution_count": 24,
   "id": "796f2641",
   "metadata": {},
   "outputs": [],
   "source": [
    "# Variaveis globais\n",
    "var_global = 10\n",
    "def mult(n1, n2):\n",
    "    var_global = n1 * n2 # variavel so existe dentro da funcao\n",
    "    print(var_global)"
   ]
  },
  {
   "cell_type": "code",
   "execution_count": 26,
   "id": "0de8c8da",
   "metadata": {},
   "outputs": [
    {
     "name": "stdout",
     "output_type": "stream",
     "text": [
      "330\n"
     ]
    }
   ],
   "source": [
    "mult(10, 33)"
   ]
  },
  {
   "cell_type": "code",
   "execution_count": 27,
   "id": "64480702",
   "metadata": {},
   "outputs": [
    {
     "data": {
      "text/plain": [
       "10"
      ]
     },
     "execution_count": 27,
     "metadata": {},
     "output_type": "execute_result"
    }
   ],
   "source": [
    "var_global # imprime o valor da variavel declarada antes da funcao"
   ]
  },
  {
   "cell_type": "code",
   "execution_count": 28,
   "id": "f66baf41",
   "metadata": {},
   "outputs": [
    {
     "data": {
      "text/plain": [
       "54"
      ]
     },
     "execution_count": 28,
     "metadata": {},
     "output_type": "execute_result"
    }
   ],
   "source": [
    "# Funcoes BuiltIn - que ja vem no Python\n",
    "abs(-54)"
   ]
  },
  {
   "cell_type": "code",
   "execution_count": 29,
   "id": "fd98539b",
   "metadata": {},
   "outputs": [
    {
     "data": {
      "text/plain": [
       "True"
      ]
     },
     "execution_count": 29,
     "metadata": {},
     "output_type": "execute_result"
    }
   ],
   "source": [
    "bool(3)"
   ]
  },
  {
   "cell_type": "code",
   "execution_count": 30,
   "id": "f3aaa223",
   "metadata": {},
   "outputs": [
    {
     "data": {
      "text/plain": [
       "True"
      ]
     },
     "execution_count": 30,
     "metadata": {},
     "output_type": "execute_result"
    }
   ],
   "source": [
    "bool(90)"
   ]
  },
  {
   "cell_type": "code",
   "execution_count": 33,
   "id": "1c3c4872",
   "metadata": {},
   "outputs": [
    {
     "name": "stdout",
     "output_type": "stream",
     "text": [
      "Digite sua idade: 12\n",
      "Voce nao pode dirigir.\n"
     ]
    }
   ],
   "source": [
    "# Funcoes str, int, float\n",
    "idade = int(input(\"Digite sua idade: \")) # convertendo a entrada de valor de str, para int\n",
    "if idade >= 18:\n",
    "    print(\"Voce já pode dirigir.\")\n",
    "else:\n",
    "    print(\"Voce nao pode dirigir.\")"
   ]
  },
  {
   "cell_type": "code",
   "execution_count": 3,
   "id": "a679cbc5",
   "metadata": {},
   "outputs": [],
   "source": [
    "# Criando funcoes com outras funcoes\n",
    "import math  # pacote com funcoes matematica\n",
    "def numPrimo(num):\n",
    "    if (num % 2) == 0 and (num > 2):\n",
    "        return(\"Nao é primo.\")\n",
    "    for i in range(3, int(math.sqrt(num)) + 1, 2): # vai de 3 ate a raiz quadrada no numero\n",
    "        if (num % i) == 0:\n",
    "            return(\"Não é Primo.\")\n",
    "    return(\"É primo.\")\n"
   ]
  },
  {
   "cell_type": "code",
   "execution_count": 5,
   "id": "45929be2",
   "metadata": {},
   "outputs": [
    {
     "data": {
      "text/plain": [
       "'É primo.'"
      ]
     },
     "execution_count": 5,
     "metadata": {},
     "output_type": "execute_result"
    }
   ],
   "source": [
    "numPrimo(541)"
   ]
  },
  {
   "cell_type": "code",
   "execution_count": 6,
   "id": "343ad8ec",
   "metadata": {},
   "outputs": [],
   "source": [
    "# SPLIT dos dados\n",
    "def split_str(text):\n",
    "    return text.split(\" \")\n",
    "    "
   ]
  },
  {
   "cell_type": "code",
   "execution_count": 14,
   "id": "9498f364",
   "metadata": {},
   "outputs": [],
   "source": [
    "texto = \"Estudando Python de madrugadas.\""
   ]
  },
  {
   "cell_type": "code",
   "execution_count": 9,
   "id": "aa33dedf",
   "metadata": {},
   "outputs": [
    {
     "name": "stdout",
     "output_type": "stream",
     "text": [
      "['Estudando', 'Python', 'de', 'madrugada.']\n"
     ]
    }
   ],
   "source": [
    "print(split_str(texto)) # Dividindo uma string em uma lista"
   ]
  },
  {
   "cell_type": "code",
   "execution_count": 15,
   "id": "be6e6321",
   "metadata": {},
   "outputs": [],
   "source": [
    "# gravando o resultado da funcao em uma variavel\n",
    "lista = split_str(texto)"
   ]
  },
  {
   "cell_type": "code",
   "execution_count": 16,
   "id": "0a53299c",
   "metadata": {},
   "outputs": [
    {
     "data": {
      "text/plain": [
       "['Estudando', 'Python', 'de', 'madrugadas.']"
      ]
     },
     "execution_count": 16,
     "metadata": {},
     "output_type": "execute_result"
    }
   ],
   "source": [
    "lista"
   ]
  },
  {
   "cell_type": "code",
   "execution_count": 23,
   "id": "3eed8edc",
   "metadata": {},
   "outputs": [],
   "source": [
    "caixa_baixa = \"TEXTO em Caixa Baixa\" # Variavel com texto em caixa alta\n"
   ]
  },
  {
   "cell_type": "code",
   "execution_count": 24,
   "id": "92b5031d",
   "metadata": {},
   "outputs": [],
   "source": [
    "def lowerCase(txt): # funcao que recebe uma string\n",
    "    return txt.lower() # metodo lower - caixa baixa"
   ]
  },
  {
   "cell_type": "code",
   "execution_count": 25,
   "id": "debb9666",
   "metadata": {},
   "outputs": [
    {
     "data": {
      "text/plain": [
       "'texto em caixa baixa'"
      ]
     },
     "execution_count": 25,
     "metadata": {},
     "output_type": "execute_result"
    }
   ],
   "source": [
    "lowerCase(caixa_baixa) # chamada da funcao"
   ]
  },
  {
   "cell_type": "code",
   "execution_count": 32,
   "id": "c0e4a9c3",
   "metadata": {},
   "outputs": [],
   "source": [
    "# Como fazer quando nao se sabe quantos parametros se passa para a funcao\n",
    "# *vartuple - adiciona quantos parametros forem necessarios em tempo de execucao\n",
    "def printVarInfo(a1, *vartuple):\n",
    "    print(\"Primeiro item: \", a1) # imprime o primeiro item\n",
    "    for i in vartuple: # percorre a partir do segundo item\n",
    "        print(\"Item: \", i) # saida de cada item\n",
    "    #return;"
   ]
  },
  {
   "cell_type": "code",
   "execution_count": 33,
   "id": "428a11dd",
   "metadata": {},
   "outputs": [
    {
     "name": "stdout",
     "output_type": "stream",
     "text": [
      "Primeiro item:  10\n"
     ]
    }
   ],
   "source": [
    "printVarInfo(10) # chamada da funcao com 1 parametro"
   ]
  },
  {
   "cell_type": "code",
   "execution_count": 34,
   "id": "dbc54c46",
   "metadata": {},
   "outputs": [
    {
     "name": "stdout",
     "output_type": "stream",
     "text": [
      "Primeiro item:  10\n",
      "Item:  String\n",
      "Item:  Chocolate\n"
     ]
    }
   ],
   "source": [
    "printVarInfo(10, \"String\", \"Chocolate\") # chamada da funcao com 3 parametros"
   ]
  },
  {
   "cell_type": "code",
   "execution_count": null,
   "id": "7f9bb5db",
   "metadata": {},
   "outputs": [],
   "source": []
  }
 ],
 "metadata": {
  "kernelspec": {
   "display_name": "Python 3",
   "language": "python",
   "name": "python3"
  },
  "language_info": {
   "codemirror_mode": {
    "name": "ipython",
    "version": 3
   },
   "file_extension": ".py",
   "mimetype": "text/x-python",
   "name": "python",
   "nbconvert_exporter": "python",
   "pygments_lexer": "ipython3",
   "version": "3.8.8"
  }
 },
 "nbformat": 4,
 "nbformat_minor": 5
}
