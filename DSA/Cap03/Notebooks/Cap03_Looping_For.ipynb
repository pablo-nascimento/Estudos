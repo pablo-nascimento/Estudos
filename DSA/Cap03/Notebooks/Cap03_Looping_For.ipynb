{
 "cells": [
  {
   "cell_type": "code",
   "execution_count": 1,
   "id": "4817b78f",
   "metadata": {},
   "outputs": [],
   "source": [
    "# Curso Python Fundamentos para Analise de Dados - DSA\n",
    "# Estruturas de Repeticao - FOR - 09.08.2022 22h15"
   ]
  },
  {
   "cell_type": "code",
   "execution_count": 3,
   "id": "94a718fe",
   "metadata": {},
   "outputs": [
    {
     "name": "stdout",
     "output_type": "stream",
     "text": [
      "2\n",
      "3\n",
      "4\n"
     ]
    }
   ],
   "source": [
    "# Interando e percorrendo a tupla com o looping for\n",
    "tp = (2, 3, 4)\n",
    "for i in tp:\n",
    "    print(i)"
   ]
  },
  {
   "cell_type": "code",
   "execution_count": 4,
   "id": "8dc0aefd",
   "metadata": {},
   "outputs": [
    {
     "name": "stdout",
     "output_type": "stream",
     "text": [
      "Leite\n",
      "Ovos\n",
      "Carne\n"
     ]
    }
   ],
   "source": [
    "# Percorrendo uma lista\n",
    "listaDoMercado = ['Leite', 'Ovos', 'Carne']\n",
    "for i in listaDoMercado:\n",
    "    print(i)"
   ]
  },
  {
   "cell_type": "code",
   "execution_count": 10,
   "id": "3f30bfeb",
   "metadata": {},
   "outputs": [
    {
     "name": "stdout",
     "output_type": "stream",
     "text": [
      "0\n",
      "2\n",
      "4\n",
      "6\n",
      "8\n",
      "10\n"
     ]
    }
   ],
   "source": [
    "# Looping for com o método range\n",
    "for i in range(0, 11, 2):\n",
    "    print(i)"
   ]
  },
  {
   "cell_type": "code",
   "execution_count": 11,
   "id": "37363893",
   "metadata": {},
   "outputs": [
    {
     "name": "stdout",
     "output_type": "stream",
     "text": [
      "2\n",
      "4\n",
      "6\n",
      "8\n",
      "10\n"
     ]
    }
   ],
   "source": [
    "# Imprimindo os numeros pares\n",
    "lista = [1, 2, 3, 4, 5, 6, 7, 8, 9, 10]\n",
    "for i in lista: # Percorrendo a lista\n",
    "    if i % 2 == 0: # Verificando se o resto da divisao dá zero\n",
    "        print(i)"
   ]
  },
  {
   "cell_type": "code",
   "execution_count": 13,
   "id": "3918eb06",
   "metadata": {},
   "outputs": [
    {
     "name": "stdout",
     "output_type": "stream",
     "text": [
      "0\n",
      "2\n",
      "4\n",
      "6\n",
      "8\n",
      "10\n",
      "12\n",
      "14\n",
      "16\n",
      "18\n",
      "20\n",
      "22\n",
      "24\n",
      "26\n",
      "28\n",
      "30\n",
      "32\n",
      "34\n",
      "36\n",
      "38\n",
      "40\n",
      "42\n",
      "44\n",
      "46\n",
      "48\n",
      "50\n",
      "52\n",
      "54\n",
      "56\n",
      "58\n",
      "60\n",
      "62\n",
      "64\n",
      "66\n",
      "68\n",
      "70\n",
      "72\n",
      "74\n",
      "76\n",
      "78\n",
      "80\n",
      "82\n",
      "84\n"
     ]
    }
   ],
   "source": [
    "for num in range(0, 86, 2):\n",
    "    print(num)"
   ]
  },
  {
   "cell_type": "code",
   "execution_count": 12,
   "id": "306af707",
   "metadata": {},
   "outputs": [
    {
     "name": "stdout",
     "output_type": "stream",
     "text": [
      "P\n",
      "y\n",
      "t\n",
      "h\n",
      "o\n",
      "n\n",
      " \n",
      "é\n",
      " \n",
      "i\n",
      "n\n",
      "c\n",
      "r\n",
      "i\n",
      "v\n",
      "e\n",
      "l\n",
      " \n",
      "d\n",
      "e\n",
      " \n",
      "a\n",
      "p\n",
      "r\n",
      "e\n",
      "n\n",
      "d\n",
      "e\n",
      "r\n"
     ]
    }
   ],
   "source": [
    "# Strings tambem sao sequenciais\n",
    "s = 'Python é incrivel de aprender'\n",
    "for a in s:\n",
    "    print(a)"
   ]
  },
  {
   "cell_type": "code",
   "execution_count": 17,
   "id": "abff6b34",
   "metadata": {},
   "outputs": [
    {
     "name": "stdout",
     "output_type": "stream",
     "text": [
      "\n",
      "\n",
      "0\n",
      "1\n",
      "2\n",
      "3\n",
      "4\n",
      "\n",
      "\n",
      "0\n",
      "1\n",
      "2\n",
      "3\n",
      "4\n",
      "\n",
      "\n",
      "0\n",
      "1\n",
      "2\n",
      "3\n",
      "4\n",
      "\n",
      "\n",
      "0\n",
      "1\n",
      "2\n",
      "3\n",
      "4\n",
      "\n",
      "\n",
      "0\n",
      "1\n",
      "2\n",
      "3\n",
      "4\n"
     ]
    }
   ],
   "source": [
    "# Loops Aninhados\n",
    "for i in range(1, 6):\n",
    "    print('\\n')\n",
    "    for a in range(1, 6):\n",
    "        print(a)"
   ]
  },
  {
   "cell_type": "code",
   "execution_count": 18,
   "id": "c0e84c21",
   "metadata": {},
   "outputs": [
    {
     "name": "stdout",
     "output_type": "stream",
     "text": [
      "40\n"
     ]
    }
   ],
   "source": [
    "# Operacoes com valores de uma lista\n",
    "lst = [2, 3, 4, 5, 6] # Lista\n",
    "soma = 0 # Variavel soma inicializada com 0\n",
    "for i in lst: # looping for\n",
    "    double = i * 2 # variavel local que receberá o resultado da operacao matematica\n",
    "    soma += double # item da lista multiplicado por 2 é gravado na variavel soma\n",
    "print(soma)"
   ]
  },
  {
   "cell_type": "code",
   "execution_count": 19,
   "id": "32dc6090",
   "metadata": {},
   "outputs": [
    {
     "name": "stdout",
     "output_type": "stream",
     "text": [
      "[1, 2, 3]\n",
      "[4, 5, 6]\n",
      "[7, 8, 9]\n"
     ]
    }
   ],
   "source": [
    "# Percorrendo lista de listas\n",
    "listaDeLista = [[1, 2, 3], [4, 5, 6], [7, 8, 9]]\n",
    "for v in listaDeLista:\n",
    "    print(v)"
   ]
  },
  {
   "cell_type": "code",
   "execution_count": 20,
   "id": "8b640669",
   "metadata": {},
   "outputs": [
    {
     "name": "stdout",
     "output_type": "stream",
     "text": [
      "5\n"
     ]
    }
   ],
   "source": [
    "# Contando os itens de uma lista\n",
    "count = 0\n",
    "lista = [1, 2, 3, 4, 5]\n",
    "for i in lista:\n",
    "    count += 1\n",
    "print(count)"
   ]
  },
  {
   "cell_type": "code",
   "execution_count": 21,
   "id": "54335a15",
   "metadata": {},
   "outputs": [
    {
     "name": "stdout",
     "output_type": "stream",
     "text": [
      "3\n"
     ]
    }
   ],
   "source": [
    "# Contando o numero de colunas\n",
    "listaDeLista = [[1, 2, 3], [4, 5, 6], [7, 8, 9]]\n",
    "primeiraLinha = listaDeLista[0]\n",
    "count = 0\n",
    "for i in primeiraLinha:\n",
    "    count += 1\n",
    "print(count)\n"
   ]
  },
  {
   "cell_type": "code",
   "execution_count": 31,
   "id": "b5d168a0",
   "metadata": {},
   "outputs": [
    {
     "name": "stdout",
     "output_type": "stream",
     "text": [
      "Numero encontrado\n"
     ]
    }
   ],
   "source": [
    "# Pesquisando em listas\n",
    "listaP = [1, 2, 3, 4, 55, 6, 7, 11]\n",
    "for i in listaP:\n",
    "    if i == 11:\n",
    "        print('Numero encontrado')"
   ]
  },
  {
   "cell_type": "code",
   "execution_count": 34,
   "id": "866a68c6",
   "metadata": {},
   "outputs": [
    {
     "name": "stdout",
     "output_type": "stream",
     "text": [
      "k1\n",
      "k2\n"
     ]
    }
   ],
   "source": [
    "# Listando as chaves de um dicionario\n",
    "dic = {'k1': 'v1', 'k2': 'v2'}\n",
    "for i in dic:\n",
    "    print(i)"
   ]
  },
  {
   "cell_type": "code",
   "execution_count": 36,
   "id": "a8b3db30",
   "metadata": {},
   "outputs": [
    {
     "name": "stdout",
     "output_type": "stream",
     "text": [
      "k1 v1\n",
      "k2 v2\n"
     ]
    }
   ],
   "source": [
    "# Listando chave e valor\n",
    "for k, v in dic.items():\n",
    "    print(k, v)"
   ]
  },
  {
   "cell_type": "code",
   "execution_count": null,
   "id": "ee3c8941",
   "metadata": {},
   "outputs": [],
   "source": []
  }
 ],
 "metadata": {
  "kernelspec": {
   "display_name": "Python 3",
   "language": "python",
   "name": "python3"
  },
  "language_info": {
   "codemirror_mode": {
    "name": "ipython",
    "version": 3
   },
   "file_extension": ".py",
   "mimetype": "text/x-python",
   "name": "python",
   "nbconvert_exporter": "python",
   "pygments_lexer": "ipython3",
   "version": "3.8.8"
  }
 },
 "nbformat": 4,
 "nbformat_minor": 5
}
