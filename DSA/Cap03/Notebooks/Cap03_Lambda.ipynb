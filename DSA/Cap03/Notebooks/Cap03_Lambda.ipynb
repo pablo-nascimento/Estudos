{
 "cells": [
  {
   "cell_type": "code",
   "execution_count": 1,
   "id": "83360a92",
   "metadata": {},
   "outputs": [],
   "source": [
    "# Curso Python Fundamentos para Analise de Dados - DSA\n",
    "# Expressao Lambda - 18.08.2022 23h21"
   ]
  },
  {
   "cell_type": "code",
   "execution_count": 2,
   "id": "e898aa2d",
   "metadata": {},
   "outputs": [],
   "source": [
    "# Lambda - funcoes criadas em tempo de execucao sem a necessidade de se usar a palavra\n",
    "# def\n",
    "# seu corpo é de apenas uma instrucao, nao de um bloco\n",
    "# semelhante a uma instrucao de retorno da funcao com a palavra def\n",
    "# funcoes simples - in line ou anonimas\n",
    "# lambda: parametro_De_entrada: parametro de saida\n",
    "# "
   ]
  },
  {
   "cell_type": "code",
   "execution_count": 3,
   "id": "1a96f1c0",
   "metadata": {},
   "outputs": [],
   "source": [
    "# Declarando uma funcao com a palavra def, com 3 linhas de codigo\n",
    "def potencia(number):\n",
    "    result = number ** 2\n",
    "    return result"
   ]
  },
  {
   "cell_type": "code",
   "execution_count": 4,
   "id": "4f76871b",
   "metadata": {},
   "outputs": [
    {
     "data": {
      "text/plain": [
       "16"
      ]
     },
     "execution_count": 4,
     "metadata": {},
     "output_type": "execute_result"
    }
   ],
   "source": [
    "# Chamada da funcao acima\n",
    "potencia(4)"
   ]
  },
  {
   "cell_type": "code",
   "execution_count": 5,
   "id": "401c769a",
   "metadata": {},
   "outputs": [],
   "source": [
    "# Funcao com 2 linhas\n",
    "def potencia(number):\n",
    "    return number ** 2"
   ]
  },
  {
   "cell_type": "code",
   "execution_count": 6,
   "id": "a95af3cf",
   "metadata": {},
   "outputs": [
    {
     "data": {
      "text/plain": [
       "16"
      ]
     },
     "execution_count": 6,
     "metadata": {},
     "output_type": "execute_result"
    }
   ],
   "source": [
    "# Nova chamada da funcao \n",
    "potencia(4)"
   ]
  },
  {
   "cell_type": "code",
   "execution_count": 7,
   "id": "767ed09b",
   "metadata": {},
   "outputs": [],
   "source": [
    "# A mesma funcao com uma linha de codigo\n",
    "def potencia(number): return number ** 2"
   ]
  },
  {
   "cell_type": "code",
   "execution_count": 8,
   "id": "147ae16d",
   "metadata": {},
   "outputs": [
    {
     "data": {
      "text/plain": [
       "81"
      ]
     },
     "execution_count": 8,
     "metadata": {},
     "output_type": "execute_result"
    }
   ],
   "source": [
    "# CHamada da funcao\n",
    "potencia(9)"
   ]
  },
  {
   "cell_type": "code",
   "execution_count": 12,
   "id": "604b1da9",
   "metadata": {},
   "outputs": [],
   "source": [
    "# Expressao lambda para a mesma aplicacao acima\n",
    "# Atribui o retorno da funcao a variavel potencias\n",
    "potencias = lambda num: num ** 2"
   ]
  },
  {
   "cell_type": "code",
   "execution_count": 14,
   "id": "8fe0338d",
   "metadata": {},
   "outputs": [
    {
     "data": {
      "text/plain": [
       "9"
      ]
     },
     "execution_count": 14,
     "metadata": {},
     "output_type": "execute_result"
    }
   ],
   "source": [
    "# Chamada da expressao lambda acima, como se chamasse uma funcao normal\n",
    "potencias(3)"
   ]
  },
  {
   "cell_type": "code",
   "execution_count": 15,
   "id": "46378dcc",
   "metadata": {},
   "outputs": [],
   "source": [
    "# Comparacoes - retornam booleano, isso depende do tipo de operador em uso\n",
    "ver_par = lambda num: num % 2 == 0"
   ]
  },
  {
   "cell_type": "code",
   "execution_count": 16,
   "id": "197a582f",
   "metadata": {},
   "outputs": [
    {
     "data": {
      "text/plain": [
       "False"
      ]
     },
     "execution_count": 16,
     "metadata": {},
     "output_type": "execute_result"
    }
   ],
   "source": [
    "# Chamada da funcao acima\n",
    "ver_par(9)"
   ]
  },
  {
   "cell_type": "code",
   "execution_count": 36,
   "id": "d1b6da09",
   "metadata": {},
   "outputs": [],
   "source": [
    "# Trabalhando com strings e expressoes lambda\n",
    "strings = lambda s: s[2:]"
   ]
  },
  {
   "cell_type": "code",
   "execution_count": 37,
   "id": "102036e5",
   "metadata": {},
   "outputs": [
    {
     "data": {
      "text/plain": [
       "'e'"
      ]
     },
     "execution_count": 37,
     "metadata": {},
     "output_type": "execute_result"
    }
   ],
   "source": [
    "# Chamada\n",
    "strings(\"Expressoes Lambda\")"
   ]
  },
  {
   "cell_type": "code",
   "execution_count": 38,
   "id": "e546d743",
   "metadata": {},
   "outputs": [],
   "source": [
    "reverse = lambda s: s[::-1]"
   ]
  },
  {
   "cell_type": "code",
   "execution_count": 39,
   "id": "81bfe7ad",
   "metadata": {},
   "outputs": [
    {
     "data": {
      "text/plain": [
       "'.adagurdam ad 04h32 sa nohtyP odnadutsE'"
      ]
     },
     "execution_count": 39,
     "metadata": {},
     "output_type": "execute_result"
    }
   ],
   "source": [
    "reverse(\"Estudando Python as 23h40 da madrugada.\")"
   ]
  },
  {
   "cell_type": "code",
   "execution_count": 40,
   "id": "6ef3ca61",
   "metadata": {},
   "outputs": [],
   "source": [
    "# Expressao Lambda com 2 parametros\n",
    "somas = lambda n1, n2: n1 + n2"
   ]
  },
  {
   "cell_type": "code",
   "execution_count": 41,
   "id": "15252f11",
   "metadata": {},
   "outputs": [
    {
     "data": {
      "text/plain": [
       "29"
      ]
     },
     "execution_count": 41,
     "metadata": {},
     "output_type": "execute_result"
    }
   ],
   "source": [
    "# Chamada da expres\n",
    "somas(9,20)"
   ]
  },
  {
   "cell_type": "code",
   "execution_count": null,
   "id": "a6213042",
   "metadata": {},
   "outputs": [],
   "source": []
  }
 ],
 "metadata": {
  "kernelspec": {
   "display_name": "Python 3",
   "language": "python",
   "name": "python3"
  },
  "language_info": {
   "codemirror_mode": {
    "name": "ipython",
    "version": 3
   },
   "file_extension": ".py",
   "mimetype": "text/x-python",
   "name": "python",
   "nbconvert_exporter": "python",
   "pygments_lexer": "ipython3",
   "version": "3.8.8"
  }
 },
 "nbformat": 4,
 "nbformat_minor": 5
}
