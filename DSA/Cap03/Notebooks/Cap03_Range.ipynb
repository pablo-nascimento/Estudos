{
 "cells": [
  {
   "cell_type": "code",
   "execution_count": 1,
   "id": "cc23d339",
   "metadata": {},
   "outputs": [],
   "source": [
    "# Curso Python Fundamentos para Analise de Dados - DSA\n",
    "# Estruturas de Repeticao - Funcao Range - 10.08.2022 22h55"
   ]
  },
  {
   "cell_type": "code",
   "execution_count": 2,
   "id": "cd0971ee",
   "metadata": {},
   "outputs": [
    {
     "name": "stdout",
     "output_type": "stream",
     "text": [
      "50\n",
      "51\n",
      "52\n",
      "53\n",
      "54\n",
      "55\n",
      "56\n",
      "57\n",
      "58\n",
      "59\n",
      "60\n"
     ]
    }
   ],
   "source": [
    "# range(start, stop, step) (inicio, fim, incremento ou passo)\n",
    "# Imprimindo numeros pares de 50 a 100\n",
    "for i in range(50, 61): # penultimo parametro, de carater exclusivo, nao imprimiu o 61 \n",
    "    print(i)"
   ]
  },
  {
   "cell_type": "code",
   "execution_count": 6,
   "id": "405195cb",
   "metadata": {},
   "outputs": [
    {
     "name": "stdout",
     "output_type": "stream",
     "text": [
      "2\n",
      "0\n",
      "-2\n",
      "-4\n"
     ]
    }
   ],
   "source": [
    "# Valores negativos - no incremento, inserir o sinal - \n",
    "for i in range(2, -6, -2):\n",
    "    print(i)"
   ]
  },
  {
   "cell_type": "code",
   "execution_count": 13,
   "id": "e275ceb6",
   "metadata": {},
   "outputs": [
    {
     "name": "stdout",
     "output_type": "stream",
     "text": [
      "Batata\n",
      "Cenoura\n",
      "Chuchu\n",
      "Uva\n"
     ]
    }
   ],
   "source": [
    "# Percorrendo outros objetos iteraveis e usando o seu tamanho como o stop da funcao range\n",
    "lista = ['Batata', 'Cenoura', 'Chuchu', 'Uva']\n",
    "for i in range(0, len(lista)):\n",
    "    print(lista[i])"
   ]
  },
  {
   "cell_type": "code",
   "execution_count": 14,
   "id": "4458753a",
   "metadata": {},
   "outputs": [
    {
     "data": {
      "text/plain": [
       "range"
      ]
     },
     "execution_count": 14,
     "metadata": {},
     "output_type": "execute_result"
    }
   ],
   "source": [
    "# Tipo do objeto\n",
    "type(range(0, 12))"
   ]
  },
  {
   "cell_type": "code",
   "execution_count": null,
   "id": "efa5a54f",
   "metadata": {},
   "outputs": [],
   "source": []
  }
 ],
 "metadata": {
  "kernelspec": {
   "display_name": "Python 3",
   "language": "python",
   "name": "python3"
  },
  "language_info": {
   "codemirror_mode": {
    "name": "ipython",
    "version": 3
   },
   "file_extension": ".py",
   "mimetype": "text/x-python",
   "name": "python",
   "nbconvert_exporter": "python",
   "pygments_lexer": "ipython3",
   "version": "3.8.8"
  }
 },
 "nbformat": 4,
 "nbformat_minor": 5
}
