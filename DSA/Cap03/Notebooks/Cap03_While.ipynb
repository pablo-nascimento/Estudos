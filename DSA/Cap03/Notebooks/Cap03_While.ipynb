{
 "cells": [
  {
   "cell_type": "code",
   "execution_count": 1,
   "id": "86836387",
   "metadata": {},
   "outputs": [],
   "source": [
    "# Curso Python Fundamentos para Analise de Dados - DSA\n",
    "# Estruturas de Repeticao - While - 09.08.2022 22h47"
   ]
  },
  {
   "cell_type": "code",
   "execution_count": 2,
   "id": "37c5722e",
   "metadata": {},
   "outputs": [
    {
     "name": "stdout",
     "output_type": "stream",
     "text": [
      "0\n",
      "1\n",
      "2\n",
      "3\n",
      "4\n",
      "5\n",
      "6\n",
      "7\n",
      "8\n",
      "9\n",
      "10\n"
     ]
    }
   ],
   "source": [
    "count = 0\n",
    "while count <=10: # condicao que deve ser verdadeira\n",
    "    print(count)\n",
    "    count += 1 # incremento para que, a condicao do laco deixe de ser verdadeira,"
   ]
  },
  {
   "cell_type": "code",
   "execution_count": 1,
   "id": "8453d801",
   "metadata": {},
   "outputs": [
    {
     "name": "stdout",
     "output_type": "stream",
     "text": [
      "X menor que 10. X igual a  0\n",
      "X menor que 10. X igual a  1\n",
      "X menor que 10. X igual a  2\n",
      "X menor que 10. X igual a  3\n",
      "X menor que 10. X igual a  4\n",
      "X menor que 10. X igual a  5\n",
      "X menor que 10. X igual a  6\n",
      "X menor que 10. X igual a  7\n",
      "X menor que 10. X igual a  8\n",
      "X menor que 10. X igual a  9\n",
      "Loop concluido\n"
     ]
    }
   ],
   "source": [
    "# Uso da clausula else para sair do while\n",
    "x = 0\n",
    "while x < 10:\n",
    "    print('X menor que 10. X igual a ', x)\n",
    "    x += 1\n",
    "else: \n",
    "    print('Loop concluido')"
   ]
  },
  {
   "cell_type": "code",
   "execution_count": 3,
   "id": "71e4a184",
   "metadata": {},
   "outputs": [
    {
     "name": "stdout",
     "output_type": "stream",
     "text": [
      "1\n",
      "2\n",
      "3\n",
      "4\n"
     ]
    }
   ],
   "source": [
    "# Pass, Break, Continue - mudando o comportamento da repeticao\n",
    "count = 0\n",
    "while count <= 10:\n",
    "    if count == 4:\n",
    "        break # Para a execucao da repeticao\n",
    "    else:\n",
    "        pass # continua a execucao, caso, entre neste bloco\n",
    "        count += 1\n",
    "    print(count)"
   ]
  },
  {
   "cell_type": "code",
   "execution_count": 4,
   "id": "8d45c39a",
   "metadata": {},
   "outputs": [
    {
     "name": "stdout",
     "output_type": "stream",
     "text": [
      "P\n",
      "y\n",
      "h\n",
      "o\n",
      "n\n"
     ]
    }
   ],
   "source": [
    "# Continue - para pular sua execucao de acordo com alguma condicao\n",
    "p = 'Python'\n",
    "for s in p:\n",
    "    if s == 't':\n",
    "        continue\n",
    "    print(s)"
   ]
  },
  {
   "cell_type": "code",
   "execution_count": 7,
   "id": "b1e891c8",
   "metadata": {},
   "outputs": [
    {
     "name": "stdout",
     "output_type": "stream",
     "text": [
      "2 é um número primo.\n",
      "3 é um número primo.\n",
      "5 é um número primo.\n",
      "7 é um número primo.\n"
     ]
    }
   ],
   "source": [
    "# While e For em execucao juntos\n",
    "for i in range(2, 10): # percorrendo um range\n",
    "    j = 2 # inicializando variavel j\n",
    "    count = 0 # inicializando variavel count\n",
    "    while j < i: # enquanto j for menor do que i\n",
    "        if i % j == 0: # verifica se o resto da divisao de i por j dá zero\n",
    "            count = 1 # count recebe valor 1\n",
    "            j += 1 # j recebe ele mesmo mais um\n",
    "        else:\n",
    "            j += 1 # j recebe ele mesmo mais um\n",
    "    if count == 0: # verifica valor da variavel count for igual a 0\n",
    "        print(str(i) + ' é um número primo.') \n",
    "        count = 0 # reinicializa valor de 0 na variavel\n",
    "    else:\n",
    "        count = 0"
   ]
  },
  {
   "cell_type": "code",
   "execution_count": null,
   "id": "683e12e4",
   "metadata": {},
   "outputs": [],
   "source": []
  }
 ],
 "metadata": {
  "kernelspec": {
   "display_name": "Python 3",
   "language": "python",
   "name": "python3"
  },
  "language_info": {
   "codemirror_mode": {
    "name": "ipython",
    "version": 3
   },
   "file_extension": ".py",
   "mimetype": "text/x-python",
   "name": "python",
   "nbconvert_exporter": "python",
   "pygments_lexer": "ipython3",
   "version": "3.8.8"
  }
 },
 "nbformat": 4,
 "nbformat_minor": 5
}
