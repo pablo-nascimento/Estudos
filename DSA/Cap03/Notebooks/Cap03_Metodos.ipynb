{
 "cells": [
  {
   "cell_type": "code",
   "execution_count": 1,
   "id": "1b0e4343",
   "metadata": {},
   "outputs": [],
   "source": [
    "# Curso Python Fundamentos para Analise de Dados - DSA\n",
    "# Metodos - 10.08.2022 - 23h02"
   ]
  },
  {
   "cell_type": "code",
   "execution_count": 2,
   "id": "b06138ce",
   "metadata": {},
   "outputs": [],
   "source": [
    "# Criando uma lista\n",
    "lst = [1, 2, 3, 4, 5]"
   ]
  },
  {
   "cell_type": "code",
   "execution_count": 5,
   "id": "30ddcc79",
   "metadata": {},
   "outputs": [],
   "source": [
    "# Chamando o metodo append - adicionar um elemento\n",
    "lst.append(100)"
   ]
  },
  {
   "cell_type": "code",
   "execution_count": 6,
   "id": "a6672473",
   "metadata": {},
   "outputs": [
    {
     "data": {
      "text/plain": [
       "[1, 2, 3, 4, 5, 100, 100]"
      ]
     },
     "execution_count": 6,
     "metadata": {},
     "output_type": "execute_result"
    }
   ],
   "source": [
    "# Impressao da lista\n",
    "lst"
   ]
  },
  {
   "cell_type": "code",
   "execution_count": 7,
   "id": "0017b602",
   "metadata": {},
   "outputs": [
    {
     "data": {
      "text/plain": [
       "2"
      ]
     },
     "execution_count": 7,
     "metadata": {},
     "output_type": "execute_result"
    }
   ],
   "source": [
    "# Metodo count\n",
    "lst.count(100)"
   ]
  },
  {
   "cell_type": "code",
   "execution_count": 8,
   "id": "63ae6333",
   "metadata": {},
   "outputs": [
    {
     "name": "stdout",
     "output_type": "stream",
     "text": [
      "Help on built-in function count:\n",
      "\n",
      "count(value, /) method of builtins.list instance\n",
      "    Return number of occurrences of value.\n",
      "\n"
     ]
    }
   ],
   "source": [
    "# funcao help - para saber sobre o metodo - informar como parametro\n",
    "help(lst.count)"
   ]
  },
  {
   "cell_type": "code",
   "execution_count": 10,
   "id": "b99201c9",
   "metadata": {},
   "outputs": [
    {
     "data": {
      "text/plain": [
       "['__add__',\n",
       " '__class__',\n",
       " '__contains__',\n",
       " '__delattr__',\n",
       " '__delitem__',\n",
       " '__dir__',\n",
       " '__doc__',\n",
       " '__eq__',\n",
       " '__format__',\n",
       " '__ge__',\n",
       " '__getattribute__',\n",
       " '__getitem__',\n",
       " '__gt__',\n",
       " '__hash__',\n",
       " '__iadd__',\n",
       " '__imul__',\n",
       " '__init__',\n",
       " '__init_subclass__',\n",
       " '__iter__',\n",
       " '__le__',\n",
       " '__len__',\n",
       " '__lt__',\n",
       " '__mul__',\n",
       " '__ne__',\n",
       " '__new__',\n",
       " '__reduce__',\n",
       " '__reduce_ex__',\n",
       " '__repr__',\n",
       " '__reversed__',\n",
       " '__rmul__',\n",
       " '__setattr__',\n",
       " '__setitem__',\n",
       " '__sizeof__',\n",
       " '__str__',\n",
       " '__subclasshook__',\n",
       " 'append',\n",
       " 'clear',\n",
       " 'copy',\n",
       " 'count',\n",
       " 'extend',\n",
       " 'index',\n",
       " 'insert',\n",
       " 'pop',\n",
       " 'remove',\n",
       " 'reverse',\n",
       " 'sort']"
      ]
     },
     "execution_count": 10,
     "metadata": {},
     "output_type": "execute_result"
    }
   ],
   "source": [
    "# Mostra todos os metodos e atributos (_nome_ atributos)\n",
    "dir(lst)"
   ]
  },
  {
   "cell_type": "code",
   "execution_count": 11,
   "id": "dbf25950",
   "metadata": {},
   "outputs": [],
   "source": [
    "# Chamando um metodo dentro de uma funcao\n",
    "a = \"isso e uma string\""
   ]
  },
  {
   "cell_type": "code",
   "execution_count": 12,
   "id": "6cfeae38",
   "metadata": {},
   "outputs": [
    {
     "name": "stdout",
     "output_type": "stream",
     "text": [
      "['isso', 'e', 'uma', 'string']\n"
     ]
    }
   ],
   "source": [
    "# Split - divide a string acima, por padrao\n",
    "print(a.split())"
   ]
  },
  {
   "cell_type": "code",
   "execution_count": null,
   "id": "4474a8bb",
   "metadata": {},
   "outputs": [],
   "source": []
  }
 ],
 "metadata": {
  "kernelspec": {
   "display_name": "Python 3",
   "language": "python",
   "name": "python3"
  },
  "language_info": {
   "codemirror_mode": {
    "name": "ipython",
    "version": 3
   },
   "file_extension": ".py",
   "mimetype": "text/x-python",
   "name": "python",
   "nbconvert_exporter": "python",
   "pygments_lexer": "ipython3",
   "version": "3.8.8"
  }
 },
 "nbformat": 4,
 "nbformat_minor": 5
}
