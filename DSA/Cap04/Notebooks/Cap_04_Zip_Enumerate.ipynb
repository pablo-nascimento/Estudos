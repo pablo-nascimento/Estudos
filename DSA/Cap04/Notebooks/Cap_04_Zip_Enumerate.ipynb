{
 "cells": [
  {
   "cell_type": "code",
   "execution_count": 1,
   "id": "efc72796",
   "metadata": {},
   "outputs": [],
   "source": [
    "# Curso Python Fundamentos para Analise de Dados - DSA\n",
    "# Funcoes Zip e Enumerate - 23.09.2022 - 23h50"
   ]
  },
  {
   "cell_type": "code",
   "execution_count": 3,
   "id": "ede44e43",
   "metadata": {},
   "outputs": [],
   "source": [
    "# zip - une valores de duas sequencias, dando uma tupla como resultado.\n",
    "# zip(sequencia, sequencia)\n",
    "# enumerate - informa o indice de uma sequencia, retornando em uma tupla com a sintaxe\n",
    "# tupla(indice, valor)\n",
    "# enumerate(sequencia)"
   ]
  },
  {
   "cell_type": "code",
   "execution_count": 8,
   "id": "7a90710c",
   "metadata": {},
   "outputs": [
    {
     "data": {
      "text/plain": [
       "[(1, 22), (2, 44), (4, 66)]"
      ]
     },
     "execution_count": 8,
     "metadata": {},
     "output_type": "execute_result"
    }
   ],
   "source": [
    "# Funcao Zip\n",
    "a = [1, 2, 4, 88]\n",
    "b = [22, 44, 66]\n",
    "zip(a, b)\n",
    "list(zip(a, b)) # Convertendo a saida acima para uma lista feita de tuplas."
   ]
  },
  {
   "cell_type": "code",
   "execution_count": 9,
   "id": "9f649b65",
   "metadata": {},
   "outputs": [
    {
     "data": {
      "text/plain": [
       "[('X', 'N'), ('Q', 'B'), ('W', 'F')]"
      ]
     },
     "execution_count": 9,
     "metadata": {},
     "output_type": "execute_result"
    }
   ],
   "source": [
    "# Sequencia com tamanhos diferentes - sempre sera considerado a de menor tamanho\n",
    "list(zip(\"XQWWW\", \"NBF\"))"
   ]
  },
  {
   "cell_type": "code",
   "execution_count": 1,
   "id": "511c5c30",
   "metadata": {},
   "outputs": [],
   "source": [
    "# Funcao zip com dicionarios\n",
    "# Declarando os dicionarios\n",
    "d1 = {\"k1\": \"v1\"}\n",
    "d2 = {\"k2\": \"v2\"}"
   ]
  },
  {
   "cell_type": "code",
   "execution_count": 2,
   "id": "5674bd48",
   "metadata": {},
   "outputs": [
    {
     "data": {
      "text/plain": [
       "[('k1', 'k2')]"
      ]
     },
     "execution_count": 2,
     "metadata": {},
     "output_type": "execute_result"
    }
   ],
   "source": [
    "# Unindo as chaves dos dicionarios\n",
    "list(zip(d1,d2))"
   ]
  },
  {
   "cell_type": "code",
   "execution_count": 3,
   "id": "f27ef293",
   "metadata": {},
   "outputs": [
    {
     "data": {
      "text/plain": [
       "[('v1', 'v2')]"
      ]
     },
     "execution_count": 3,
     "metadata": {},
     "output_type": "execute_result"
    }
   ],
   "source": [
    "# Unindo os valores dos dicionarios\n",
    "list(zip(d1.values(), d2.values()))"
   ]
  },
  {
   "cell_type": "code",
   "execution_count": 4,
   "id": "79a9fd10",
   "metadata": {},
   "outputs": [
    {
     "data": {
      "text/plain": [
       "[('k1', 'v2')]"
      ]
     },
     "execution_count": 4,
     "metadata": {},
     "output_type": "execute_result"
    }
   ],
   "source": [
    "# Unindo as chaves de um dicionario e os valores de outro\n",
    "list(zip(d1, d2.values()))"
   ]
  },
  {
   "cell_type": "code",
   "execution_count": 5,
   "id": "a68bc7a9",
   "metadata": {},
   "outputs": [],
   "source": [
    "# Criando uma função para trocar valores entre 2 dicionários\n",
    "def trocaValores(d1, d2):\n",
    "    dicTemp = {} # Dicionario vazio\n",
    "    \n",
    "    for d1key, d2val in zip(d1,d2.values()): # percorrendo as keys de d1 e os values de d2\n",
    "        dicTemp[d1key] = d2val # adicionando a chave de d1 e o value de d2 ao dicionario vazio\n",
    "    \n",
    "    return dicTemp"
   ]
  },
  {
   "cell_type": "code",
   "execution_count": 6,
   "id": "5d419378",
   "metadata": {},
   "outputs": [
    {
     "data": {
      "text/plain": [
       "{'k1': 'v2'}"
      ]
     },
     "execution_count": 6,
     "metadata": {},
     "output_type": "execute_result"
    }
   ],
   "source": [
    "trocaValores(d1,d2)"
   ]
  },
  {
   "cell_type": "code",
   "execution_count": 7,
   "id": "81ff54d8",
   "metadata": {},
   "outputs": [],
   "source": [
    "# Funcao enumerate - retorna o indice\n",
    "# lista de valores\n",
    "lista = [\"a\", \"b\", \"c\", \"d\"]"
   ]
  },
  {
   "cell_type": "code",
   "execution_count": 9,
   "id": "516cd454",
   "metadata": {},
   "outputs": [
    {
     "data": {
      "text/plain": [
       "[(0, 'a'), (1, 'b'), (2, 'c'), (3, 'd')]"
      ]
     },
     "execution_count": 9,
     "metadata": {},
     "output_type": "execute_result"
    }
   ],
   "source": [
    "# chamando a funcao enumerate\n",
    "# retorna uma tupla, com o par, indice-elemento da sequencia passada como parametro.\n",
    "list(enumerate(lista))"
   ]
  },
  {
   "cell_type": "code",
   "execution_count": 11,
   "id": "d94cc9df",
   "metadata": {},
   "outputs": [
    {
     "name": "stdout",
     "output_type": "stream",
     "text": [
      "0 a\n",
      "1 b\n",
      "2 c\n",
      "3 d\n"
     ]
    }
   ],
   "source": [
    "# Indice e valores gerados pela funcao enumerate\n",
    "for i, value in enumerate(lista):\n",
    "    print(i, value)"
   ]
  },
  {
   "cell_type": "code",
   "execution_count": 12,
   "id": "45226e38",
   "metadata": {},
   "outputs": [
    {
     "name": "stdout",
     "output_type": "stream",
     "text": [
      "0 a\n",
      "1 b\n"
     ]
    }
   ],
   "source": [
    "# Usando o indice para filtrar os valores\n",
    "for i, value in enumerate(lista):\n",
    "    if i >= 2:\n",
    "        break\n",
    "    else:\n",
    "        print(i, value)"
   ]
  },
  {
   "cell_type": "code",
   "execution_count": 13,
   "id": "f1c3f1a6",
   "metadata": {},
   "outputs": [],
   "source": [
    "lista = [\"Machine Learning\", \"Estatística\", \"Inteligencia Artificial\", \"Deep Learning\"]"
   ]
  },
  {
   "cell_type": "code",
   "execution_count": 14,
   "id": "717edb93",
   "metadata": {},
   "outputs": [
    {
     "data": {
      "text/plain": [
       "[(0, 'Machine Learning'),\n",
       " (1, 'Estatística'),\n",
       " (2, 'Inteligencia Artificial'),\n",
       " (3, 'Deep Learning')]"
      ]
     },
     "execution_count": 14,
     "metadata": {},
     "output_type": "execute_result"
    }
   ],
   "source": [
    "list(enumerate(lista))"
   ]
  },
  {
   "cell_type": "code",
   "execution_count": 18,
   "id": "b2f96379",
   "metadata": {},
   "outputs": [
    {
     "name": "stdout",
     "output_type": "stream",
     "text": [
      "0 Machine Learning\n",
      "1 Estatística\n",
      "2 Inteligencia Artificial\n",
      "3 Deep Learning\n"
     ]
    }
   ],
   "source": [
    "# Dando a saida da funcao enumerate na sequencia lista, na tela.\n",
    "for i, value in enumerate(lista):\n",
    "    print(i, value)"
   ]
  },
  {
   "cell_type": "code",
   "execution_count": 19,
   "id": "37457f4a",
   "metadata": {},
   "outputs": [
    {
     "name": "stdout",
     "output_type": "stream",
     "text": [
      "0 P\n",
      "1 y\n",
      "2 t\n",
      "3 h\n",
      "4 o\n",
      "5 n\n",
      "6  \n",
      "7 é\n",
      "8  \n",
      "9 m\n",
      "10 u\n",
      "11 i\n",
      "12 t\n",
      "13 o\n",
      "14  \n",
      "15 b\n",
      "16 o\n",
      "17 m\n",
      "18  \n",
      "19 d\n",
      "20 e\n",
      "21  \n",
      "22 s\n",
      "23 e\n",
      "24  \n",
      "25 e\n",
      "26 s\n",
      "27 t\n",
      "28 u\n",
      "29 d\n",
      "30 a\n",
      "31 r\n",
      "32 .\n"
     ]
    }
   ],
   "source": [
    "# Sequencia pode ser uma string\n",
    "for i, s in enumerate(\"Python é muito bom de se estudar.\"):\n",
    "    print(i, s)"
   ]
  },
  {
   "cell_type": "code",
   "execution_count": 20,
   "id": "876267ac",
   "metadata": {},
   "outputs": [
    {
     "name": "stdout",
     "output_type": "stream",
     "text": [
      "0 1\n",
      "1 2\n",
      "2 3\n",
      "3 4\n",
      "4 5\n",
      "5 6\n",
      "6 7\n",
      "7 8\n",
      "8 9\n",
      "9 10\n"
     ]
    }
   ],
   "source": [
    "# Sequencia pode ser um range de elementos\n",
    "for i, n in enumerate(range(1, 11)):\n",
    "    print(i, n)"
   ]
  },
  {
   "cell_type": "code",
   "execution_count": null,
   "id": "893b3af8",
   "metadata": {},
   "outputs": [],
   "source": []
  }
 ],
 "metadata": {
  "kernelspec": {
   "display_name": "Python 3",
   "language": "python",
   "name": "python3"
  },
  "language_info": {
   "codemirror_mode": {
    "name": "ipython",
    "version": 3
   },
   "file_extension": ".py",
   "mimetype": "text/x-python",
   "name": "python",
   "nbconvert_exporter": "python",
   "pygments_lexer": "ipython3",
   "version": "3.8.8"
  }
 },
 "nbformat": 4,
 "nbformat_minor": 5
}
