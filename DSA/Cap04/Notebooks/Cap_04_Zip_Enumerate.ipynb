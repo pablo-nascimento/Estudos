{
 "cells": [
  {
   "cell_type": "code",
   "execution_count": 1,
   "id": "5727d5a8",
   "metadata": {},
   "outputs": [],
   "source": [
    "# Curso Python Fundamentos para Analise de Dados - DSA\n",
    "# Funcoes Zip e Enumerate - 23.09.2022 - 23h50"
   ]
  },
  {
   "cell_type": "code",
   "execution_count": 3,
   "id": "e1ac5c74",
   "metadata": {},
   "outputs": [],
   "source": [
    "# zip - une valores de duas sequencias, dando uma tupla como resultado.\n",
    "# zip(sequencia, sequencia)\n",
    "# enumerate - informa o indice de uma sequencia, retornando em uma tupla com a sintaxe\n",
    "# tupla(indice, valor)\n",
    "# enumerate(sequencia)"
   ]
  },
  {
   "cell_type": "code",
   "execution_count": 8,
   "id": "d9a0d5e2",
   "metadata": {},
   "outputs": [
    {
     "data": {
      "text/plain": [
       "[(1, 22), (2, 44), (4, 66)]"
      ]
     },
     "execution_count": 8,
     "metadata": {},
     "output_type": "execute_result"
    }
   ],
   "source": [
    "# Funcao Zip\n",
    "a = [1, 2, 4, 88]\n",
    "b = [22, 44, 66]\n",
    "zip(a, b)\n",
    "list(zip(a, b)) # Convertendo a saida acima para uma lista feita de tuplas."
   ]
  },
  {
   "cell_type": "code",
   "execution_count": 9,
   "id": "780e86ec",
   "metadata": {},
   "outputs": [
    {
     "data": {
      "text/plain": [
       "[('X', 'N'), ('Q', 'B'), ('W', 'F')]"
      ]
     },
     "execution_count": 9,
     "metadata": {},
     "output_type": "execute_result"
    }
   ],
   "source": [
    "# Sequencia com tamanhos diferentes - sempre sera considerado a de menor tamanho\n",
    "list(zip(\"XQWWW\", \"NBF\"))"
   ]
  },
  {
   "cell_type": "code",
   "execution_count": null,
   "id": "dff13452",
   "metadata": {},
   "outputs": [],
   "source": [
    "# Funcao zip com dicionarios\n"
   ]
  }
 ],
 "metadata": {
  "kernelspec": {
   "display_name": "Python 3",
   "language": "python",
   "name": "python3"
  },
  "language_info": {
   "codemirror_mode": {
    "name": "ipython",
    "version": 3
   },
   "file_extension": ".py",
   "mimetype": "text/x-python",
   "name": "python",
   "nbconvert_exporter": "python",
   "pygments_lexer": "ipython3",
   "version": "3.8.8"
  }
 },
 "nbformat": 4,
 "nbformat_minor": 5
}
