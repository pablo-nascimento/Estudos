{
 "cells": [
  {
   "cell_type": "code",
   "execution_count": 1,
   "id": "efc72796",
   "metadata": {},
   "outputs": [],
   "source": [
    "# Curso Python Fundamentos para Analise de Dados - DSA\n",
    "# Funcoes Zip e Enumerate - 23.09.2022 - 23h50"
   ]
  },
  {
   "cell_type": "code",
   "execution_count": 3,
   "id": "ede44e43",
   "metadata": {},
   "outputs": [],
   "source": [
    "# zip - une valores de duas sequencias, dando uma tupla como resultado.\n",
    "# zip(sequencia, sequencia)\n",
    "# enumerate - informa o indice de uma sequencia, retornando em uma tupla com a sintaxe\n",
    "# tupla(indice, valor)\n",
    "# enumerate(sequencia)"
   ]
  },
  {
   "cell_type": "code",
   "execution_count": 8,
   "id": "7a90710c",
   "metadata": {},
   "outputs": [
    {
     "data": {
      "text/plain": [
       "[(1, 22), (2, 44), (4, 66)]"
      ]
     },
     "execution_count": 8,
     "metadata": {},
     "output_type": "execute_result"
    }
   ],
   "source": [
    "# Funcao Zip\n",
    "a = [1, 2, 4, 88]\n",
    "b = [22, 44, 66]\n",
    "zip(a, b)\n",
    "list(zip(a, b)) # Convertendo a saida acima para uma lista feita de tuplas."
   ]
  },
  {
   "cell_type": "code",
   "execution_count": 9,
   "id": "9f649b65",
   "metadata": {},
   "outputs": [
    {
     "data": {
      "text/plain": [
       "[('X', 'N'), ('Q', 'B'), ('W', 'F')]"
      ]
     },
     "execution_count": 9,
     "metadata": {},
     "output_type": "execute_result"
    }
   ],
   "source": [
    "# Sequencia com tamanhos diferentes - sempre sera considerado a de menor tamanho\n",
    "list(zip(\"XQWWW\", \"NBF\"))"
   ]
  },
  {
   "cell_type": "code",
   "execution_count": 1,
   "id": "511c5c30",
   "metadata": {},
   "outputs": [],
   "source": [
    "# Funcao zip com dicionarios\n",
    "# Declarando os dicionarios\n",
    "d1 = {\"k1\": \"v1\"}\n",
    "d2 = {\"k2\": \"v2\"}"
   ]
  },
  {
   "cell_type": "code",
   "execution_count": 2,
   "id": "0121b11f",
   "metadata": {},
   "outputs": [
    {
     "data": {
      "text/plain": [
       "[('k1', 'k2')]"
      ]
     },
     "execution_count": 2,
     "metadata": {},
     "output_type": "execute_result"
    }
   ],
   "source": [
    "# Unindo as chaves dos dicionarios\n",
    "list(zip(d1,d2))"
   ]
  },
  {
   "cell_type": "code",
   "execution_count": 3,
   "id": "ef777355",
   "metadata": {},
   "outputs": [
    {
     "data": {
      "text/plain": [
       "[('v1', 'v2')]"
      ]
     },
     "execution_count": 3,
     "metadata": {},
     "output_type": "execute_result"
    }
   ],
   "source": [
    "# Unindo os valores dos dicionarios\n",
    "list(zip(d1.values(), d2.values()))"
   ]
  },
  {
   "cell_type": "code",
   "execution_count": 4,
   "id": "1fbac946",
   "metadata": {},
   "outputs": [
    {
     "data": {
      "text/plain": [
       "[('k1', 'v2')]"
      ]
     },
     "execution_count": 4,
     "metadata": {},
     "output_type": "execute_result"
    }
   ],
   "source": [
    "# Unindo as chaves de um dicionario e os valores de outro\n",
    "list(zip(d1, d2.values()))"
   ]
  },
  {
   "cell_type": "code",
   "execution_count": 5,
   "id": "93d16c91",
   "metadata": {},
   "outputs": [],
   "source": [
    "# Criando uma função para trocar valores entre 2 dicionários\n",
    "def trocaValores(d1, d2):\n",
    "    dicTemp = {} # Dicionario vazio\n",
    "    \n",
    "    for d1key, d2val in zip(d1,d2.values()): # percorrendo as keys de d1 e os values de d2\n",
    "        dicTemp[d1key] = d2val # adicionando a chave de d1 e o value de d2 ao dicionario vazio\n",
    "    \n",
    "    return dicTemp"
   ]
  },
  {
   "cell_type": "code",
   "execution_count": 6,
   "id": "179d2637",
   "metadata": {},
   "outputs": [
    {
     "data": {
      "text/plain": [
       "{'k1': 'v2'}"
      ]
     },
     "execution_count": 6,
     "metadata": {},
     "output_type": "execute_result"
    }
   ],
   "source": [
    "trocaValores(d1,d2)"
   ]
  },
  {
   "cell_type": "code",
   "execution_count": null,
   "id": "83e5ba6b",
   "metadata": {},
   "outputs": [],
   "source": []
  }
 ],
 "metadata": {
  "kernelspec": {
   "display_name": "Python 3",
   "language": "python",
   "name": "python3"
  },
  "language_info": {
   "codemirror_mode": {
    "name": "ipython",
    "version": 3
   },
   "file_extension": ".py",
   "mimetype": "text/x-python",
   "name": "python",
   "nbconvert_exporter": "python",
   "pygments_lexer": "ipython3",
   "version": "3.8.8"
  }
 },
 "nbformat": 4,
 "nbformat_minor": 5
}
