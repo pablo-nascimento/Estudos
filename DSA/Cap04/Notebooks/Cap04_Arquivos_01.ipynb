{
 "cells": [
  {
   "cell_type": "code",
   "execution_count": 1,
   "id": "a10bcef0",
   "metadata": {},
   "outputs": [],
   "source": [
    "# Curso Python Fundamentos para Analise de Dados - DSA\n",
    "# Manipulando arquivos - 05.09.2022 - 22h03"
   ]
  },
  {
   "cell_type": "code",
   "execution_count": 4,
   "id": "a0ba1ec3",
   "metadata": {},
   "outputs": [],
   "source": [
    "# Abrindo o arquivo\n",
    "# funcao open - abre o arquivo, recebendo como parametro o caminho do arquivo a ser aberto\"\n",
    "# r - \n",
    "arq1 = open(\"arquivos/arquivo.txt\", \"r\")"
   ]
  },
  {
   "cell_type": "code",
   "execution_count": 5,
   "id": "b3eb971b",
   "metadata": {},
   "outputs": [
    {
     "name": "stdout",
     "output_type": "stream",
     "text": [
      "Python é uma linguagem poderosa!\n"
     ]
    }
   ],
   "source": [
    "# Lendo o arquivo\n",
    "print(arq1.read())"
   ]
  },
  {
   "cell_type": "code",
   "execution_count": 6,
   "id": "73610e05",
   "metadata": {},
   "outputs": [
    {
     "data": {
      "text/plain": [
       "33"
      ]
     },
     "execution_count": 6,
     "metadata": {},
     "output_type": "execute_result"
    }
   ],
   "source": [
    "# Metodo tell - contar\n",
    "arq1.tell()"
   ]
  },
  {
   "cell_type": "code",
   "execution_count": 32,
   "id": "f25d6321",
   "metadata": {},
   "outputs": [
    {
     "name": "stdout",
     "output_type": "stream",
     "text": [
      "0\n"
     ]
    }
   ],
   "source": [
    "# metodo seek - retornar para um ponto especifico do arquivo\n",
    "print(arq1.seek(0,0))"
   ]
  },
  {
   "cell_type": "code",
   "execution_count": 31,
   "id": "b346b5e6",
   "metadata": {},
   "outputs": [
    {
     "name": "stdout",
     "output_type": "stream",
     "text": [
      "em poderos\n"
     ]
    }
   ],
   "source": [
    "# Lendo os 10 primeiros caracteres a partir de onde estiver o cursor\n",
    "print(arq1.read(10))"
   ]
  },
  {
   "cell_type": "code",
   "execution_count": 35,
   "id": "15f95920",
   "metadata": {},
   "outputs": [],
   "source": [
    "# Gravando Arquivos\n",
    "arq2 = open(\"arquivos/arquivo.txt\", \"w\") # Abrindo para escrita\n",
    "\n"
   ]
  },
  {
   "cell_type": "code",
   "execution_count": 36,
   "id": "f6fd1c6f",
   "metadata": {},
   "outputs": [
    {
     "data": {
      "text/plain": [
       "43"
      ]
     },
     "execution_count": 36,
     "metadata": {},
     "output_type": "execute_result"
    }
   ],
   "source": [
    "# Gravando dados no arquivo aberto acima\n",
    "arq2.write(\"Estudando Python as 22h20 morrendo de sono.\")"
   ]
  },
  {
   "cell_type": "code",
   "execution_count": 37,
   "id": "8a4f3043",
   "metadata": {},
   "outputs": [],
   "source": [
    "# Fechando o arquivo apos o uso\n",
    "arq2.close()"
   ]
  },
  {
   "cell_type": "code",
   "execution_count": 38,
   "id": "65249101",
   "metadata": {},
   "outputs": [],
   "source": [
    "# Abrindo no modo leitura\n",
    "arq2 = open(\"arquivos/arquivo.txt\", \"r\")"
   ]
  },
  {
   "cell_type": "code",
   "execution_count": 39,
   "id": "0f97c87e",
   "metadata": {},
   "outputs": [
    {
     "name": "stdout",
     "output_type": "stream",
     "text": [
      "Estudando Python as 22h20 morrendo de sono.\n"
     ]
    }
   ],
   "source": [
    "# Nova leitura do arquivo, constatando que este foi sobreescrito.\n",
    "print(arq2.read())"
   ]
  },
  {
   "cell_type": "code",
   "execution_count": 40,
   "id": "9c1bfcd6",
   "metadata": {},
   "outputs": [],
   "source": [
    "# Trabalhando no modo append - para nao sobreescrever, e sim adicionar\n",
    "arq2 = open(\"arquivos/arquivo.txt\", \"a\")"
   ]
  },
  {
   "cell_type": "code",
   "execution_count": 41,
   "id": "cc68b6b2",
   "metadata": {},
   "outputs": [
    {
     "data": {
      "text/plain": [
       "31"
      ]
     },
     "execution_count": 41,
     "metadata": {},
     "output_type": "execute_result"
    }
   ],
   "source": [
    "# Gravando novos dados.\n",
    "arq2.write(\"Adicionando mais coisas assim. \")"
   ]
  },
  {
   "cell_type": "code",
   "execution_count": 42,
   "id": "049c8ab8",
   "metadata": {},
   "outputs": [],
   "source": [
    "# Fechando o arquivo\n",
    "arq2.close()"
   ]
  },
  {
   "cell_type": "code",
   "execution_count": 43,
   "id": "b9310b5a",
   "metadata": {},
   "outputs": [],
   "source": [
    "# Abrindo a conexao com o arquivo para leitura.\n",
    "arq2 = open(\"arquivos/arquivo.txt\", \"r\")"
   ]
  },
  {
   "cell_type": "code",
   "execution_count": 44,
   "id": "08d206b2",
   "metadata": {},
   "outputs": [
    {
     "name": "stdout",
     "output_type": "stream",
     "text": [
      "Estudando Python as 22h20 morrendo de sono.Adicionando mais coisas assim. \n"
     ]
    }
   ],
   "source": [
    "print(arq2.read())"
   ]
  },
  {
   "cell_type": "code",
   "execution_count": null,
   "id": "5bee6c9b",
   "metadata": {},
   "outputs": [],
   "source": []
  }
 ],
 "metadata": {
  "kernelspec": {
   "display_name": "Python 3",
   "language": "python",
   "name": "python3"
  },
  "language_info": {
   "codemirror_mode": {
    "name": "ipython",
    "version": 3
   },
   "file_extension": ".py",
   "mimetype": "text/x-python",
   "name": "python",
   "nbconvert_exporter": "python",
   "pygments_lexer": "ipython3",
   "version": "3.8.8"
  }
 },
 "nbformat": 4,
 "nbformat_minor": 5
}
