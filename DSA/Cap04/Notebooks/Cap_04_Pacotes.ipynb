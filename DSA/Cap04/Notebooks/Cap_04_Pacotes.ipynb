{
 "cells": [
  {
   "cell_type": "code",
   "execution_count": 1,
   "id": "7514dd73",
   "metadata": {},
   "outputs": [],
   "source": [
    "# Curso Python Fundamentos para Analise de Dados - DSA\n",
    "# Pacotes - 19.09.2022 - 22h35"
   ]
  },
  {
   "cell_type": "code",
   "execution_count": 2,
   "id": "401d0ab7",
   "metadata": {},
   "outputs": [],
   "source": [
    "# Importando o pacote\n",
    "import datetime"
   ]
  },
  {
   "cell_type": "code",
   "execution_count": 3,
   "id": "2a8136cc",
   "metadata": {},
   "outputs": [],
   "source": [
    "# Buscando data especifica\n",
    "now = datetime.datetime.now()"
   ]
  },
  {
   "cell_type": "code",
   "execution_count": 4,
   "id": "b178fb4e",
   "metadata": {},
   "outputs": [
    {
     "name": "stdout",
     "output_type": "stream",
     "text": [
      "2022-09-19 22:36:44.279186\n"
     ]
    }
   ],
   "source": [
    "print(now)"
   ]
  },
  {
   "cell_type": "code",
   "execution_count": 12,
   "id": "9afb7db8",
   "metadata": {},
   "outputs": [],
   "source": [
    "# Criando a propria data\n",
    "t = datetime.time(23, 15, 6)"
   ]
  },
  {
   "cell_type": "code",
   "execution_count": 13,
   "id": "d71631c2",
   "metadata": {},
   "outputs": [
    {
     "name": "stdout",
     "output_type": "stream",
     "text": [
      "23:15:06\n"
     ]
    }
   ],
   "source": [
    "print(t)"
   ]
  },
  {
   "cell_type": "code",
   "execution_count": 14,
   "id": "33cad29d",
   "metadata": {},
   "outputs": [
    {
     "name": "stdout",
     "output_type": "stream",
     "text": [
      "Hora:  23\n",
      "Minuto:  15\n",
      "Segundo:  6\n"
     ]
    }
   ],
   "source": [
    "# Retornando cada um dos valores a partir do objeto acima criado\n",
    "print('Hora: ', t.hour)\n",
    "print('Minuto: ', t.minute)\n",
    "print('Segundo: ', t.second)"
   ]
  },
  {
   "cell_type": "code",
   "execution_count": 15,
   "id": "23761adc",
   "metadata": {},
   "outputs": [],
   "source": [
    "# Gravando a data atual\n",
    "hoje = datetime.date.today()"
   ]
  },
  {
   "cell_type": "code",
   "execution_count": 21,
   "id": "2596e46c",
   "metadata": {},
   "outputs": [
    {
     "name": "stdout",
     "output_type": "stream",
     "text": [
      "hoje:  Mon Sep 19 00:00:00 2022\n",
      "Ano:  2022\n",
      "Mes:  9\n",
      "Dia:  19\n"
     ]
    }
   ],
   "source": [
    "# Extraindo cada pedaco da data completa\n",
    "print('hoje: ', hoje.ctime()) # data completa\n",
    "print('Ano: ', hoje.year)\n",
    "print('Mes: ', hoje.month)\n",
    "print('Dia: ', hoje.day)"
   ]
  },
  {
   "cell_type": "code",
   "execution_count": 22,
   "id": "3b84b8fe",
   "metadata": {},
   "outputs": [],
   "source": [
    "# Operacoes com datas\n",
    "d1 = datetime.date(1991, 8, 14)"
   ]
  },
  {
   "cell_type": "code",
   "execution_count": 24,
   "id": "cd9daa13",
   "metadata": {},
   "outputs": [],
   "source": [
    "# funcao replace - para substituir valores\n",
    "d2 = d1.replace(year = 2022)"
   ]
  },
  {
   "cell_type": "code",
   "execution_count": 25,
   "id": "26f2cc10",
   "metadata": {},
   "outputs": [
    {
     "data": {
      "text/plain": [
       "datetime.timedelta(days=11323)"
      ]
     },
     "execution_count": 25,
     "metadata": {},
     "output_type": "execute_result"
    }
   ],
   "source": [
    "# Operacoes com datas\n",
    "d2 - d1"
   ]
  },
  {
   "cell_type": "code",
   "execution_count": null,
   "id": "4683b4f4",
   "metadata": {},
   "outputs": [],
   "source": []
  }
 ],
 "metadata": {
  "kernelspec": {
   "display_name": "Python 3",
   "language": "python",
   "name": "python3"
  },
  "language_info": {
   "codemirror_mode": {
    "name": "ipython",
    "version": 3
   },
   "file_extension": ".py",
   "mimetype": "text/x-python",
   "name": "python",
   "nbconvert_exporter": "python",
   "pygments_lexer": "ipython3",
   "version": "3.8.8"
  }
 },
 "nbformat": 4,
 "nbformat_minor": 5
}
