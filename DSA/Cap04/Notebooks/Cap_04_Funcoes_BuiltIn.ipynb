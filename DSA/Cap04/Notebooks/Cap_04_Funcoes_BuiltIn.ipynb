{
 "cells": [
  {
   "cell_type": "code",
   "execution_count": 1,
   "id": "f54c74f5",
   "metadata": {},
   "outputs": [],
   "source": [
    "# Curso Python Fundamentos para Analise de Dados - DSA\n",
    "# Funcoes Built_In - 19.09.2022 - 22h48"
   ]
  },
  {
   "cell_type": "code",
   "execution_count": null,
   "id": "022c11e8",
   "metadata": {},
   "outputs": [],
   "source": [
    "# Funcao map - recebe dois parametros (funcao, sequencia)\n",
    "# Aplica a funcao que recebeu a cada um dos itens de algum objeto que seja iteravel\n",
    "# Retorna uma lista com os resultaos obtidos.\n"
   ]
  },
  {
   "cell_type": "code",
   "execution_count": 2,
   "id": "4fe0b1b7",
   "metadata": {},
   "outputs": [],
   "source": [
    "# Função 1 - Recebe uma temperatura como parâmetro e retorna a temperatura em Fahrenheit\n",
    "def fahrenheit(T):\n",
    "    return ((float(9)/5)*T + 32)\n",
    "\n",
    "# Função 2 - Recebe uma temperatura como parâmetro e retorna a temperatura em Celsius\n",
    "def celsius(T):\n",
    "    return (float(5)/9)*(T-32)"
   ]
  },
  {
   "cell_type": "code",
   "execution_count": 3,
   "id": "bc090e11",
   "metadata": {},
   "outputs": [],
   "source": [
    "# Lista\n",
    "temp = [32, 45, 12, 56, 25]"
   ]
  },
  {
   "cell_type": "code",
   "execution_count": 6,
   "id": "d0fb8cf3",
   "metadata": {},
   "outputs": [
    {
     "data": {
      "text/plain": [
       "[89.6, 113.0, 53.6, 132.8, 77.0]"
      ]
     },
     "execution_count": 6,
     "metadata": {},
     "output_type": "execute_result"
    }
   ],
   "source": [
    "# Aplicando a funcao map\n",
    "# Deve-se converter o resultado da funcao para uma lista pelo fato da funcao map\n",
    "# retornar um iterator\n",
    "list(map(fahrenheit, temp))"
   ]
  },
  {
   "cell_type": "code",
   "execution_count": 8,
   "id": "32afb1ae",
   "metadata": {},
   "outputs": [
    {
     "name": "stdout",
     "output_type": "stream",
     "text": [
      "89.6\n",
      "113.0\n",
      "53.6\n",
      "132.8\n",
      "77.0\n"
     ]
    }
   ],
   "source": [
    "# Looping for para imprimir o retorno da funcao map\n",
    "for t in map(fahrenheit, temp):\n",
    "    print(t)"
   ]
  },
  {
   "cell_type": "code",
   "execution_count": 13,
   "id": "e7c90986",
   "metadata": {},
   "outputs": [
    {
     "data": {
      "text/plain": [
       "[115.2, 138.6, 79.2, 158.4, 102.60000000000001]"
      ]
     },
     "execution_count": 13,
     "metadata": {},
     "output_type": "execute_result"
    }
   ],
   "source": [
    "# Realizando a mesma operacao acima, com uma funcao lambda\n",
    "list(map(lambda x: (9/5)*(x + 32), temp))"
   ]
  },
  {
   "cell_type": "code",
   "execution_count": 14,
   "id": "2cb5c122",
   "metadata": {},
   "outputs": [],
   "source": [
    "# Somando os elementos de duas listas\n",
    "a = [1, 2, 3, 4, 5]\n",
    "b = [6, 7, 8, 9, 10]"
   ]
  },
  {
   "cell_type": "code",
   "execution_count": 17,
   "id": "799668f8",
   "metadata": {},
   "outputs": [
    {
     "data": {
      "text/plain": [
       "[7, 9, 11, 13, 15]"
      ]
     },
     "execution_count": 17,
     "metadata": {},
     "output_type": "execute_result"
    }
   ],
   "source": [
    "# Somando duas listas com uma expressao lambda\n",
    "list(map(lambda x, y: x + y, a, b))"
   ]
  },
  {
   "cell_type": "code",
   "execution_count": 18,
   "id": "e6bf639a",
   "metadata": {},
   "outputs": [],
   "source": [
    "# Somando os elementos de 3 listas\n",
    "c = [1, 2, 3]\n",
    "d = [4, 5, 6]\n",
    "e = [7, 8, 9]"
   ]
  },
  {
   "cell_type": "code",
   "execution_count": 26,
   "id": "8e10c4b0",
   "metadata": {},
   "outputs": [
    {
     "data": {
      "text/plain": [
       "[12, 15, 18]"
      ]
     },
     "execution_count": 26,
     "metadata": {},
     "output_type": "execute_result"
    }
   ],
   "source": [
    "# expressao lambda\n",
    "list(map(lambda x, y, z: x + y + z, c, d, e))"
   ]
  },
  {
   "cell_type": "code",
   "execution_count": null,
   "id": "faaaaecd",
   "metadata": {},
   "outputs": [],
   "source": []
  }
 ],
 "metadata": {
  "kernelspec": {
   "display_name": "Python 3",
   "language": "python",
   "name": "python3"
  },
  "language_info": {
   "codemirror_mode": {
    "name": "ipython",
    "version": 3
   },
   "file_extension": ".py",
   "mimetype": "text/x-python",
   "name": "python",
   "nbconvert_exporter": "python",
   "pygments_lexer": "ipython3",
   "version": "3.8.8"
  }
 },
 "nbformat": 4,
 "nbformat_minor": 5
}
