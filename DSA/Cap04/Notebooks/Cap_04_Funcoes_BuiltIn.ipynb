{
 "cells": [
  {
   "cell_type": "code",
   "execution_count": 1,
   "id": "24926f4d",
   "metadata": {},
   "outputs": [],
   "source": [
    "# Curso Python Fundamentos para Analise de Dados - DSA\n",
    "# Funcoes Built_In - 19.09.2022 - 22h48"
   ]
  },
  {
   "cell_type": "code",
   "execution_count": null,
   "id": "488cbfc2",
   "metadata": {},
   "outputs": [],
   "source": [
    "# Funcao map - recebe dois parametros (funcao, sequencia)\n",
    "# Aplica a funcao que recebeu a cada um dos itens de algum objeto que seja iteravel\n",
    "# Retorna uma lista com os resultaos obtidos.\n"
   ]
  },
  {
   "cell_type": "code",
   "execution_count": 2,
   "id": "b5b4b5b1",
   "metadata": {},
   "outputs": [],
   "source": [
    "# Função 1 - Recebe uma temperatura como parâmetro e retorna a temperatura em Fahrenheit\n",
    "def fahrenheit(T):\n",
    "    return ((float(9)/5)*T + 32)\n",
    "\n",
    "# Função 2 - Recebe uma temperatura como parâmetro e retorna a temperatura em Celsius\n",
    "def celsius(T):\n",
    "    return (float(5)/9)*(T-32)"
   ]
  },
  {
   "cell_type": "code",
   "execution_count": 3,
   "id": "e01fb61c",
   "metadata": {},
   "outputs": [],
   "source": [
    "# Lista\n",
    "temp = [32, 45, 12, 56, 25]"
   ]
  },
  {
   "cell_type": "code",
   "execution_count": 6,
   "id": "c1c8515e",
   "metadata": {},
   "outputs": [
    {
     "data": {
      "text/plain": [
       "[89.6, 113.0, 53.6, 132.8, 77.0]"
      ]
     },
     "execution_count": 6,
     "metadata": {},
     "output_type": "execute_result"
    }
   ],
   "source": [
    "# Aplicando a funcao map\n",
    "# Deve-se converter o resultado da funcao para uma lista pelo fato da funcao map\n",
    "# retornar um iterator\n",
    "list(map(fahrenheit, temp))"
   ]
  },
  {
   "cell_type": "code",
   "execution_count": 8,
   "id": "a0a63ed7",
   "metadata": {},
   "outputs": [
    {
     "name": "stdout",
     "output_type": "stream",
     "text": [
      "89.6\n",
      "113.0\n",
      "53.6\n",
      "132.8\n",
      "77.0\n"
     ]
    }
   ],
   "source": [
    "# Looping for para imprimir o retorno da funcao map\n",
    "for t in map(fahrenheit, temp):\n",
    "    print(t)"
   ]
  },
  {
   "cell_type": "code",
   "execution_count": 13,
   "id": "f3e00c09",
   "metadata": {},
   "outputs": [
    {
     "data": {
      "text/plain": [
       "[115.2, 138.6, 79.2, 158.4, 102.60000000000001]"
      ]
     },
     "execution_count": 13,
     "metadata": {},
     "output_type": "execute_result"
    }
   ],
   "source": [
    "# Realizando a mesma operacao acima, com uma funcao lambda\n",
    "list(map(lambda x: (9/5)*(x + 32), temp))"
   ]
  },
  {
   "cell_type": "code",
   "execution_count": 14,
   "id": "90804efd",
   "metadata": {},
   "outputs": [],
   "source": [
    "# Somando os elementos de duas listas\n",
    "a = [1, 2, 3, 4, 5]\n",
    "b = [6, 7, 8, 9, 10]"
   ]
  },
  {
   "cell_type": "code",
   "execution_count": 17,
   "id": "743a7052",
   "metadata": {},
   "outputs": [
    {
     "data": {
      "text/plain": [
       "[7, 9, 11, 13, 15]"
      ]
     },
     "execution_count": 17,
     "metadata": {},
     "output_type": "execute_result"
    }
   ],
   "source": [
    "# Somando duas listas com uma expressao lambda\n",
    "list(map(lambda x, y: x + y, a, b))"
   ]
  },
  {
   "cell_type": "code",
   "execution_count": 18,
   "id": "51d92666",
   "metadata": {},
   "outputs": [],
   "source": [
    "# Somando os elementos de 3 listas\n",
    "c = [1, 2, 3]\n",
    "d = [4, 5, 6]\n",
    "e = [7, 8, 9]"
   ]
  },
  {
   "cell_type": "code",
   "execution_count": 26,
   "id": "fb9ea8ef",
   "metadata": {},
   "outputs": [
    {
     "data": {
      "text/plain": [
       "[12, 15, 18]"
      ]
     },
     "execution_count": 26,
     "metadata": {},
     "output_type": "execute_result"
    }
   ],
   "source": [
    "# expressao lambda\n",
    "list(map(lambda x, y, z: x + y + z, c, d, e))"
   ]
  },
  {
   "cell_type": "code",
   "execution_count": 27,
   "id": "6594f63e",
   "metadata": {},
   "outputs": [],
   "source": [
    "# Reduce (funcao, sequencia - lista)\n",
    "# Aplica a funcao a sequencia, até que reste um elemento.\n"
   ]
  },
  {
   "cell_type": "code",
   "execution_count": 28,
   "id": "ac72e4c1",
   "metadata": {},
   "outputs": [],
   "source": [
    "# Para uso da funcao reduce\n",
    "from functools import reduce"
   ]
  },
  {
   "cell_type": "code",
   "execution_count": 29,
   "id": "3f56fac0",
   "metadata": {},
   "outputs": [],
   "source": [
    "lista = [32, 668, 12, 534]"
   ]
  },
  {
   "cell_type": "code",
   "execution_count": 30,
   "id": "8f621c4b",
   "metadata": {},
   "outputs": [],
   "source": [
    "# criando funcao simples\n",
    "def soma(a, b):\n",
    "    x = a + b\n",
    "    return x"
   ]
  },
  {
   "cell_type": "code",
   "execution_count": 32,
   "id": "c4e8ce27",
   "metadata": {},
   "outputs": [
    {
     "data": {
      "text/plain": [
       "1246"
      ]
     },
     "execution_count": 32,
     "metadata": {},
     "output_type": "execute_result"
    }
   ],
   "source": [
    "# Uso da funcao reduce\n",
    "reduce(soma, lista)"
   ]
  },
  {
   "cell_type": "code",
   "execution_count": 34,
   "id": "55804faf",
   "metadata": {},
   "outputs": [
    {
     "data": {
      "text/plain": [
       "1246"
      ]
     },
     "execution_count": 34,
     "metadata": {},
     "output_type": "execute_result"
    }
   ],
   "source": [
    "# Realizando a operacao de soma com uma funcao lambda\n",
    "reduce(lambda x, y: x + y, lista)"
   ]
  },
  {
   "cell_type": "code",
   "execution_count": 35,
   "id": "a407b753",
   "metadata": {},
   "outputs": [],
   "source": [
    "# Atribuir a funcao lambda a uma variavel - retorna a se a > b, senao, retorna b.\n",
    "max_find_2 = lambda a, b: a if (a > b) else b"
   ]
  },
  {
   "cell_type": "code",
   "execution_count": 36,
   "id": "383d221b",
   "metadata": {},
   "outputs": [
    {
     "name": "stdout",
     "output_type": "stream",
     "text": [
      "<function <lambda> at 0x10e551790>\n"
     ]
    }
   ],
   "source": [
    "print(max_find_2)"
   ]
  },
  {
   "cell_type": "code",
   "execution_count": 37,
   "id": "cb329e7e",
   "metadata": {},
   "outputs": [
    {
     "data": {
      "text/plain": [
       "668"
      ]
     },
     "execution_count": 37,
     "metadata": {},
     "output_type": "execute_result"
    }
   ],
   "source": [
    "# Aplicando o objeto do tipo lambda, a funcao reduce\n",
    "reduce(max_find_2, lista)"
   ]
  },
  {
   "cell_type": "code",
   "execution_count": 1,
   "id": "76a80ad2",
   "metadata": {},
   "outputs": [],
   "source": [
    "# Filter - filtra os elementos de uma sequencia para os quais a funcao retorne True\n",
    "# filter (funcao, sequencia)"
   ]
  },
  {
   "cell_type": "code",
   "execution_count": 2,
   "id": "d9054591",
   "metadata": {},
   "outputs": [],
   "source": [
    "# Funcao para retornar True ou False de um numero\n",
    "def imparPar(num):\n",
    "    if num % 2 == 0:\n",
    "        return True\n",
    "    else:\n",
    "        return False"
   ]
  },
  {
   "cell_type": "code",
   "execution_count": 3,
   "id": "26de18ac",
   "metadata": {},
   "outputs": [
    {
     "data": {
      "text/plain": [
       "False"
      ]
     },
     "execution_count": 3,
     "metadata": {},
     "output_type": "execute_result"
    }
   ],
   "source": [
    "imparPar(35)"
   ]
  },
  {
   "cell_type": "code",
   "execution_count": 4,
   "id": "858f93ff",
   "metadata": {},
   "outputs": [],
   "source": [
    "lista = [0, 1, 2, 3, 4, 5, 6, 7, 8, 9, 10]"
   ]
  },
  {
   "cell_type": "code",
   "execution_count": 7,
   "id": "5c95e6ce",
   "metadata": {},
   "outputs": [
    {
     "data": {
      "text/plain": [
       "[0, 2, 4, 6, 8, 10]"
      ]
     },
     "execution_count": 7,
     "metadata": {},
     "output_type": "execute_result"
    }
   ],
   "source": [
    "# Aplicando a funcao filter - retornados os valores da lista que eram iguais a True\n",
    "list(filter(imparPar, lista))"
   ]
  },
  {
   "cell_type": "code",
   "execution_count": 9,
   "id": "1dd1e023",
   "metadata": {},
   "outputs": [
    {
     "data": {
      "text/plain": [
       "[0, 2, 4, 6, 8, 10]"
      ]
     },
     "execution_count": 9,
     "metadata": {},
     "output_type": "execute_result"
    }
   ],
   "source": [
    "# Filter em uma expressao lambda\n",
    "list(filter(lambda x: True if x % 2 == 0 else False, lista))"
   ]
  },
  {
   "cell_type": "code",
   "execution_count": 11,
   "id": "6df9ed79",
   "metadata": {},
   "outputs": [
    {
     "data": {
      "text/plain": [
       "[2, 3, 4]"
      ]
     },
     "execution_count": 11,
     "metadata": {},
     "output_type": "execute_result"
    }
   ],
   "source": [
    "# Outras verificacoes\n",
    "list(filter(lambda num: True if num >= 2 and num <= 4 else False, lista))"
   ]
  },
  {
   "cell_type": "code",
   "execution_count": null,
   "id": "693c2960",
   "metadata": {},
   "outputs": [],
   "source": []
  }
 ],
 "metadata": {
  "kernelspec": {
   "display_name": "Python 3",
   "language": "python",
   "name": "python3"
  },
  "language_info": {
   "codemirror_mode": {
    "name": "ipython",
    "version": 3
   },
   "file_extension": ".py",
   "mimetype": "text/x-python",
   "name": "python",
   "nbconvert_exporter": "python",
   "pygments_lexer": "ipython3",
   "version": "3.8.8"
  }
 },
 "nbformat": 4,
 "nbformat_minor": 5
}
