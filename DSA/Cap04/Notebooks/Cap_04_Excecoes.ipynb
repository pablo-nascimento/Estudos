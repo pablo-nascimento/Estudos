{
 "cells": [
  {
   "cell_type": "code",
   "execution_count": null,
   "id": "26d02960",
   "metadata": {},
   "outputs": [],
   "source": [
    "# Curso Python Fundamentos para Analise de Dados - DSA\n",
    "# Tratamento de Excecoes - 27.09.2022 - 23h06"
   ]
  },
  {
   "cell_type": "code",
   "execution_count": null,
   "id": "00c08d7b",
   "metadata": {},
   "outputs": [],
   "source": [
    "# Tratamento de Erros\n",
    "'''\n",
    "try\n",
    "    bloco de instrucões\n",
    "except excecao_1:\n",
    "    bloco de instrucoes\n",
    "except excecao_2:\n",
    "    bloco de instruçòes\n",
    "else:\n",
    "    caso nao caia nas exceções acima, é possível configurar uma mensagem mais simples, \n",
    "    por exemplo\n",
    "\n",
    "'''"
   ]
  },
  {
   "cell_type": "code",
   "execution_count": null,
   "id": "455fee8e",
   "metadata": {},
   "outputs": [],
   "source": [
    "# operacao invalida\n",
    "98 + 'sss'\n"
   ]
  },
  {
   "cell_type": "code",
   "execution_count": null,
   "id": "b0a8ea27",
   "metadata": {},
   "outputs": [],
   "source": [
    "# Tratando a exceção acima com o try - except\n",
    "try:\n",
    "    8 + 'ab'\n",
    "except TypeError:\n",
    "    print(\"Soma entre inteiro e string é inválida.\")"
   ]
  },
  {
   "cell_type": "code",
   "execution_count": null,
   "id": "f60f56d1",
   "metadata": {},
   "outputs": [],
   "source": [
    "# Utilizando o try - except para abrir um arquivo\n",
    "try:\n",
    "    arquivo = open(\"arquivos/testandoerros\", \"r\") # adicionar a extensao do arquivo\n",
    "    arquivo.write(\"Gravando mais informações, enquanto estudo Tratamento de Erros\")\n",
    "except IOError: # Erro de entrada e saída.\n",
    "    print(\"Erro!! Arquivo não localizado.\")\n",
    "else:\n",
    "    print(\"Conteúdo gravado com sucesso.\")\n",
    "    arquivo.close()"
   ]
  },
  {
   "cell_type": "code",
   "execution_count": null,
   "id": "d04ba489",
   "metadata": {},
   "outputs": [],
   "source": [
    "# Adicionando o comando finally - tudo o que estiver depois do finally, será executado\n",
    "# independentemente do erro\n",
    "try:\n",
    "    arquivo = open(\"arquivos/testandoerros.txt\", \"w\")\n",
    "    arquivo.write(\"Estudando tratamento de erros.\")\n",
    "except IOError:\n",
    "    print(\"Arquivo não encontrado.\")\n",
    "else:\n",
    "    print(\"Conteudo gravado com sucesso\")\n",
    "    arquivo.close()\n",
    "finally:\n",
    "    print(\"Trecho do bloco finally.\")"
   ]
  },
  {
   "cell_type": "code",
   "execution_count": null,
   "id": "64a9e060",
   "metadata": {},
   "outputs": [],
   "source": [
    "# Primeira versao da funcao - coleta um numero, ou entra na excecao\n",
    "# dando erro em caso de campo vazio\n",
    "def digiteNum():\n",
    "    try: # bloco try \n",
    "        num = int(input(\"Digite um número: \")) # coletando o numero\n",
    "    except UnboundLocalError:\n",
    "        print(\"Não foi digitado um numero.\")\n",
    "    finally:\n",
    "        print(\"Finalizado.\")\n",
    "        print(num)\n",
    "    \n",
    "    "
   ]
  },
  {
   "cell_type": "code",
   "execution_count": null,
   "id": "c785a876",
   "metadata": {},
   "outputs": [],
   "source": [
    "digiteNum()"
   ]
  },
  {
   "cell_type": "code",
   "execution_count": null,
   "id": "825cb80b",
   "metadata": {},
   "outputs": [],
   "source": [
    "# Segunda versao - ainda nao totalmente funcional\n",
    "def digiteNum():\n",
    "    try:\n",
    "        num = int(input(\"Digite um número: \"))\n",
    "    except:\n",
    "        print(\"Não foi digitado um numero.\")\n",
    "        num = int(input(\"Digite um número: \")) \n",
    "        # Feita nova coleta do numero, mas ainda mostra o erro.\n",
    "    finally:\n",
    "        print(\"Finalizado.\")\n",
    "        print(num)"
   ]
  },
  {
   "cell_type": "code",
   "execution_count": null,
   "id": "9e47ec79",
   "metadata": {},
   "outputs": [],
   "source": [
    "digiteNum()"
   ]
  },
  {
   "cell_type": "code",
   "execution_count": null,
   "id": "fe795085",
   "metadata": {},
   "outputs": [],
   "source": [
    "def digiteNum():\n",
    "    while True: \n",
    "        # EStrutura de tratamento de excecao, dentro de um laco\n",
    "        # Sendo verdadeiro, entra no try - except\n",
    "        try:\n",
    "            num = int(input(\"Digite um número: \"))\n",
    "        except:\n",
    "            print(\"Não foi digitado um numero.\") # em caso de nao ser digitado um numero\n",
    "            continue # continua no laco\n",
    "        else:\n",
    "            print(\"Foi digitado um numero.\")\n",
    "            break # quebra a repeticao e sai do laco\n",
    "        finally:\n",
    "            print(\"Fim da execução.\\n\")\n",
    "        print(num)\n",
    "        break"
   ]
  },
  {
   "cell_type": "code",
   "execution_count": null,
   "id": "08706744",
   "metadata": {},
   "outputs": [],
   "source": [
    "digiteNum()"
   ]
  },
  {
   "cell_type": "code",
   "execution_count": null,
   "id": "d3d3b5a7",
   "metadata": {},
   "outputs": [],
   "source": []
  }
 ],
 "metadata": {
  "kernelspec": {
   "display_name": "Python 3",
   "language": "python",
   "name": "python3"
  },
  "language_info": {
   "codemirror_mode": {
    "name": "ipython",
    "version": 3
   },
   "file_extension": ".py",
   "mimetype": "text/x-python",
   "name": "python",
   "nbconvert_exporter": "python",
   "pygments_lexer": "ipython3",
   "version": "3.8.8"
  }
 },
 "nbformat": 4,
 "nbformat_minor": 5
}
