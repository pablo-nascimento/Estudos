{
 "cells": [
  {
   "cell_type": "code",
   "execution_count": 1,
   "id": "3453e576",
   "metadata": {},
   "outputs": [],
   "source": [
    "# Curso Python Fundamentos para Analise de Dados - DSA\n",
    "# List Comprehesion - 23.09.2022 - 23h23"
   ]
  },
  {
   "cell_type": "code",
   "execution_count": 2,
   "id": "8850ce35",
   "metadata": {},
   "outputs": [],
   "source": [
    "# construcao de listas com notacao diferente\n",
    "# interacao feita dentro do objeto\n",
    "# lista = [retorna x para cada valor de x dentro de uma dada sequencia]\n",
    "lst = [x for x in \"python\"]"
   ]
  },
  {
   "cell_type": "code",
   "execution_count": 3,
   "id": "8679f17e",
   "metadata": {},
   "outputs": [
    {
     "data": {
      "text/plain": [
       "['p', 'y', 't', 'h', 'o', 'n']"
      ]
     },
     "execution_count": 3,
     "metadata": {},
     "output_type": "execute_result"
    }
   ],
   "source": [
    "lst"
   ]
  },
  {
   "cell_type": "code",
   "execution_count": 7,
   "id": "3a0b42a2",
   "metadata": {},
   "outputs": [],
   "source": [
    "# List Comprehesion com numeros\n",
    "lst_num = [i + 2 for i in range(2, 13)]"
   ]
  },
  {
   "cell_type": "code",
   "execution_count": 8,
   "id": "db8c917b",
   "metadata": {},
   "outputs": [
    {
     "data": {
      "text/plain": [
       "[4, 5, 6, 7, 8, 9, 10, 11, 12, 13, 14]"
      ]
     },
     "execution_count": 8,
     "metadata": {},
     "output_type": "execute_result"
    }
   ],
   "source": [
    "lst_num"
   ]
  },
  {
   "cell_type": "code",
   "execution_count": 9,
   "id": "0f8eb2a3",
   "metadata": {},
   "outputs": [],
   "source": [
    "# Retornando uma dada sequencia de numeros, se este for impar\n",
    "lst_impar = [x for x in range(1, 21) if x % 2 == 1]"
   ]
  },
  {
   "cell_type": "code",
   "execution_count": 10,
   "id": "1b60d7ba",
   "metadata": {},
   "outputs": [
    {
     "data": {
      "text/plain": [
       "[1, 3, 5, 7, 9, 11, 13, 15, 17, 19]"
      ]
     },
     "execution_count": 10,
     "metadata": {},
     "output_type": "execute_result"
    }
   ],
   "source": [
    "lst_impar"
   ]
  },
  {
   "cell_type": "code",
   "execution_count": 21,
   "id": "ea488fde",
   "metadata": {},
   "outputs": [],
   "source": [
    "# Convertendo Fahrenheit para celsius usando list comprehesion\n",
    "fah = [78, 65, 99, 54, 32 ,60]\n",
    "celsius = [(x - 32) / (1.8) for x in fah]"
   ]
  },
  {
   "cell_type": "code",
   "execution_count": 18,
   "id": "1182d529",
   "metadata": {},
   "outputs": [
    {
     "data": {
      "text/plain": [
       "[60.22222222222222,\n",
       " 47.22222222222222,\n",
       " 81.22222222222223,\n",
       " 36.22222222222222,\n",
       " 14.222222222222221,\n",
       " 42.22222222222222]"
      ]
     },
     "execution_count": 18,
     "metadata": {},
     "output_type": "execute_result"
    }
   ],
   "source": [
    "celsius"
   ]
  },
  {
   "cell_type": "code",
   "execution_count": 24,
   "id": "e980f32a",
   "metadata": {},
   "outputs": [],
   "source": [
    "# list comprehension aninhado\n",
    "res = [x + 3 for x in [i for i in range(15) if i % 2 == 0]]"
   ]
  },
  {
   "cell_type": "code",
   "execution_count": 25,
   "id": "2695ee15",
   "metadata": {},
   "outputs": [
    {
     "data": {
      "text/plain": [
       "[3, 5, 7, 9, 11, 13, 15, 17]"
      ]
     },
     "execution_count": 25,
     "metadata": {},
     "output_type": "execute_result"
    }
   ],
   "source": [
    "res"
   ]
  },
  {
   "cell_type": "code",
   "execution_count": null,
   "id": "38a4a900",
   "metadata": {},
   "outputs": [],
   "source": []
  }
 ],
 "metadata": {
  "kernelspec": {
   "display_name": "Python 3",
   "language": "python",
   "name": "python3"
  },
  "language_info": {
   "codemirror_mode": {
    "name": "ipython",
    "version": 3
   },
   "file_extension": ".py",
   "mimetype": "text/x-python",
   "name": "python",
   "nbconvert_exporter": "python",
   "pygments_lexer": "ipython3",
   "version": "3.8.8"
  }
 },
 "nbformat": 4,
 "nbformat_minor": 5
}
