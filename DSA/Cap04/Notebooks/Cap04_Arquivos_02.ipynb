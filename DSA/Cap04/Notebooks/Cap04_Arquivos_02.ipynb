{
 "cells": [
  {
   "cell_type": "code",
   "execution_count": 2,
   "id": "d832b8be",
   "metadata": {},
   "outputs": [],
   "source": [
    "# Curso Python Fundamentos para Analise de Dados - DSA\n",
    "# Manipulando arquivos - segunda parte - 12.09.2022 - 15h30\n",
    "# Manipulando txt, csv e json"
   ]
  },
  {
   "cell_type": "code",
   "execution_count": 3,
   "id": "f7b74141",
   "metadata": {},
   "outputs": [],
   "source": [
    "# Manipulando arquivos TXT\n",
    "# String texto\n",
    "texto = \"Cientista de Dados é a profissão que mais tem crescido em todo mundo.\\n\"\n",
    "texto = texto + \"Esses profissionais precisam se especializar em Programação, Estatística e Machine Learning.\\n\"\n",
    "texto += \"E claro, em Big Data.\""
   ]
  },
  {
   "cell_type": "code",
   "execution_count": 4,
   "id": "0d3bc50a",
   "metadata": {},
   "outputs": [
    {
     "name": "stdout",
     "output_type": "stream",
     "text": [
      "Cientista de Dados é a profissão que mais tem crescido em todo mundo.\n",
      "Esses profissionais precisam se especializar em Programação, Estatística e Machine Learning.\n",
      "E claro, em Big Data.\n"
     ]
    }
   ],
   "source": [
    "print(texto)"
   ]
  },
  {
   "cell_type": "code",
   "execution_count": 6,
   "id": "b233496f",
   "metadata": {},
   "outputs": [],
   "source": [
    "# Importando o modulo os - para manipular o SO.\n",
    "import os"
   ]
  },
  {
   "cell_type": "code",
   "execution_count": 7,
   "id": "834ce1dc",
   "metadata": {},
   "outputs": [],
   "source": [
    "# Criando um arquivo - em caso do arquivo nao existir, será criado automaticamente, quando \n",
    "# aberto para escrita\n",
    "arquivo = open(os.path.join(\"arquivos/cientista.txt\"), \"w\")"
   ]
  },
  {
   "cell_type": "code",
   "execution_count": 9,
   "id": "8b333070",
   "metadata": {},
   "outputs": [],
   "source": [
    "# Gravando os dados no arquivo\n",
    "# Sem parametros, o split sera feito com os espacos em branco.\n",
    "for word in texto.split():\n",
    "    arquivo.write(word+ \" \")"
   ]
  },
  {
   "cell_type": "code",
   "execution_count": 10,
   "id": "ecd71c00",
   "metadata": {},
   "outputs": [],
   "source": [
    "# Fechando o arquivo.\n",
    "arquivo.close()"
   ]
  },
  {
   "cell_type": "code",
   "execution_count": 11,
   "id": "9478cc2e",
   "metadata": {},
   "outputs": [
    {
     "name": "stdout",
     "output_type": "stream",
     "text": [
      "Cientista de Dados é a profissão que mais tem crescido em todo mundo. Esses profissionais precisam se especializar em Programação, Estatística e Machine Learning. E claro, em Big Data. \n"
     ]
    }
   ],
   "source": [
    "# Abrindo o arquivo para leitura.\n",
    "arquivo = open(\"arquivos/cientista.txt\", \"r\")\n",
    "\n",
    "# Atribuindo a leitura ao objeto conteudo\n",
    "conteudo = arquivo.read()\n",
    "\n",
    "# Fechando o arquivo\n",
    "arquivo.close()\n",
    "\n",
    "# Saida da variavel conteudo\n",
    "print(conteudo)"
   ]
  },
  {
   "cell_type": "code",
   "execution_count": 16,
   "id": "476ac550",
   "metadata": {},
   "outputs": [
    {
     "name": "stdout",
     "output_type": "stream",
     "text": [
      "Cientista de Dados é a profissão que mais tem crescido em todo mundo. Esses profissionais precisam se especializar em Programação, Estatística e Machine Learning. E claro, em Big Data. \n"
     ]
    }
   ],
   "source": [
    "# usando o with\n",
    "# with open (caminho do arquivo, modo leitura) as nome_alias_arquivo:\n",
    "with open(\"arquivos/cientista.txt\", \"r\") as arquivo:\n",
    "    conteudo = arquivo.read()\n",
    "print(conteudo)"
   ]
  },
  {
   "cell_type": "code",
   "execution_count": 17,
   "id": "9419b903",
   "metadata": {},
   "outputs": [
    {
     "name": "stdout",
     "output_type": "stream",
     "text": [
      "185\n"
     ]
    }
   ],
   "source": [
    "print(len(conteudo))"
   ]
  },
  {
   "cell_type": "code",
   "execution_count": 18,
   "id": "aba18ee4",
   "metadata": {},
   "outputs": [],
   "source": [
    "# Fazendo o slicing no conteudo do arquivo txt.\n",
    "with open(\"arquivos/cientista.txt\", \"w\") as arquivo:\n",
    "    arquivo.write(texto[:21]) # Gravando apenas os primeiros caracteres\n",
    "    arquivo.write(\"\\n\") # Quebra de linha\n",
    "    arquivo.write(texto[:33]) "
   ]
  },
  {
   "cell_type": "code",
   "execution_count": 19,
   "id": "3b3156a8",
   "metadata": {},
   "outputs": [
    {
     "name": "stdout",
     "output_type": "stream",
     "text": [
      "Cientista de Dados é \n",
      "Cientista de Dados é a profissão \n"
     ]
    }
   ],
   "source": [
    "# Lendo o arquivo\n",
    "with open(\"arquivos/cientista.txt\", \"r\") as arquivo:\n",
    "    conteudo = arquivo.read()\n",
    "print(conteudo)"
   ]
  },
  {
   "cell_type": "code",
   "execution_count": 20,
   "id": "04134dff",
   "metadata": {},
   "outputs": [],
   "source": [
    "# Manipulando os arquivos CSV\n"
   ]
  },
  {
   "cell_type": "code",
   "execution_count": 21,
   "id": "0b1e7a1a",
   "metadata": {},
   "outputs": [],
   "source": [
    "# Importando o pacote csv\n",
    "import csv"
   ]
  },
  {
   "cell_type": "code",
   "execution_count": 26,
   "id": "9c22d4b1",
   "metadata": {},
   "outputs": [],
   "source": [
    "# Abrindo o arquivo csv\n",
    "# Realizando a escrita atraves do writerow\n",
    "with open(\"arquivos/numeros.csv\", \"w\") as arquivo:\n",
    "    writer = csv.writer(arquivo) # Metodo writer recebendo o arquivo lido acima\n",
    "    writer.writerow((\"primeira\",\"segunda\",\"terceira\")) # Escrevendo linha a linha\n",
    "    writer.writerow((43,22,56))\n",
    "    writer.writerow((12,34,56))"
   ]
  },
  {
   "cell_type": "code",
   "execution_count": 28,
   "id": "7e9e2223",
   "metadata": {},
   "outputs": [
    {
     "name": "stdout",
     "output_type": "stream",
     "text": [
      "Colunas:  3\n",
      "['primeira', 'segunda', 'terceira']\n",
      "Colunas:  3\n",
      "['43', '22', '56']\n",
      "Colunas:  3\n",
      "['12', '34', '56']\n"
     ]
    }
   ],
   "source": [
    "# Leitura do arquivo csv\n",
    "with open(\"arquivos/numeros.csv\", \"r\") as arquivo:\n",
    "    reader = csv.reader(arquivo)\n",
    "    # Percorrendo a leitura acima\n",
    "    for x in reader:\n",
    "        print(\"Colunas: \", len(x)) # Contando as colunas com o metodo len\n",
    "        print(x) # Imprimindo cada coluna"
   ]
  },
  {
   "cell_type": "code",
   "execution_count": 29,
   "id": "c28de8fd",
   "metadata": {},
   "outputs": [
    {
     "name": "stdout",
     "output_type": "stream",
     "text": [
      "[['primeira', 'segunda', 'terceira'], ['43', '22', '56'], ['12', '34', '56']]\n"
     ]
    }
   ],
   "source": [
    "# Gerando uma lista com dados lidos a partir de um arquivo csv\n",
    "with open(\"arquivos/numeros.csv\", \"r\") as arquivo:\n",
    "    reader = csv.reader(arquivo)\n",
    "    data_list = list(reader)\n",
    "print(data_list)"
   ]
  },
  {
   "cell_type": "code",
   "execution_count": 31,
   "id": "41f00cbb",
   "metadata": {},
   "outputs": [
    {
     "name": "stdout",
     "output_type": "stream",
     "text": [
      "['43', '22', '56']\n",
      "['12', '34', '56']\n"
     ]
    }
   ],
   "source": [
    "# Percorrendo a lista acima gerada a partir da SEGUNDA posicao\n",
    "for i in data_list[1:]:\n",
    "    print(i)"
   ]
  },
  {
   "cell_type": "code",
   "execution_count": null,
   "id": "fac1de79",
   "metadata": {},
   "outputs": [],
   "source": []
  }
 ],
 "metadata": {
  "kernelspec": {
   "display_name": "Python 3",
   "language": "python",
   "name": "python3"
  },
  "language_info": {
   "codemirror_mode": {
    "name": "ipython",
    "version": 3
   },
   "file_extension": ".py",
   "mimetype": "text/x-python",
   "name": "python",
   "nbconvert_exporter": "python",
   "pygments_lexer": "ipython3",
   "version": "3.8.8"
  }
 },
 "nbformat": 4,
 "nbformat_minor": 5
}
