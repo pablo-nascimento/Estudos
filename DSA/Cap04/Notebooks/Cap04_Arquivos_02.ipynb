{
 "cells": [
  {
   "cell_type": "code",
   "execution_count": 2,
   "id": "d07043b6",
   "metadata": {},
   "outputs": [],
   "source": [
    "# Curso Python Fundamentos para Analise de Dados - DSA\n",
    "# Manipulando arquivos - segunda parte - 12.09.2022 - 15h30\n",
    "# Manipulando txt, csv e json"
   ]
  },
  {
   "cell_type": "code",
   "execution_count": 3,
   "id": "d8964613",
   "metadata": {},
   "outputs": [],
   "source": [
    "# Manipulando arquivos TXT\n",
    "# String texto\n",
    "texto = \"Cientista de Dados é a profissão que mais tem crescido em todo mundo.\\n\"\n",
    "texto = texto + \"Esses profissionais precisam se especializar em Programação, Estatística e Machine Learning.\\n\"\n",
    "texto += \"E claro, em Big Data.\""
   ]
  },
  {
   "cell_type": "code",
   "execution_count": 4,
   "id": "ce45a84c",
   "metadata": {},
   "outputs": [
    {
     "name": "stdout",
     "output_type": "stream",
     "text": [
      "Cientista de Dados é a profissão que mais tem crescido em todo mundo.\n",
      "Esses profissionais precisam se especializar em Programação, Estatística e Machine Learning.\n",
      "E claro, em Big Data.\n"
     ]
    }
   ],
   "source": [
    "print(texto)"
   ]
  },
  {
   "cell_type": "code",
   "execution_count": 6,
   "id": "05287eed",
   "metadata": {},
   "outputs": [],
   "source": [
    "# Importando o modulo os - para manipular o SO.\n",
    "import os"
   ]
  },
  {
   "cell_type": "code",
   "execution_count": 7,
   "id": "4e878060",
   "metadata": {},
   "outputs": [],
   "source": [
    "# Criando um arquivo - em caso do arquivo nao existir, será criado automaticamente, quando \n",
    "# aberto para escrita\n",
    "arquivo = open(os.path.join(\"arquivos/cientista.txt\"), \"w\")"
   ]
  },
  {
   "cell_type": "code",
   "execution_count": 9,
   "id": "ff1ee28c",
   "metadata": {},
   "outputs": [],
   "source": [
    "# Gravando os dados no arquivo\n",
    "# Sem parametros, o split sera feito com os espacos em branco.\n",
    "for word in texto.split():\n",
    "    arquivo.write(word+ \" \")"
   ]
  },
  {
   "cell_type": "code",
   "execution_count": 10,
   "id": "1d920ec3",
   "metadata": {},
   "outputs": [],
   "source": [
    "# Fechando o arquivo.\n",
    "arquivo.close()"
   ]
  },
  {
   "cell_type": "code",
   "execution_count": 11,
   "id": "720d5c5f",
   "metadata": {},
   "outputs": [
    {
     "name": "stdout",
     "output_type": "stream",
     "text": [
      "Cientista de Dados é a profissão que mais tem crescido em todo mundo. Esses profissionais precisam se especializar em Programação, Estatística e Machine Learning. E claro, em Big Data. \n"
     ]
    }
   ],
   "source": [
    "# Abrindo o arquivo para leitura.\n",
    "arquivo = open(\"arquivos/cientista.txt\", \"r\")\n",
    "\n",
    "# Atribuindo a leitura ao objeto conteudo\n",
    "conteudo = arquivo.read()\n",
    "\n",
    "# Fechando o arquivo\n",
    "arquivo.close()\n",
    "\n",
    "# Saida da variavel conteudo\n",
    "print(conteudo)"
   ]
  },
  {
   "cell_type": "code",
   "execution_count": 16,
   "id": "4a91fc5a",
   "metadata": {},
   "outputs": [
    {
     "name": "stdout",
     "output_type": "stream",
     "text": [
      "Cientista de Dados é a profissão que mais tem crescido em todo mundo. Esses profissionais precisam se especializar em Programação, Estatística e Machine Learning. E claro, em Big Data. \n"
     ]
    }
   ],
   "source": [
    "# usando o with\n",
    "# with open (caminho do arquivo, modo leitura) as nome_alias_arquivo:\n",
    "with open(\"arquivos/cientista.txt\", \"r\") as arquivo:\n",
    "    conteudo = arquivo.read()\n",
    "print(conteudo)"
   ]
  },
  {
   "cell_type": "code",
   "execution_count": 17,
   "id": "cef5586e",
   "metadata": {},
   "outputs": [
    {
     "name": "stdout",
     "output_type": "stream",
     "text": [
      "185\n"
     ]
    }
   ],
   "source": [
    "print(len(conteudo))"
   ]
  },
  {
   "cell_type": "code",
   "execution_count": 18,
   "id": "d5bc12ea",
   "metadata": {},
   "outputs": [],
   "source": [
    "# Fazendo o slicing no conteudo do arquivo txt.\n",
    "with open(\"arquivos/cientista.txt\", \"w\") as arquivo:\n",
    "    arquivo.write(texto[:21]) # Gravando apenas os primeiros caracteres\n",
    "    arquivo.write(\"\\n\") # Quebra de linha\n",
    "    arquivo.write(texto[:33]) "
   ]
  },
  {
   "cell_type": "code",
   "execution_count": 19,
   "id": "02112977",
   "metadata": {},
   "outputs": [
    {
     "name": "stdout",
     "output_type": "stream",
     "text": [
      "Cientista de Dados é \n",
      "Cientista de Dados é a profissão \n"
     ]
    }
   ],
   "source": [
    "# Lendo o arquivo\n",
    "with open(\"arquivos/cientista.txt\", \"r\") as arquivo:\n",
    "    conteudo = arquivo.read()\n",
    "print(conteudo)"
   ]
  },
  {
   "cell_type": "code",
   "execution_count": null,
   "id": "a7681148",
   "metadata": {},
   "outputs": [],
   "source": []
  }
 ],
 "metadata": {
  "kernelspec": {
   "display_name": "Python 3",
   "language": "python",
   "name": "python3"
  },
  "language_info": {
   "codemirror_mode": {
    "name": "ipython",
    "version": 3
   },
   "file_extension": ".py",
   "mimetype": "text/x-python",
   "name": "python",
   "nbconvert_exporter": "python",
   "pygments_lexer": "ipython3",
   "version": "3.8.8"
  }
 },
 "nbformat": 4,
 "nbformat_minor": 5
}
