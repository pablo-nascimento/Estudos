{
 "cells": [
  {
   "cell_type": "code",
   "execution_count": 2,
   "id": "4555b114",
   "metadata": {},
   "outputs": [],
   "source": [
    "# Curso Python Fundamentos para Analise de Dados - DSA\n",
    "# Manipulando arquivos - segunda parte - 12.09.2022 - 15h30\n",
    "# Manipulando txt, csv e json"
   ]
  },
  {
   "cell_type": "code",
   "execution_count": 3,
   "id": "987493cd",
   "metadata": {},
   "outputs": [],
   "source": [
    "# Manipulando arquivos TXT\n",
    "# String texto\n",
    "texto = \"Cientista de Dados é a profissão que mais tem crescido em todo mundo.\\n\"\n",
    "texto = texto + \"Esses profissionais precisam se especializar em Programação, Estatística e Machine Learning.\\n\"\n",
    "texto += \"E claro, em Big Data.\""
   ]
  },
  {
   "cell_type": "code",
   "execution_count": 4,
   "id": "ea5f2b94",
   "metadata": {},
   "outputs": [
    {
     "name": "stdout",
     "output_type": "stream",
     "text": [
      "Cientista de Dados é a profissão que mais tem crescido em todo mundo.\n",
      "Esses profissionais precisam se especializar em Programação, Estatística e Machine Learning.\n",
      "E claro, em Big Data.\n"
     ]
    }
   ],
   "source": [
    "print(texto)"
   ]
  },
  {
   "cell_type": "code",
   "execution_count": 6,
   "id": "4c81ec34",
   "metadata": {},
   "outputs": [],
   "source": [
    "# Importando o modulo os - para manipular o SO.\n",
    "import os"
   ]
  },
  {
   "cell_type": "code",
   "execution_count": 7,
   "id": "31ec39c9",
   "metadata": {},
   "outputs": [],
   "source": [
    "# Criando um arquivo - em caso do arquivo nao existir, será criado automaticamente, quando \n",
    "# aberto para escrita\n",
    "arquivo = open(os.path.join(\"arquivos/cientista.txt\"), \"w\")"
   ]
  },
  {
   "cell_type": "code",
   "execution_count": 9,
   "id": "8c8ccaf2",
   "metadata": {},
   "outputs": [],
   "source": [
    "# Gravando os dados no arquivo\n",
    "# Sem parametros, o split sera feito com os espacos em branco.\n",
    "for word in texto.split():\n",
    "    arquivo.write(word+ \" \")"
   ]
  },
  {
   "cell_type": "code",
   "execution_count": 10,
   "id": "b775f4e7",
   "metadata": {},
   "outputs": [],
   "source": [
    "# Fechando o arquivo.\n",
    "arquivo.close()"
   ]
  },
  {
   "cell_type": "code",
   "execution_count": 11,
   "id": "a08ff6d5",
   "metadata": {},
   "outputs": [
    {
     "name": "stdout",
     "output_type": "stream",
     "text": [
      "Cientista de Dados é a profissão que mais tem crescido em todo mundo. Esses profissionais precisam se especializar em Programação, Estatística e Machine Learning. E claro, em Big Data. \n"
     ]
    }
   ],
   "source": [
    "# Abrindo o arquivo para leitura.\n",
    "arquivo = open(\"arquivos/cientista.txt\", \"r\")\n",
    "\n",
    "# Atribuindo a leitura ao objeto conteudo\n",
    "conteudo = arquivo.read()\n",
    "\n",
    "# Fechando o arquivo\n",
    "arquivo.close()\n",
    "\n",
    "# Saida da variavel conteudo\n",
    "print(conteudo)"
   ]
  },
  {
   "cell_type": "code",
   "execution_count": 16,
   "id": "5af4597b",
   "metadata": {},
   "outputs": [
    {
     "name": "stdout",
     "output_type": "stream",
     "text": [
      "Cientista de Dados é a profissão que mais tem crescido em todo mundo. Esses profissionais precisam se especializar em Programação, Estatística e Machine Learning. E claro, em Big Data. \n"
     ]
    }
   ],
   "source": [
    "# usando o with\n",
    "# with open (caminho do arquivo, modo leitura) as nome_alias_arquivo:\n",
    "with open(\"arquivos/cientista.txt\", \"r\") as arquivo:\n",
    "    conteudo = arquivo.read()\n",
    "print(conteudo)"
   ]
  },
  {
   "cell_type": "code",
   "execution_count": 17,
   "id": "b4f62279",
   "metadata": {},
   "outputs": [
    {
     "name": "stdout",
     "output_type": "stream",
     "text": [
      "185\n"
     ]
    }
   ],
   "source": [
    "print(len(conteudo))"
   ]
  },
  {
   "cell_type": "code",
   "execution_count": 18,
   "id": "b04beac4",
   "metadata": {},
   "outputs": [],
   "source": [
    "# Fazendo o slicing no conteudo do arquivo txt.\n",
    "with open(\"arquivos/cientista.txt\", \"w\") as arquivo:\n",
    "    arquivo.write(texto[:21]) # Gravando apenas os primeiros caracteres\n",
    "    arquivo.write(\"\\n\") # Quebra de linha\n",
    "    arquivo.write(texto[:33]) "
   ]
  },
  {
   "cell_type": "code",
   "execution_count": 19,
   "id": "45ddc66d",
   "metadata": {},
   "outputs": [
    {
     "name": "stdout",
     "output_type": "stream",
     "text": [
      "Cientista de Dados é \n",
      "Cientista de Dados é a profissão \n"
     ]
    }
   ],
   "source": [
    "# Lendo o arquivo\n",
    "with open(\"arquivos/cientista.txt\", \"r\") as arquivo:\n",
    "    conteudo = arquivo.read()\n",
    "print(conteudo)"
   ]
  },
  {
   "cell_type": "code",
   "execution_count": 20,
   "id": "b920a406",
   "metadata": {},
   "outputs": [],
   "source": [
    "# Manipulando os arquivos CSV\n"
   ]
  },
  {
   "cell_type": "code",
   "execution_count": 21,
   "id": "f55dc66e",
   "metadata": {},
   "outputs": [],
   "source": [
    "# Importando o pacote csv\n",
    "import csv"
   ]
  },
  {
   "cell_type": "code",
   "execution_count": 26,
   "id": "3ec3cc8e",
   "metadata": {},
   "outputs": [],
   "source": [
    "# Abrindo o arquivo csv\n",
    "# Realizando a escrita atraves do writerow\n",
    "with open(\"arquivos/numeros.csv\", \"w\") as arquivo:\n",
    "    writer = csv.writer(arquivo) # Metodo writer recebendo o arquivo lido acima\n",
    "    writer.writerow((\"primeira\",\"segunda\",\"terceira\")) # Escrevendo linha a linha\n",
    "    writer.writerow((43,22,56))\n",
    "    writer.writerow((12,34,56))"
   ]
  },
  {
   "cell_type": "code",
   "execution_count": 28,
   "id": "8ca53965",
   "metadata": {},
   "outputs": [
    {
     "name": "stdout",
     "output_type": "stream",
     "text": [
      "Colunas:  3\n",
      "['primeira', 'segunda', 'terceira']\n",
      "Colunas:  3\n",
      "['43', '22', '56']\n",
      "Colunas:  3\n",
      "['12', '34', '56']\n"
     ]
    }
   ],
   "source": [
    "# Leitura do arquivo csv\n",
    "with open(\"arquivos/numeros.csv\", \"r\") as arquivo:\n",
    "    reader = csv.reader(arquivo)\n",
    "    # Percorrendo a leitura acima\n",
    "    for x in reader:\n",
    "        print(\"Colunas: \", len(x)) # Contando as colunas com o metodo len\n",
    "        print(x) # Imprimindo cada coluna"
   ]
  },
  {
   "cell_type": "code",
   "execution_count": 29,
   "id": "4f7e60bc",
   "metadata": {},
   "outputs": [
    {
     "name": "stdout",
     "output_type": "stream",
     "text": [
      "[['primeira', 'segunda', 'terceira'], ['43', '22', '56'], ['12', '34', '56']]\n"
     ]
    }
   ],
   "source": [
    "# Gerando uma lista com dados lidos a partir de um arquivo csv\n",
    "with open(\"arquivos/numeros.csv\", \"r\") as arquivo:\n",
    "    reader = csv.reader(arquivo)\n",
    "    data_list = list(reader)\n",
    "print(data_list)"
   ]
  },
  {
   "cell_type": "code",
   "execution_count": 31,
   "id": "b920acec",
   "metadata": {},
   "outputs": [
    {
     "name": "stdout",
     "output_type": "stream",
     "text": [
      "['43', '22', '56']\n",
      "['12', '34', '56']\n"
     ]
    }
   ],
   "source": [
    "# Percorrendo a lista acima gerada a partir da SEGUNDA posicao\n",
    "for i in data_list[1:]:\n",
    "    print(i)"
   ]
  },
  {
   "cell_type": "code",
   "execution_count": null,
   "id": "3d3bee85",
   "metadata": {},
   "outputs": [],
   "source": [
    "# Manipulando Arquivos JSON"
   ]
  },
  {
   "cell_type": "code",
   "execution_count": 32,
   "id": "1a08aaa1",
   "metadata": {},
   "outputs": [],
   "source": [
    "# Dicionario em Python\n",
    "# Criando um dicionário\n",
    "dict = {'nome': 'Guido van Rossum',\n",
    "        'linguagem': 'Python',\n",
    "        'similar': ['c','Modula-3','lisp'],\n",
    "        'users': 1000000}"
   ]
  },
  {
   "cell_type": "code",
   "execution_count": 35,
   "id": "753fce8d",
   "metadata": {},
   "outputs": [
    {
     "name": "stdout",
     "output_type": "stream",
     "text": [
      "nome Guido van Rossum\n",
      "linguagem Python\n",
      "similar ['c', 'Modula-3', 'lisp']\n",
      "users 1000000\n"
     ]
    }
   ],
   "source": [
    "# Percorrendo o dicionario acima, imprimindo chave e valor.\n",
    "for k, v in dict.items():\n",
    "    print(k, v)"
   ]
  },
  {
   "cell_type": "code",
   "execution_count": 36,
   "id": "c3eda04b",
   "metadata": {},
   "outputs": [],
   "source": [
    "# Importando o modulo json\n",
    "import json"
   ]
  },
  {
   "cell_type": "code",
   "execution_count": 37,
   "id": "3385d92d",
   "metadata": {},
   "outputs": [
    {
     "data": {
      "text/plain": [
       "'{\"nome\": \"Guido van Rossum\", \"linguagem\": \"Python\", \"similar\": [\"c\", \"Modula-3\", \"lisp\"], \"users\": 1000000}'"
      ]
     },
     "execution_count": 37,
     "metadata": {},
     "output_type": "execute_result"
    }
   ],
   "source": [
    "# Convertendo um dicionario de dados para um arquivo json\n",
    "json.dumps(dict)"
   ]
  },
  {
   "cell_type": "code",
   "execution_count": 38,
   "id": "d889f9f5",
   "metadata": {},
   "outputs": [],
   "source": [
    "# Criando um arquivo json\n",
    "with open(\"arquivos/dados.json\", \"w\") as arquivo:\n",
    "    arquivo.write(json.dumps(dict)) # Escrevendo no arquivo a conversao do dicionario em .json"
   ]
  },
  {
   "cell_type": "code",
   "execution_count": 43,
   "id": "99b6700b",
   "metadata": {},
   "outputs": [
    {
     "name": "stdout",
     "output_type": "stream",
     "text": [
      "{'nome': 'Guido van Rossum', 'linguagem': 'Python', 'similar': ['c', 'Modula-3', 'lisp'], 'users': 1000000}\n"
     ]
    },
    {
     "data": {
      "text/plain": [
       "dict"
      ]
     },
     "execution_count": 43,
     "metadata": {},
     "output_type": "execute_result"
    }
   ],
   "source": [
    "# Leitura de um arquivo json\n",
    "with open(\"arquivos/dados.json\", \"r\") as arquivo:\n",
    "    texto = arquivo.read() # Lendo o arquivo\n",
    "    data = json.loads(texto) # Carregando a leitura no objeto data\n",
    "print(data)\n",
    "type(data)"
   ]
  },
  {
   "cell_type": "code",
   "execution_count": 44,
   "id": "c3bd27e6",
   "metadata": {},
   "outputs": [
    {
     "name": "stdout",
     "output_type": "stream",
     "text": [
      "Guido van Rossum\n"
     ]
    }
   ],
   "source": [
    "# Acessando cada valor - por ser dicionario convertido em json\n",
    "print(data[\"nome\"])"
   ]
  },
  {
   "cell_type": "code",
   "execution_count": 46,
   "id": "097ca8f1",
   "metadata": {},
   "outputs": [],
   "source": [
    "# Imprimindo um arquivo Json copiado da internet\n",
    "from urllib.request import urlopen # Importando pacotes\n",
    "\n",
    "# Objeto response - tem a leitura do arquivo json, com a decodificao utf-8\n",
    "response = urlopen(\"http://vimeo.com/api/v2/video/57733101.json\").read().decode('utf8')\n",
    "\n",
    "# Carregando o objeto response no objeto data\n",
    "data = json.loads(response)[0]"
   ]
  },
  {
   "cell_type": "code",
   "execution_count": 48,
   "id": "72de2a19",
   "metadata": {},
   "outputs": [
    {
     "name": "stdout",
     "output_type": "stream",
     "text": [
      "Título:  The Good Man trailer\n",
      "URL:  https://vimeo.com/57733101\n",
      "Duração:  143\n",
      "Número de Visualizações:  6483\n"
     ]
    }
   ],
   "source": [
    "# Acessando cada dado por sua coluna\n",
    "print ('Título: ', data['title'])\n",
    "print ('URL: ', data['url'])\n",
    "print ('Duração: ', data['duration'])\n",
    "print ('Número de Visualizações: ', data['stats_number_of_plays'])"
   ]
  },
  {
   "cell_type": "code",
   "execution_count": 49,
   "id": "f9b1d44c",
   "metadata": {},
   "outputs": [],
   "source": [
    "# Copiando o conteudo de um arquivo para o outro\n",
    "import os\n",
    "\n",
    "fonte = \"arquivos/dados.json\"\n",
    "destino = \"arquivos/json_data.txt\""
   ]
  },
  {
   "cell_type": "code",
   "execution_count": 50,
   "id": "2bf3259d",
   "metadata": {},
   "outputs": [],
   "source": [
    "# Abrindo e copiando o conteudo de um arquivo para outro\n",
    "with open(fonte, \"r\") as read_ar:\n",
    "    text = read_ar.read() # Lendo o arquivo fonte\n",
    "    with open(destino, \"w\") as copy_ar:\n",
    "        copy_ar.write(text) # Escrevendo no arquivo destino"
   ]
  },
  {
   "cell_type": "code",
   "execution_count": 51,
   "id": "d29334fa",
   "metadata": {},
   "outputs": [
    {
     "data": {
      "text/plain": [
       "107"
      ]
     },
     "execution_count": 51,
     "metadata": {},
     "output_type": "execute_result"
    }
   ],
   "source": [
    "# 2 metodo de fazer a operacao acima\n",
    "open(destino, \"w\").write(open(fonte, \"r\").read())"
   ]
  },
  {
   "cell_type": "code",
   "execution_count": null,
   "id": "c0058f8f",
   "metadata": {},
   "outputs": [],
   "source": [
    "# Leitura do arquivo json\n",
    "with open(\"arquivos/json_data.txt\", \"r\") as arquivo:\n",
    "    texto = arquivo.read()\n",
    "    data_json"
   ]
  }
 ],
 "metadata": {
  "kernelspec": {
   "display_name": "Python 3",
   "language": "python",
   "name": "python3"
  },
  "language_info": {
   "codemirror_mode": {
    "name": "ipython",
    "version": 3
   },
   "file_extension": ".py",
   "mimetype": "text/x-python",
   "name": "python",
   "nbconvert_exporter": "python",
   "pygments_lexer": "ipython3",
   "version": "3.8.8"
  }
 },
 "nbformat": 4,
 "nbformat_minor": 5
}
